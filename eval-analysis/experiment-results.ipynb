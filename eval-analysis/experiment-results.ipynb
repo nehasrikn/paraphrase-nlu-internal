{
 "cells": [
  {
   "cell_type": "markdown",
   "id": "8a1193f9",
   "metadata": {},
   "source": [
    "## Load Trained Models"
   ]
  },
  {
   "cell_type": "code",
   "execution_count": 1,
   "id": "f69c4eb5",
   "metadata": {},
   "outputs": [
    {
     "name": "stderr",
     "output_type": "stream",
     "text": [
      "/Users/nehasrikanth/miniconda3/envs/para-nlu/lib/python3.8/site-packages/tqdm/auto.py:22: TqdmWarning: IProgress not found. Please update jupyter and ipywidgets. See https://ipywidgets.readthedocs.io/en/stable/user_install.html\n",
      "  from .autonotebook import tqdm as notebook_tqdm\n"
     ]
    }
   ],
   "source": [
    "from models import TrainedModel\n",
    "import pandas as pd\n",
    "import numpy as np\n",
    "from tqdm import tqdm\n",
    "from sklearn.metrics import accuracy_score\n",
    "\n",
    "tqdm.pandas()"
   ]
  },
  {
   "cell_type": "code",
   "execution_count": 2,
   "id": "a280fe69",
   "metadata": {},
   "outputs": [
    {
     "name": "stdout",
     "output_type": "stream",
     "text": [
      "Loading model from ../modeling/chkpts/roberta-base-anli/\n",
      "Loading model from ../modeling/chkpts/roberta-large-anli/\n"
     ]
    }
   ],
   "source": [
    "roberta_base = TrainedModel(\n",
    "    '../modeling/chkpts/roberta-base-anli/',\n",
    "    cache_dir='../modeling/hf-cache/',\n",
    ")\n",
    "\n",
    "roberta_large = TrainedModel(\n",
    "    '../modeling/chkpts/roberta-large-anli/',\n",
    "    cache_dir='../modeling/hf-cache/',\n",
    ")"
   ]
  },
  {
   "cell_type": "markdown",
   "id": "c9b1e1a1",
   "metadata": {},
   "source": [
    "### Evaluate on full test split"
   ]
  },
  {
   "cell_type": "code",
   "execution_count": null,
   "id": "7e5bb652",
   "metadata": {},
   "outputs": [],
   "source": [
    "test = pd.read_json('/Users/nehasrikanth/Documents/paraphrase-nlu/raw-data/anli/test.jsonl', lines=True)\n",
    "test['label'] = pd.read_csv('/Users/nehasrikanth/Documents/paraphrase-nlu/raw-data/anli/test-labels.lst', header=None)"
   ]
  },
  {
   "cell_type": "code",
   "execution_count": null,
   "id": "ca36a55b",
   "metadata": {},
   "outputs": [],
   "source": [
    "test['base_pred_prob'] = test.progress_apply(\n",
    "    lambda row: roberta_base._get_prediction(\n",
    "        obs1=row['obs1'], obs2=row['obs2'], hyp1=row['hyp1'], hyp2=row['hyp2']\n",
    "    ), axis=1\n",
    ")\n",
    "\n",
    "test['large_pred_prob'] = test.progress_apply(\n",
    "    lambda row: roberta_large._get_prediction(\n",
    "        obs1=row['obs1'], obs2=row['obs2'], hyp1=row['hyp1'], hyp2=row['hyp2']\n",
    "    ), axis=1\n",
    ")"
   ]
  },
  {
   "cell_type": "code",
   "execution_count": null,
   "id": "9f02a1c4",
   "metadata": {},
   "outputs": [],
   "source": [
    "print(accuracy_score(test.label, test['base-pred'].map(lambda a: np.argmax(a) + 1)))\n",
    "print(accuracy_score(test.label, test['large-pred'].map(lambda a: np.argmax(a) + 1)))"
   ]
  },
  {
   "cell_type": "markdown",
   "id": "b6e775ef",
   "metadata": {},
   "source": [
    "Looks like RoBERTa large does significantly better, let's proceed with analysis using that model."
   ]
  },
  {
   "cell_type": "markdown",
   "id": "104bd1cc",
   "metadata": {},
   "source": [
    "## Load paraphrase data and evaluate on original examples"
   ]
  },
  {
   "cell_type": "code",
   "execution_count": 3,
   "id": "f398b859",
   "metadata": {},
   "outputs": [],
   "source": [
    "pilot_paraphrases = pd.read_csv('../annotated-data/abductive/paraphrased_pilot.csv')\n",
    "pilot_paraphrases['paraphrases_by_worker'] = pilot_paraphrases.paraphrases.map(eval)\n",
    "pilot_paraphrases = pilot_paraphrases.drop(columns=['paraphrases', 'processed_assignments'])"
   ]
  },
  {
   "cell_type": "code",
   "execution_count": 4,
   "id": "73f2fed4",
   "metadata": {},
   "outputs": [],
   "source": [
    "annotated = pd.read_csv('zipped_intra_worker_paraphrases_pilot_annotated.csv')\n",
    "annotated = annotated[annotated['invalid?'] == False]"
   ]
  },
  {
   "cell_type": "code",
   "execution_count": 5,
   "id": "cd12c0b7",
   "metadata": {},
   "outputs": [],
   "source": [
    "#annotated.to_csv('validated_intra_worker_paraphrases.csv')"
   ]
  },
  {
   "cell_type": "code",
   "execution_count": null,
   "id": "64b4b5d6",
   "metadata": {},
   "outputs": [],
   "source": [
    "annotated['pred_prob'] = annotated.progress_apply(\n",
    "    lambda row: roberta_large._get_prediction(\n",
    "        obs1=row['obs1'], obs2=row['obs2'], hyp1=row['hyp1'], hyp2=row['hyp2']\n",
    "    ), axis=1\n",
    ")\n",
    "annotated['pred'] = annotated['pred_prob'].map(lambda a: np.argmax(a) + 1)"
   ]
  },
  {
   "cell_type": "code",
   "execution_count": null,
   "id": "cd377f86",
   "metadata": {},
   "outputs": [],
   "source": [
    "annotated"
   ]
  },
  {
   "cell_type": "code",
   "execution_count": null,
   "id": "6915053e",
   "metadata": {},
   "outputs": [],
   "source": [
    "from collections import defaultdict\n",
    "\n",
    "predictions = defaultdict(list)\n",
    "\n",
    "for _, row in annotated.iterrows():\n",
    "    if not row['invalid?']:\n",
    "        predictions[int(row.paraphrase_id.split('.')[0])].append(row.pred)"
   ]
  },
  {
   "cell_type": "code",
   "execution_count": null,
   "id": "c6b77421",
   "metadata": {},
   "outputs": [],
   "source": [
    "pilot_paraphrases['predictions'] = pilot_paraphrases.example_id.map(lambda x: predictions[x])"
   ]
  },
  {
   "cell_type": "code",
   "execution_count": null,
   "id": "0907bbeb",
   "metadata": {},
   "outputs": [],
   "source": [
    "pilot_paraphrases['pred_prob'] = pilot_paraphrases.progress_apply(\n",
    "    lambda row: roberta_large._get_prediction(\n",
    "        obs1=row['obs1'], obs2=row['obs2'], hyp1=row['hyp1'], hyp2=row['hyp2']\n",
    "    ), axis=1\n",
    ")\n",
    "pilot_paraphrases['pred'] = pilot_paraphrases['pred_prob'].map(lambda a: np.argmax(a) + 1)"
   ]
  },
  {
   "cell_type": "code",
   "execution_count": null,
   "id": "7b1e43ee",
   "metadata": {},
   "outputs": [],
   "source": [
    "from collections import Counter\n",
    "\n",
    "sum(Counter([1, 1, 1, 1, 1, 1, 1, 1, 2]).values())"
   ]
  },
  {
   "cell_type": "code",
   "execution_count": null,
   "id": "df605ecd",
   "metadata": {},
   "outputs": [],
   "source": [
    "pilot_paraphrases['group_incorrect_rate'] = pilot_paraphrases.apply(\n",
    "    lambda row: 1 - (Counter(row.predictions)[row.label] / sum(Counter(row.predictions).values()))\n",
    "    ,axis=1\n",
    ")"
   ]
  },
  {
   "cell_type": "code",
   "execution_count": null,
   "id": "9b758bf7",
   "metadata": {},
   "outputs": [],
   "source": [
    "pilot_paraphrases.group_incorrect_rate.plot.hist()"
   ]
  },
  {
   "cell_type": "code",
   "execution_count": null,
   "id": "c4791f7f",
   "metadata": {},
   "outputs": [],
   "source": [
    "pilot_paraphrases.group_incorrect_rate.describe()"
   ]
  },
  {
   "cell_type": "code",
   "execution_count": null,
   "id": "18bb18f2",
   "metadata": {},
   "outputs": [],
   "source": [
    "pilot_paraphrases[pilot_paraphrases.pred == pilot_paraphrases.label].group_incorrect_rate.plot.hist()"
   ]
  },
  {
   "cell_type": "code",
   "execution_count": null,
   "id": "641e8d3c",
   "metadata": {},
   "outputs": [],
   "source": [
    "pilot_paraphrases[pilot_paraphrases.pred == pilot_paraphrases.label].group_incorrect_rate.describe()"
   ]
  },
  {
   "cell_type": "code",
   "execution_count": null,
   "id": "9f4ace47",
   "metadata": {},
   "outputs": [],
   "source": [
    "pilot_paraphrases['prediction_mode'] = pilot_paraphrases.predictions.map(lambda row: Counter(predictions).most_common())"
   ]
  },
  {
   "cell_type": "code",
   "execution_count": null,
   "id": "df2c7e27",
   "metadata": {},
   "outputs": [],
   "source": [
    "Counter([1, 1,]).most_common(1)"
   ]
  },
  {
   "cell_type": "code",
   "execution_count": null,
   "id": "383a93ba",
   "metadata": {},
   "outputs": [],
   "source": [
    "def calculate_flip_rate(old_pred, new_pred):\n",
    "    return sum(old_pred != new_pred) / len(old_pred)\n",
    "\n",
    "print(calculate_flip_rate(pilot_paraphrases['large_pred'], pilot_paraphrases['rand_intra_worker_paraphrased_h1_h2_pred']))"
   ]
  },
  {
   "cell_type": "code",
   "execution_count": null,
   "id": "af2e77a7",
   "metadata": {},
   "outputs": [],
   "source": [
    "print('✅, ✅', len(pilot_paraphrases[\n",
    "    (pilot_paraphrases.large_pred == pilot_paraphrases.label) & \n",
    "    (pilot_paraphrases.rand_intra_worker_paraphrased_h1_h2_pred == pilot_paraphrases.label)\n",
    "])/len(pilot_paraphrases))\n",
    "\n",
    "print('❌, ✅', len(pilot_paraphrases[\n",
    "    (pilot_paraphrases.large_pred != pilot_paraphrases.label) & \n",
    "    (pilot_paraphrases.rand_intra_worker_paraphrased_h1_h2_pred == pilot_paraphrases.label)\n",
    "])/len(pilot_paraphrases))\n",
    "\n",
    "print('✅, ❌', len(pilot_paraphrases[\n",
    "    (pilot_paraphrases.large_pred == pilot_paraphrases.label) & \n",
    "    (pilot_paraphrases.rand_intra_worker_paraphrased_h1_h2_pred != pilot_paraphrases.label)\n",
    "])/len(pilot_paraphrases))\n",
    "print('❌, ❌', len(pilot_paraphrases[\n",
    "    (pilot_paraphrases.large_pred != pilot_paraphrases.label) & \n",
    "    (pilot_paraphrases.rand_intra_worker_paraphrased_h1_h2_pred != pilot_paraphrases.label)\n",
    "])/len(pilot_paraphrases))"
   ]
  },
  {
   "cell_type": "code",
   "execution_count": null,
   "id": "4e5b7abd",
   "metadata": {},
   "outputs": [],
   "source": [
    "pilot_paraphrases['rand_inter_worker_paraphrased_h1_h2'] = pilot_paraphrases.apply(\n",
    "    get_random_paraphrased_example_h1_h2_inter_worker, axis=1\n",
    ")"
   ]
  },
  {
   "cell_type": "code",
   "execution_count": null,
   "id": "8d623da7",
   "metadata": {},
   "outputs": [],
   "source": [
    "pilot_paraphrases['rand_inter_worker_paraphrased_h1_h2_pred'] = pilot_paraphrases['rand_inter_worker_paraphrased_h1_h2'].progress_map(\n",
    "    lambda r: np.argmax(roberta_large._get_prediction(**r)) + 1\n",
    ")"
   ]
  },
  {
   "cell_type": "code",
   "execution_count": null,
   "id": "03dbc95c",
   "metadata": {},
   "outputs": [],
   "source": [
    "accuracy_score(pilot_paraphrases.label, pilot_paraphrases['rand_inter_worker_paraphrased_h1_h2_pred'])"
   ]
  },
  {
   "cell_type": "code",
   "execution_count": null,
   "id": "de9f6bb5",
   "metadata": {},
   "outputs": [],
   "source": [
    "\n",
    "print(calculate_flip_rate(pilot_paraphrases['large_pred'], pilot_paraphrases['rand_intra_worker_paraphrased_h1_h2_pred']))"
   ]
  },
  {
   "cell_type": "markdown",
   "id": "2ff3f0c4",
   "metadata": {},
   "source": [
    "### Transformation Analysis"
   ]
  },
  {
   "cell_type": "code",
   "execution_count": null,
   "id": "d11e6c6c",
   "metadata": {},
   "outputs": [],
   "source": [
    "flipped_wrong = pilot_paraphrases[\n",
    "    (pilot_paraphrases.large_pred == pilot_paraphrases.label) & \n",
    "    (pilot_paraphrases.rand_intra_worker_paraphrased_h1_h2_pred != pilot_paraphrases.label)\n",
    "]"
   ]
  }
 ],
 "metadata": {
  "kernelspec": {
   "display_name": "Python [conda env:para-nlu]",
   "language": "python",
   "name": "conda-env-para-nlu-py"
  },
  "language_info": {
   "codemirror_mode": {
    "name": "ipython",
    "version": 3
   },
   "file_extension": ".py",
   "mimetype": "text/x-python",
   "name": "python",
   "nbconvert_exporter": "python",
   "pygments_lexer": "ipython3",
   "version": "3.8.13"
  }
 },
 "nbformat": 4,
 "nbformat_minor": 5
}
