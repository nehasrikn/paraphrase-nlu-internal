{
 "cells": [
  {
   "cell_type": "markdown",
   "id": "d844c1eb",
   "metadata": {},
   "source": [
    "## Load Trained Models"
   ]
  },
  {
   "cell_type": "code",
   "execution_count": 1,
   "id": "d6503eeb",
   "metadata": {},
   "outputs": [
    {
     "name": "stderr",
     "output_type": "stream",
     "text": [
      "/Users/nehasrikanth/miniconda3/envs/para-nlu/lib/python3.8/site-packages/tqdm/auto.py:22: TqdmWarning: IProgress not found. Please update jupyter and ipywidgets. See https://ipywidgets.readthedocs.io/en/stable/user_install.html\n",
      "  from .autonotebook import tqdm as notebook_tqdm\n"
     ]
    }
   ],
   "source": [
    "from models import TrainedModel\n",
    "import pandas as pd\n",
    "import numpy as np\n",
    "from tqdm import tqdm\n",
    "from sklearn.metrics import accuracy_score\n",
    "\n",
    "tqdm.pandas()"
   ]
  },
  {
   "cell_type": "code",
   "execution_count": 2,
   "id": "56cd2bfa",
   "metadata": {},
   "outputs": [
    {
     "name": "stdout",
     "output_type": "stream",
     "text": [
      "Loading model from ../modeling/chkpts/roberta-base-anli/\n",
      "Loading model from ../modeling/chkpts/roberta-large-anli/\n"
     ]
    }
   ],
   "source": [
    "roberta_base = TrainedModel(\n",
    "    '../modeling/chkpts/roberta-base-anli/',\n",
    "    cache_dir='../modeling/hf-cache/',\n",
    ")\n",
    "\n",
    "roberta_large = TrainedModel(\n",
    "    '../modeling/chkpts/roberta-large-anli/',\n",
    "    cache_dir='../modeling/hf-cache/',\n",
    ")"
   ]
  },
  {
   "cell_type": "markdown",
   "id": "63634b55",
   "metadata": {},
   "source": [
    "### Evaluate on full test split"
   ]
  },
  {
   "cell_type": "code",
   "execution_count": null,
   "id": "7e10b6e0",
   "metadata": {},
   "outputs": [],
   "source": [
    "test = pd.read_json('/Users/nehasrikanth/Documents/paraphrase-nlu/raw-data/anli/test.jsonl', lines=True)\n",
    "test['label'] = pd.read_csv('/Users/nehasrikanth/Documents/paraphrase-nlu/raw-data/anli/test-labels.lst', header=None)"
   ]
  },
  {
   "cell_type": "code",
   "execution_count": null,
   "id": "eae7ae2e",
   "metadata": {},
   "outputs": [],
   "source": [
    "test['base-pred'] = test.progress_apply(\n",
    "    lambda row: roberta_base._get_prediction(\n",
    "        obs1=row['obs1'], obs2=row['obs2'], hyp1=row['hyp1'], hyp2=row['hyp2']\n",
    "    ), axis=1\n",
    ")\n",
    "\n",
    "test['large-pred'] = test.progress_apply(\n",
    "    lambda row: roberta_large._get_prediction(\n",
    "        obs1=row['obs1'], obs2=row['obs2'], hyp1=row['hyp1'], hyp2=row['hyp2']\n",
    "    ), axis=1\n",
    ")\n",
    "\n",
    "\n",
    "print(accuracy_score(test.label, test['roberta-base-pred'].map(lambda a: np.argmax(a) + 1)))\n",
    "print(accuracy_score(test.label, test['roberta-large-pred'].map(lambda a: np.argmax(a) + 1)))"
   ]
  },
  {
   "cell_type": "markdown",
   "id": "b81f2c36",
   "metadata": {},
   "source": [
    "## Load paraphrase data and evaluate on original examples"
   ]
  },
  {
   "cell_type": "code",
   "execution_count": 3,
   "id": "81b24235",
   "metadata": {},
   "outputs": [],
   "source": [
    "pilot_paraphrases = pd.read_csv('../annotated-data/paraphrased_pilot.csv')\n",
    "pilot_paraphrases['paraphrases_by_worker'] = pilot_paraphrases.paraphrases.map(eval)\n",
    "pilot_paraphrases = pilot_paraphrases.drop(columns=['paraphrases', 'processed_assignments'])"
   ]
  },
  {
   "cell_type": "code",
   "execution_count": 4,
   "id": "24680e37",
   "metadata": {},
   "outputs": [],
   "source": [
    "pilot_paraphrases['hyp1_paraphrases'] = pilot_paraphrases.paraphrases_by_worker.map(\n",
    "    lambda x: [p for w in x for p in w['hyp1_paraphrases']]\n",
    ")\n",
    "pilot_paraphrases['hyp2_paraphrases'] = pilot_paraphrases.paraphrases_by_worker.map(\n",
    "    lambda x: [p for w in x for p in w['hyp2_paraphrases']]\n",
    ")"
   ]
  },
  {
   "cell_type": "code",
   "execution_count": 5,
   "id": "cbe7fbc8",
   "metadata": {},
   "outputs": [
    {
     "name": "stderr",
     "output_type": "stream",
     "text": [
      "100%|████████████████████████████████████████████████████████████████████████████████████████████████████████████████████████████████████| 115/115 [00:06<00:00, 17.70it/s]\n",
      "100%|████████████████████████████████████████████████████████████████████████████████████████████████████████████████████████████████████| 115/115 [00:20<00:00,  5.69it/s]"
     ]
    },
    {
     "name": "stdout",
     "output_type": "stream",
     "text": [
      "0.7391304347826086\n",
      "0.8869565217391304\n"
     ]
    },
    {
     "name": "stderr",
     "output_type": "stream",
     "text": [
      "\n"
     ]
    }
   ],
   "source": [
    "pilot_paraphrases['base-pred'] = pilot_paraphrases.progress_apply(\n",
    "    lambda row: roberta_base._get_prediction(\n",
    "        obs1=row['obs1'], obs2=row['obs2'], hyp1=row['hyp1'], hyp2=row['hyp2']\n",
    "    ), axis=1\n",
    ")\n",
    "\n",
    "pilot_paraphrases['large-pred'] = pilot_paraphrases.progress_apply(\n",
    "    lambda row: roberta_large._get_prediction(\n",
    "        obs1=row['obs1'], obs2=row['obs2'], hyp1=row['hyp1'], hyp2=row['hyp2']\n",
    "    ), axis=1\n",
    ")\n",
    "\n",
    "\n",
    "print(accuracy_score(pilot_paraphrases.label, pilot_paraphrases['base-pred'].map(lambda a: np.argmax(a) + 1)))\n",
    "print(accuracy_score(pilot_paraphrases.label, pilot_paraphrases['large-pred'].map(lambda a: np.argmax(a) + 1)))"
   ]
  },
  {
   "cell_type": "code",
   "execution_count": 38,
   "id": "98c4ca93",
   "metadata": {},
   "outputs": [],
   "source": [
    "import random\n",
    "\n",
    "def get_random_paraphrased_example_h1_h2(row):\n",
    "    idx = random.randrange(0, 9)\n",
    "    return {\n",
    "        'obs1': row['obs1'], 'obs2': row['obs2'],\n",
    "        'hyp1': row.hyp1_paraphrases[idx], 'hyp2': row.hyp2_paraphrases[idx]\n",
    "    }\n",
    "    \n",
    "def get_random_paraphrased_example_h1(row):\n",
    "    idx = random.randrange(0, 9)\n",
    "    return {\n",
    "        'obs1': row['obs1'], 'obs2': row['obs2'],\n",
    "        'hyp1': row.hyp1_paraphrases[idx], 'hyp2': row['hyp2']\n",
    "    }\n",
    "\n",
    "def get_random_paraphrased_example_h2(row):\n",
    "    idx = random.randrange(0, 9)\n",
    "    return {\n",
    "        'obs1': row['obs1'], 'obs2': row['obs2'],\n",
    "        'hyp1': row['hyp1'], 'hyp2': row.hyp2_paraphrases[idx]\n",
    "    }\n",
    "\n",
    "def get_zipped_examples(row):\n",
    "    return [{'obs1': row['obs1'], 'obs2': row['obs2'], 'hyp1': h1, 'hyp2': h2} \n",
    "            for h1, h2 in zip(row.hyp1_paraphrases, row.hyp2_paraphrases)]\n",
    "\n"
   ]
  },
  {
   "cell_type": "code",
   "execution_count": 29,
   "id": "91ac1443",
   "metadata": {},
   "outputs": [
    {
     "name": "stderr",
     "output_type": "stream",
     "text": [
      "100%|████████████████████████████████████████████████████████████████████████████████████████████████████████████████████████████████████| 115/115 [00:20<00:00,  5.58it/s]\n",
      "100%|████████████████████████████████████████████████████████████████████████████████████████████████████████████████████████████████████| 115/115 [00:20<00:00,  5.61it/s]\n",
      "100%|████████████████████████████████████████████████████████████████████████████████████████████████████████████████████████████████████| 115/115 [00:20<00:00,  5.62it/s]\n"
     ]
    }
   ],
   "source": [
    "h1_h2 = pd.concat([h1_h2, h1_h2.progress_map(lambda r: roberta_large._get_prediction(**r))], axis=1)\n",
    "h1 = pd.concat([h1, h1.progress_map(lambda r: roberta_large._get_prediction(**r))], axis=1)\n",
    "h2 = pd.concat([h2, h2.progress_map(lambda r: roberta_large._get_prediction(**r))], axis=1)"
   ]
  },
  {
   "cell_type": "code",
   "execution_count": 43,
   "id": "fca954b1",
   "metadata": {},
   "outputs": [
    {
     "name": "stderr",
     "output_type": "stream",
     "text": [
      "100%|████████████████████████████████████████████████████████████████████████████████████████████████████████████████████████████████████| 115/115 [02:58<00:00,  1.56s/it]\n"
     ]
    }
   ],
   "source": [
    "zipped_examples = pilot_paraphrases.apply(get_zipped_examples, axis=1)\n",
    "\n",
    "zipped_examples = pd.concat([\n",
    "    pilot_paraphrases[['label', 'large-pred', 'hyp1', 'hyp2']],\n",
    "    zipped_examples.progress_map(lambda example_list: [roberta_large._get_prediction (**e) for e in example_list])\n",
    "], axis=1\n",
    ").rename(columns={0: 'para-preds'})"
   ]
  },
  {
   "cell_type": "code",
   "execution_count": 73,
   "id": "79ec64c1",
   "metadata": {},
   "outputs": [
    {
     "data": {
      "text/plain": [
       "<AxesSubplot:ylabel='Frequency'>"
      ]
     },
     "execution_count": 73,
     "metadata": {},
     "output_type": "execute_result"
    },
    {
     "data": {
      "image/png": "[encoded data removed]",
      "text/plain": [
       "<Figure size 432x288 with 1 Axes>"
      ]
     },
     "metadata": {
      "needs_background": "light"
     },
     "output_type": "display_data"
    }
   ],
   "source": [
    "zipped_examples['para-preds-argmax'] = zipped_examples['para-preds'].map(lambda x: [np.argmax(i) + 1 for i in x])\n",
    "\n",
    "zipped_examples.apply(\n",
    "    lambda row: sum(1 for i in row['para-preds-argmax'] if i == row.label)/len(row['para-preds-argmax']), axis=1\n",
    ").plot.hist(bins=12)"
   ]
  },
  {
   "cell_type": "code",
   "execution_count": null,
   "id": "12cac0af",
   "metadata": {},
   "outputs": [],
   "source": [
    "def calculate_flip_rate(old_pred, new_pred):\n",
    "    return sum(old_pred.map(np.argmax) != new_pred.map(np.argmax)) / len(old_pred)"
   ]
  },
  {
   "cell_type": "code",
   "execution_count": null,
   "id": "a4012fd0",
   "metadata": {},
   "outputs": [],
   "source": [
    "print(calculate_flip_rate(pilot_paraphrases['large-pred'], pilot_paraphrases['large-pred-para-h1-h2']))\n",
    "print(calculate_flip_rate(pilot_paraphrases['large-pred'], pilot_paraphrases['large-pred-para-h1']))\n",
    "print(calculate_flip_rate(pilot_paraphrases['large-pred'], pilot_paraphrases['large-pred-para-h2']))\n",
    "\n"
   ]
  },
  {
   "cell_type": "code",
   "execution_count": 11,
   "id": "9dc6a3bf",
   "metadata": {},
   "outputs": [
    {
     "data": {
      "text/plain": [
       "[('The other team felt bad enough to give them another ball.',\n",
       "  'The other team was happy and gave them a ball.'),\n",
       " ('The other team had compassion and replaced their ball.',\n",
       "  'The other team was delighted to give them a ball.'),\n",
       " ('The other team gave them a ball since they felt bad. ',\n",
       "  'The other team was so happy to replace their ball. '),\n",
       " ('The other team took pity on their opponents and gave them another ball',\n",
       "  'The other team gloated about being rich and gave them another ball'),\n",
       " ('The other team was generous enough to give their opponents a ball',\n",
       "  'Being more fortunate that they are, the team gave the opposing team a ball while laughing'),\n",
       " ('Feeling sympathetic, the other team then gave the opposing team their ball',\n",
       "  'The other team went into a laughing fit after hearing that the opposing team was poor so they gave them the ball'),\n",
       " ('Due to the other team feeling bad, they gave them the ball',\n",
       "  'Another ball was given to the team because of their elation'),\n",
       " ('The ball was gifted out of sympathy for the other',\n",
       "  'Feeling great, the other team gave them another one'),\n",
       " ('The ball was gifted to the other team due to their compassion',\n",
       "  'Another ball was gifted to the other team')]"
      ]
     },
     "execution_count": 11,
     "metadata": {},
     "output_type": "execute_result"
    }
   ],
   "source": [
    "list(zip(pilot_paraphrases.hyp1_paraphrases.iloc[0], pilot_paraphrases.hyp2_paraphrases.iloc[0]))"
   ]
  },
  {
   "cell_type": "code",
   "execution_count": null,
   "id": "3ae98aa7",
   "metadata": {},
   "outputs": [],
   "source": []
  }
 ],
 "metadata": {
  "kernelspec": {
   "display_name": "Python [conda env:para-nlu]",
   "language": "python",
   "name": "conda-env-para-nlu-py"
  },
  "language_info": {
   "codemirror_mode": {
    "name": "ipython",
    "version": 3
   },
   "file_extension": ".py",
   "mimetype": "text/x-python",
   "name": "python",
   "nbconvert_exporter": "python",
   "pygments_lexer": "ipython3",
   "version": "3.8.13"
  }
 },
 "nbformat": 4,
 "nbformat_minor": 5
}
