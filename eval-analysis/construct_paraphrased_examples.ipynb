{
 "cells": [
  {
   "cell_type": "code",
   "execution_count": 1,
   "id": "d5107d52",
   "metadata": {},
   "outputs": [],
   "source": [
    "import pandas as pd"
   ]
  },
  {
   "cell_type": "code",
   "execution_count": null,
   "id": "ac42bff9",
   "metadata": {},
   "outputs": [],
   "source": [
    "def get_intra_worker_paraphrased_examples(row):\n",
    "    intra_worker_paraphrased_examples = []\n",
    "    \n",
    "    for worker_num, worker_paraphrases in enumerate(row.paraphrases): # 3 workers\n",
    "        for h1_id, h1 in enumerate(worker_paraphrases['hyp1_paraphrases']): # each worker had 3 hyp1s and 3 hyp2s\n",
    "            for h2_id, h2 in enumerate(worker_paraphrases['hyp2_paraphrases']):\n",
    "                intra_worker_paraphrased_examples.append({\n",
    "                    'obs1': row.obs1, \n",
    "                    'obs2': row.obs2,\n",
    "                    'label': row.label,\n",
    "                    'hyp1': h1,\n",
    "                    'hyp2': h2,\n",
    "                    'paraphrase_id': f'{row.example_id}.{worker_num}.{h1_id}.{h2_id}',\n",
    "                    'original_hypotheses': {\n",
    "                        'hyp1': row.hyp1,\n",
    "                        'hyp2': row.hyp2\n",
    "                    }\n",
    "                })\n",
    "    return intra_worker_paraphrased_examples"
   ]
  },
  {
   "cell_type": "code",
   "execution_count": 3,
   "id": "f1adaf96",
   "metadata": {},
   "outputs": [],
   "source": [
    "def get_zipped_intra_worker_paraphrased_examples(row):\n",
    "    intra_worker_paraphrased_examples = []\n",
    "    \n",
    "    for worker_num, worker_paraphrases in enumerate(row.paraphrases): # 3 workers\n",
    "        for id_, (h1, h2) in enumerate(list(zip(worker_paraphrases['hyp1_paraphrases'], worker_paraphrases['hyp2_paraphrases']))):\n",
    "            intra_worker_paraphrased_examples.append({\n",
    "                'obs1': row.obs1, \n",
    "                'obs2': row.obs2,\n",
    "                'label': row.label,\n",
    "                'hyp1': h1,\n",
    "                'hyp2': h2,\n",
    "                'paraphrase_id': f'{row.example_id}.{worker_num}.{id_}',\n",
    "                'original_hypotheses': {\n",
    "                    'hyp1': row.hyp1,\n",
    "                    'hyp2': row.hyp2\n",
    "                }\n",
    "            })\n",
    "    return intra_worker_paraphrased_examples"
   ]
  },
  {
   "cell_type": "code",
   "execution_count": 4,
   "id": "fb07ed66",
   "metadata": {},
   "outputs": [],
   "source": [
    "pilot_tasks = pd.read_csv('../annotated-data/abductive/paraphrased_pilot.csv').drop(columns=[\n",
    "    'story_id', 'origin_split', 'example_data', 'processed_assignments'\n",
    "])\n",
    "\n",
    "pilot_tasks['paraphrases'] = pilot_tasks['paraphrases'].map(eval)\n",
    "pilot_tasks['intra_worker_paraphrases'] = pilot_tasks.apply(get_zipped_intra_worker_paraphrased_examples, axis=1)"
   ]
  },
  {
   "cell_type": "code",
   "execution_count": 5,
   "id": "29728037",
   "metadata": {},
   "outputs": [],
   "source": [
    "intra_worker_paraphrases = pd.DataFrame([example for paraphrase_group in pilot_tasks.intra_worker_paraphrases for example in paraphrase_group])"
   ]
  },
  {
   "cell_type": "code",
   "execution_count": 6,
   "id": "217a9233",
   "metadata": {},
   "outputs": [
    {
     "data": {
      "text/plain": [
       "1035"
      ]
     },
     "execution_count": 6,
     "metadata": {},
     "output_type": "execute_result"
    }
   ],
   "source": [
    "len(intra_worker_paraphrases)"
   ]
  },
  {
   "cell_type": "code",
   "execution_count": 7,
   "id": "7db299fb",
   "metadata": {},
   "outputs": [],
   "source": [
    "intra_worker_paraphrases.to_csv('zipped_intra_worker_paraphrases_pilot.csv', index=False)"
   ]
  },
  {
   "cell_type": "code",
   "execution_count": null,
   "id": "1509cc50",
   "metadata": {},
   "outputs": [],
   "source": []
  }
 ],
 "metadata": {
  "kernelspec": {
   "display_name": "Python [conda env:para-nlu]",
   "language": "python",
   "name": "conda-env-para-nlu-py"
  },
  "language_info": {
   "codemirror_mode": {
    "name": "ipython",
    "version": 3
   },
   "file_extension": ".py",
   "mimetype": "text/x-python",
   "name": "python",
   "nbconvert_exporter": "python",
   "pygments_lexer": "ipython3",
   "version": "3.8.13"
  }
 },
 "nbformat": 4,
 "nbformat_minor": 5
}
