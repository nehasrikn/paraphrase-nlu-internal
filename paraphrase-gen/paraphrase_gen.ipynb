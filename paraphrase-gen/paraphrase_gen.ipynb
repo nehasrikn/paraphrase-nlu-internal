{
 "cells": [
  {
   "cell_type": "markdown",
   "id": "d77ae8f7",
   "metadata": {},
   "source": [
    "# Paraphrase Generation"
   ]
  },
  {
   "cell_type": "code",
   "execution_count": 1,
   "id": "bfde1508",
   "metadata": {},
   "outputs": [
    {
     "data": {
      "application/vnd.jupyter.widget-view+json": {
       "model_id": "a30ba94e8eed491abe0ee9ea7d8abc37",
       "version_major": 2,
       "version_minor": 0
      },
      "text/plain": [
       "Downloading https://raw.githubusercontent.com/stanfordnlp/stanza-resources/main/resources_1.3.0.json:   0%|   …"
      ]
     },
     "metadata": {},
     "output_type": "display_data"
    },
    {
     "name": "stderr",
     "output_type": "stream",
     "text": [
      "2022-02-17 14:33:19 INFO: Downloading default packages for language: en (English)...\n",
      "2022-02-17 14:33:20 INFO: File exists: /Users/nehasrikanth/stanza_resources/en/default.zip.\n",
      "2022-02-17 14:33:23 INFO: Finished downloading models and saved to /Users/nehasrikanth/stanza_resources.\n",
      "2022-02-17 14:33:23 INFO: Loading these models for language: en (English):\n",
      "===========================\n",
      "| Processor    | Package  |\n",
      "---------------------------\n",
      "| tokenize     | combined |\n",
      "| pos          | combined |\n",
      "| lemma        | combined |\n",
      "| depparse     | combined |\n",
      "| constituency | wsj      |\n",
      "===========================\n",
      "\n",
      "2022-02-17 14:33:23 INFO: Use device: cpu\n",
      "2022-02-17 14:33:23 INFO: Loading: tokenize\n",
      "2022-02-17 14:33:23 INFO: Loading: pos\n",
      "2022-02-17 14:33:23 INFO: Loading: lemma\n",
      "2022-02-17 14:33:23 INFO: Loading: depparse\n",
      "2022-02-17 14:33:24 INFO: Loading: constituency\n",
      "2022-02-17 14:33:24 INFO: Done loading processors!\n"
     ]
    }
   ],
   "source": [
    "import numpy as np\n",
    "import nltk\n",
    "import pandas as pd\n",
    "import json\n",
    "import tqdm\n",
    "from simple_colors import *\n",
    "from nltk.corpus import wordnet as wn\n",
    "\n",
    "import stanza\n",
    "stanza.download('en')\n",
    "stanza_pipe = stanza.Pipeline(lang='en', processors='tokenize,lemma,pos,depparse,constituency')"
   ]
  },
  {
   "cell_type": "markdown",
   "id": "eef24201",
   "metadata": {},
   "source": [
    "### HellaSWAG"
   ]
  },
  {
   "cell_type": "code",
   "execution_count": 2,
   "id": "e21abb10",
   "metadata": {},
   "outputs": [],
   "source": [
    "hellaswag_val = pd.read_json('../raw_data/hellaswag/data/hellaswag_val.jsonl', lines=True)\n",
    "hellaswag_val = hellaswag_val[hellaswag_val['source_id'].str.contains('activitynet')]\n",
    "hellaswag_val = hellaswag_val[hellaswag_val.ctx_a.str.split('.').map(len) == 2]"
   ]
  },
  {
   "cell_type": "code",
   "execution_count": null,
   "id": "342c2ba7",
   "metadata": {},
   "outputs": [],
   "source": [
    "x = hellaswag_val[:15]\n",
    "x['gold_ending'] = x.apply(lambda r: r.endings[r.label], axis=1)\n",
    "x[['ctx_a', 'gold_ending']].to_csv('hellaswag_val.sample.csv', header=None, index=None)\n",
    "hellaswag_val.ctx_a[:15].map(str.lower).to_csv('hellaswag_val.ctx_a.csv', header=None, index=None)"
   ]
  },
  {
   "cell_type": "markdown",
   "id": "1139c672",
   "metadata": {},
   "source": [
    "### Rule-Based Paraphrase Generation"
   ]
  },
  {
   "cell_type": "code",
   "execution_count": null,
   "id": "ea62f405",
   "metadata": {},
   "outputs": [],
   "source": [
    "nltk.download('omw-1.4')"
   ]
  },
  {
   "cell_type": "code",
   "execution_count": 20,
   "id": "982e117b",
   "metadata": {},
   "outputs": [
    {
     "data": {
      "text/html": [
       "<div>\n",
       "<style scoped>\n",
       "    .dataframe tbody tr th:only-of-type {\n",
       "        vertical-align: middle;\n",
       "    }\n",
       "\n",
       "    .dataframe tbody tr th {\n",
       "        vertical-align: top;\n",
       "    }\n",
       "\n",
       "    .dataframe thead th {\n",
       "        text-align: right;\n",
       "    }\n",
       "</style>\n",
       "<table border=\"1\" class=\"dataframe\">\n",
       "  <thead>\n",
       "    <tr style=\"text-align: right;\">\n",
       "      <th></th>\n",
       "      <th>ind</th>\n",
       "      <th>activity_label</th>\n",
       "      <th>ctx_a</th>\n",
       "      <th>ctx_b</th>\n",
       "      <th>ctx</th>\n",
       "      <th>split</th>\n",
       "      <th>split_type</th>\n",
       "      <th>label</th>\n",
       "      <th>endings</th>\n",
       "      <th>source_id</th>\n",
       "    </tr>\n",
       "  </thead>\n",
       "  <tbody>\n",
       "    <tr>\n",
       "      <th>0</th>\n",
       "      <td>24</td>\n",
       "      <td>Roof shingle removal</td>\n",
       "      <td>A man is sitting on a roof.</td>\n",
       "      <td>he</td>\n",
       "      <td>A man is sitting on a roof. he</td>\n",
       "      <td>val</td>\n",
       "      <td>indomain</td>\n",
       "      <td>3</td>\n",
       "      <td>[is using wrap to wrap a pair of skis., is rip...</td>\n",
       "      <td>activitynet~v_-JhWjGDPHMY</td>\n",
       "    </tr>\n",
       "    <tr>\n",
       "      <th>2</th>\n",
       "      <td>106</td>\n",
       "      <td>Canoeing</td>\n",
       "      <td>Two women in a child are shown in a canoe whil...</td>\n",
       "      <td>the child and a different man</td>\n",
       "      <td>Two women in a child are shown in a canoe whil...</td>\n",
       "      <td>val</td>\n",
       "      <td>indomain</td>\n",
       "      <td>2</td>\n",
       "      <td>[are then shown paddling down a river in a boa...</td>\n",
       "      <td>activitynet~v_-xQvJmC2jhk</td>\n",
       "    </tr>\n",
       "    <tr>\n",
       "      <th>3</th>\n",
       "      <td>114</td>\n",
       "      <td>High jump</td>\n",
       "      <td>A boy is running down a track.</td>\n",
       "      <td>the boy</td>\n",
       "      <td>A boy is running down a track. the boy</td>\n",
       "      <td>val</td>\n",
       "      <td>zeroshot</td>\n",
       "      <td>2</td>\n",
       "      <td>[runs into a car., gets in a mat., lifts his b...</td>\n",
       "      <td>activitynet~v_-zHX3Gdx6I4</td>\n",
       "    </tr>\n",
       "    <tr>\n",
       "      <th>7</th>\n",
       "      <td>170</td>\n",
       "      <td>Sumo</td>\n",
       "      <td>A cartoon animation video is shown with people...</td>\n",
       "      <td>two men</td>\n",
       "      <td>A cartoon animation video is shown with people...</td>\n",
       "      <td>val</td>\n",
       "      <td>indomain</td>\n",
       "      <td>0</td>\n",
       "      <td>[fight robots of evil and ends with a to be co...</td>\n",
       "      <td>activitynet~v_0WVkoTBmhA0</td>\n",
       "    </tr>\n",
       "    <tr>\n",
       "      <th>8</th>\n",
       "      <td>180</td>\n",
       "      <td>Sharpening knives</td>\n",
       "      <td>A man is holding a pocket knife while sitting ...</td>\n",
       "      <td>then he</td>\n",
       "      <td>A man is holding a pocket knife while sitting ...</td>\n",
       "      <td>val</td>\n",
       "      <td>zeroshot</td>\n",
       "      <td>1</td>\n",
       "      <td>[opens a can of oil put oil on the knife, and ...</td>\n",
       "      <td>activitynet~v_0bosp4-pyTM</td>\n",
       "    </tr>\n",
       "    <tr>\n",
       "      <th>...</th>\n",
       "      <td>...</td>\n",
       "      <td>...</td>\n",
       "      <td>...</td>\n",
       "      <td>...</td>\n",
       "      <td>...</td>\n",
       "      <td>...</td>\n",
       "      <td>...</td>\n",
       "      <td>...</td>\n",
       "      <td>...</td>\n",
       "      <td>...</td>\n",
       "    </tr>\n",
       "    <tr>\n",
       "      <th>3229</th>\n",
       "      <td>50023</td>\n",
       "      <td>High jump</td>\n",
       "      <td>A teen skip on a court and then jumps high ove...</td>\n",
       "      <td>then</td>\n",
       "      <td>A teen skip on a court and then jumps high ove...</td>\n",
       "      <td>val</td>\n",
       "      <td>zeroshot</td>\n",
       "      <td>1</td>\n",
       "      <td>[, a teen skip carrying a pole to get into a j...</td>\n",
       "      <td>activitynet~v_vth3IYGHu5k</td>\n",
       "    </tr>\n",
       "    <tr>\n",
       "      <th>3232</th>\n",
       "      <td>50045</td>\n",
       "      <td>Canoeing</td>\n",
       "      <td>Names are shown on a list and leads into a per...</td>\n",
       "      <td>more people</td>\n",
       "      <td>Names are shown on a list and leads into a per...</td>\n",
       "      <td>val</td>\n",
       "      <td>indomain</td>\n",
       "      <td>3</td>\n",
       "      <td>[are seen riding down a river on tubes while o...</td>\n",
       "      <td>activitynet~v_wd7W8NTi_58</td>\n",
       "    </tr>\n",
       "    <tr>\n",
       "      <th>3234</th>\n",
       "      <td>50070</td>\n",
       "      <td>Tai chi</td>\n",
       "      <td>We see two pieces of ancient asian art.</td>\n",
       "      <td>we</td>\n",
       "      <td>We see two pieces of ancient asian art. we</td>\n",
       "      <td>val</td>\n",
       "      <td>indomain</td>\n",
       "      <td>3</td>\n",
       "      <td>[see people playing a game outdoors., see the ...</td>\n",
       "      <td>activitynet~v_x18x9BKMAlk</td>\n",
       "    </tr>\n",
       "    <tr>\n",
       "      <th>3237</th>\n",
       "      <td>50079</td>\n",
       "      <td>Ice fishing</td>\n",
       "      <td>Two men are sitting on chairs in front of snow...</td>\n",
       "      <td>there</td>\n",
       "      <td>Two men are sitting on chairs in front of snow...</td>\n",
       "      <td>val</td>\n",
       "      <td>zeroshot</td>\n",
       "      <td>0</td>\n",
       "      <td>[is a hole in the ice in front of them., are s...</td>\n",
       "      <td>activitynet~v_x768VAsOQSw</td>\n",
       "    </tr>\n",
       "    <tr>\n",
       "      <th>3240</th>\n",
       "      <td>50158</td>\n",
       "      <td>Playing violin</td>\n",
       "      <td>A band of people are playing instruments.</td>\n",
       "      <td>a man</td>\n",
       "      <td>A band of people are playing instruments. a man</td>\n",
       "      <td>val</td>\n",
       "      <td>zeroshot</td>\n",
       "      <td>0</td>\n",
       "      <td>[is standing up in a suit at the front playing...</td>\n",
       "      <td>activitynet~v_z-iuSgXKUcw</td>\n",
       "    </tr>\n",
       "  </tbody>\n",
       "</table>\n",
       "<p>1677 rows × 10 columns</p>\n",
       "</div>"
      ],
      "text/plain": [
       "        ind        activity_label  \\\n",
       "0        24  Roof shingle removal   \n",
       "2       106              Canoeing   \n",
       "3       114             High jump   \n",
       "7       170                  Sumo   \n",
       "8       180     Sharpening knives   \n",
       "...     ...                   ...   \n",
       "3229  50023             High jump   \n",
       "3232  50045              Canoeing   \n",
       "3234  50070               Tai chi   \n",
       "3237  50079           Ice fishing   \n",
       "3240  50158        Playing violin   \n",
       "\n",
       "                                                  ctx_a  \\\n",
       "0                           A man is sitting on a roof.   \n",
       "2     Two women in a child are shown in a canoe whil...   \n",
       "3                        A boy is running down a track.   \n",
       "7     A cartoon animation video is shown with people...   \n",
       "8     A man is holding a pocket knife while sitting ...   \n",
       "...                                                 ...   \n",
       "3229  A teen skip on a court and then jumps high ove...   \n",
       "3232  Names are shown on a list and leads into a per...   \n",
       "3234            We see two pieces of ancient asian art.   \n",
       "3237  Two men are sitting on chairs in front of snow...   \n",
       "3240          A band of people are playing instruments.   \n",
       "\n",
       "                              ctx_b  \\\n",
       "0                                he   \n",
       "2     the child and a different man   \n",
       "3                           the boy   \n",
       "7                           two men   \n",
       "8                           then he   \n",
       "...                             ...   \n",
       "3229                           then   \n",
       "3232                    more people   \n",
       "3234                             we   \n",
       "3237                          there   \n",
       "3240                          a man   \n",
       "\n",
       "                                                    ctx split split_type  \\\n",
       "0                        A man is sitting on a roof. he   val   indomain   \n",
       "2     Two women in a child are shown in a canoe whil...   val   indomain   \n",
       "3                A boy is running down a track. the boy   val   zeroshot   \n",
       "7     A cartoon animation video is shown with people...   val   indomain   \n",
       "8     A man is holding a pocket knife while sitting ...   val   zeroshot   \n",
       "...                                                 ...   ...        ...   \n",
       "3229  A teen skip on a court and then jumps high ove...   val   zeroshot   \n",
       "3232  Names are shown on a list and leads into a per...   val   indomain   \n",
       "3234         We see two pieces of ancient asian art. we   val   indomain   \n",
       "3237  Two men are sitting on chairs in front of snow...   val   zeroshot   \n",
       "3240    A band of people are playing instruments. a man   val   zeroshot   \n",
       "\n",
       "      label                                            endings  \\\n",
       "0         3  [is using wrap to wrap a pair of skis., is rip...   \n",
       "2         2  [are then shown paddling down a river in a boa...   \n",
       "3         2  [runs into a car., gets in a mat., lifts his b...   \n",
       "7         0  [fight robots of evil and ends with a to be co...   \n",
       "8         1  [opens a can of oil put oil on the knife, and ...   \n",
       "...     ...                                                ...   \n",
       "3229      1  [, a teen skip carrying a pole to get into a j...   \n",
       "3232      3  [are seen riding down a river on tubes while o...   \n",
       "3234      3  [see people playing a game outdoors., see the ...   \n",
       "3237      0  [is a hole in the ice in front of them., are s...   \n",
       "3240      0  [is standing up in a suit at the front playing...   \n",
       "\n",
       "                      source_id  \n",
       "0     activitynet~v_-JhWjGDPHMY  \n",
       "2     activitynet~v_-xQvJmC2jhk  \n",
       "3     activitynet~v_-zHX3Gdx6I4  \n",
       "7     activitynet~v_0WVkoTBmhA0  \n",
       "8     activitynet~v_0bosp4-pyTM  \n",
       "...                         ...  \n",
       "3229  activitynet~v_vth3IYGHu5k  \n",
       "3232  activitynet~v_wd7W8NTi_58  \n",
       "3234  activitynet~v_x18x9BKMAlk  \n",
       "3237  activitynet~v_x768VAsOQSw  \n",
       "3240  activitynet~v_z-iuSgXKUcw  \n",
       "\n",
       "[1677 rows x 10 columns]"
      ]
     },
     "execution_count": 20,
     "metadata": {},
     "output_type": "execute_result"
    }
   ],
   "source": [
    "hellaswag_val"
   ]
  },
  {
   "cell_type": "code",
   "execution_count": null,
   "id": "6b6a6038",
   "metadata": {},
   "outputs": [],
   "source": [
    "synonyms = []\n",
    "for syn in wn.synsets(\"dance\"):\n",
    "    for l in syn.lemmas():\n",
    "        synonyms.append(l.name())\n",
    "\n",
    "print(set(synonyms))"
   ]
  },
  {
   "cell_type": "code",
   "execution_count": null,
   "id": "cedf94bc",
   "metadata": {},
   "outputs": [],
   "source": [
    "x = stanza_pipe('pat loves chris.')"
   ]
  },
  {
   "cell_type": "code",
   "execution_count": null,
   "id": "52837243",
   "metadata": {},
   "outputs": [],
   "source": [
    "x.sentences[0].words[0].text"
   ]
  },
  {
   "cell_type": "code",
   "execution_count": null,
   "id": "98086348",
   "metadata": {},
   "outputs": [],
   "source": [
    "' '.join([q.text for q in x.sentences[0].words])"
   ]
  },
  {
   "cell_type": "code",
   "execution_count": null,
   "id": "f1a924c8",
   "metadata": {},
   "outputs": [],
   "source": [
    "def get_constituency_tree(sentence):\n",
    "    return stanza_pipe(sentence).sentences[0].constituency"
   ]
  },
  {
   "cell_type": "code",
   "execution_count": null,
   "id": "fd97889c",
   "metadata": {},
   "outputs": [],
   "source": [
    "get_constituency_tree('they where go')"
   ]
  },
  {
   "cell_type": "code",
   "execution_count": null,
   "id": "0ac10f07",
   "metadata": {},
   "outputs": [],
   "source": [
    "def get_nltk_tree_from_stanza(parse_tree):\n",
    "    return nltk.tree.Tree(\n",
    "        parse_tree.label, \n",
    "        [\n",
    "            get_nltk_tree_from_stanza(child) for child in parse_tree.children\n",
    "        ]) if not parse_tree.is_leaf() else parse_tree.label\n",
    "\n",
    "tree = get_constituency_tree('Pat showed a nice demo. ')\n",
    "nltk_tree = get_nltk_tree_from_stanza(tree)\n",
    "\n",
    "nltk_tree"
   ]
  },
  {
   "cell_type": "code",
   "execution_count": null,
   "id": "544717e5",
   "metadata": {},
   "outputs": [],
   "source": [
    "get_nltk_tree_from_stanza(get_constituency_tree(\"Pat's demo was nice.\"))"
   ]
  },
  {
   "cell_type": "code",
   "execution_count": null,
   "id": "aa177b41",
   "metadata": {
    "scrolled": false
   },
   "outputs": [],
   "source": [
    "from nltk.tokenize import word_tokenize\n",
    "\n",
    "' '.join(word_tokenize(str(tree)))"
   ]
  },
  {
   "cell_type": "code",
   "execution_count": null,
   "id": "8131b79a",
   "metadata": {},
   "outputs": [],
   "source": [
    "'( ROOT ( S ( NP ) ( VP ( VP ( PP ( NP ) ) ) ) ) )'"
   ]
  },
  {
   "cell_type": "code",
   "execution_count": null,
   "id": "a350f098",
   "metadata": {},
   "outputs": [],
   "source": [
    "visited = [False] * (max(self.graph) + 1)\n",
    " \n",
    "queue = []\n",
    "\n",
    "# Mark the source node as\n",
    "# visited and enqueue it\n",
    "queue.append(s)\n",
    "visited[s] = True\n",
    "\n",
    "while queue:\n",
    "\n",
    "    # Dequeue a vertex from\n",
    "    # queue and print it\n",
    "    s = queue.pop(0)\n",
    "    print (s, end = \" \")\n",
    "\n",
    "    # Get all adjacent vertices of the\n",
    "    # dequeued vertex s. If a adjacent\n",
    "    # has not been visited, then mark it\n",
    "    # visited and enqueue it\n",
    "    for i in self.graph[s]:\n",
    "        if visited[i] == False:\n",
    "            queue.append(i)\n",
    "            visited[i] = True"
   ]
  },
  {
   "cell_type": "code",
   "execution_count": null,
   "id": "5323b69b",
   "metadata": {},
   "outputs": [],
   "source": [
    "from nltk.corpus import framenet as fn"
   ]
  },
  {
   "cell_type": "code",
   "execution_count": null,
   "id": "ee3ed66b",
   "metadata": {},
   "outputs": [],
   "source": [
    "f = fn.frame(202)"
   ]
  },
  {
   "cell_type": "code",
   "execution_count": null,
   "id": "619dd168",
   "metadata": {
    "scrolled": true
   },
   "outputs": [],
   "source": [
    "s = wn.synsets('roof')[0]"
   ]
  },
  {
   "cell_type": "code",
   "execution_count": null,
   "id": "f52e51a1",
   "metadata": {},
   "outputs": [],
   "source": [
    "fn.frame('arrest')"
   ]
  },
  {
   "cell_type": "code",
   "execution_count": null,
   "id": "1f28f97b",
   "metadata": {},
   "outputs": [],
   "source": [
    "import torch\n",
    "from transformers import BartForConditionalGeneration, BartTokenizer\n",
    "\n",
    "input_sentence = \"They were there to enjoy us and they were there to pray for us.\"\n",
    "\n",
    "model = BartForConditionalGeneration.from_pretrained('eugenesiow/bart-paraphrase', cache='hf_cache')\n",
    "device = torch.device(\"cuda\" if torch.cuda.is_available() else \"cpu\")\n",
    "model = model.to(device)\n",
    "tokenizer = BartTokenizer.from_pretrained('eugenesiow/bart-paraphrase')\n",
    "batch = tokenizer(input_sentence, return_tensors='pt')\n",
    "generated_ids = model.generate(batch['input_ids'])\n",
    "generated_sentence = tokenizer.batch_decode(generated_ids, skip_special_tokens=True)\n",
    "\n",
    "print(generated_sentence)"
   ]
  },
  {
   "cell_type": "code",
   "execution_count": null,
   "id": "8aa0e5c6",
   "metadata": {},
   "outputs": [],
   "source": [
    "import vaex\n"
   ]
  },
  {
   "cell_type": "code",
   "execution_count": null,
   "id": "d4fb9692",
   "metadata": {},
   "outputs": [],
   "source": [
    "!ls ../raw_data/ppdb-2.0-tldr"
   ]
  },
  {
   "cell_type": "code",
   "execution_count": null,
   "id": "885ea1b1",
   "metadata": {},
   "outputs": [],
   "source": [
    "ppdb = vaex.from_csv(\n",
    "    '../raw_data/ppdb-small',\n",
    "    engine='python',\n",
    "    sep=' ||| ',\n",
    "    convert=True,\n",
    "    progress=True\n",
    ")"
   ]
  },
  {
   "cell_type": "code",
   "execution_count": null,
   "id": "5eb4eaa5",
   "metadata": {},
   "outputs": [],
   "source": [
    "!pip install numpy requests nlpaug"
   ]
  },
  {
   "cell_type": "code",
   "execution_count": 23,
   "id": "4be98124",
   "metadata": {},
   "outputs": [],
   "source": [
    "import nlpaug.augmenter.char as nac\n",
    "import nlpaug.augmenter.word as naw\n",
    "import nlpaug.augmenter.sentence as nas\n",
    "import nlpaug.flow as nafc\n",
    "import os\n",
    "\n",
    "from nlpaug.util import Action"
   ]
  },
  {
   "cell_type": "code",
   "execution_count": 25,
   "id": "598eb369",
   "metadata": {},
   "outputs": [],
   "source": [
    "aug = naw.SynonymAug(aug_src='ppdb', model_path='../raw_data/ppdb-2.0-s-all')"
   ]
  },
  {
   "cell_type": "code",
   "execution_count": 40,
   "id": "b9c767fb",
   "metadata": {},
   "outputs": [],
   "source": [
    "text = \"The camera zooms in to show the car's front right wheel. The camera zooms out to show the man spraying the car with soap.\""
   ]
  },
  {
   "cell_type": "code",
   "execution_count": 41,
   "id": "04d69f4a",
   "metadata": {},
   "outputs": [
    {
     "name": "stdout",
     "output_type": "stream",
     "text": [
      "Original:\n",
      "The camera zooms in to show the car's front right wheel. The camera zooms out to show the man spraying the car with soap.\n",
      "Augmented Text:\n",
      "The camera zooms in to displayed the automobile ' s front right flywheel. The camera zooms out to demonstrating the servicemen sprinkling the automobile with soap.\n"
     ]
    }
   ],
   "source": [
    "augmented_text = aug.augment(text)\n",
    "print(\"Original:\")\n",
    "print(text)\n",
    "print(\"Augmented Text:\")\n",
    "print(augmented_text)"
   ]
  },
  {
   "cell_type": "code",
   "execution_count": null,
   "id": "104a970e",
   "metadata": {},
   "outputs": [],
   "source": [
    "model = BartForConditionalGeneration.from_pretrained('eugenesiow/bart-paraphrase', cache_dir='hf_cache')\n",
    "device = torch.device(\"cuda\" if torch.cuda.is_available() else \"cpu\")\n",
    "model = model.to(device)\n",
    "tokenizer = BartTokenizer.from_pretrained('eugenesiow/bart-paraphrase')"
   ]
  },
  {
   "cell_type": "code",
   "execution_count": 57,
   "id": "0782c5ae",
   "metadata": {},
   "outputs": [
    {
     "name": "stdout",
     "output_type": "stream",
     "text": [
      "['The camera zooms out to show the man spraying the car with soap.']\n"
     ]
    }
   ],
   "source": [
    "import torch\n",
    "from transformers import BartForConditionalGeneration, BartTokenizer\n",
    "\n",
    "input_sentence = \"The camera zooms out to show the man spraying the car with soap.\"\n",
    "\n",
    "batch = tokenizer(input_sentence, return_tensors='pt')\n",
    "generated_ids = model.generate(batch['input_ids'], repetition_penalty=3.0, top_p=0.4)\n",
    "generated_sentence = tokenizer.batch_decode(generated_ids, skip_special_tokens=True)\n",
    "\n",
    "print(generated_sentence)\n"
   ]
  },
  {
   "cell_type": "code",
   "execution_count": 54,
   "id": "3c398706",
   "metadata": {},
   "outputs": [],
   "source": [
    "?model.generate\n"
   ]
  },
  {
   "cell_type": "code",
   "execution_count": null,
   "id": "dd6bf799",
   "metadata": {},
   "outputs": [],
   "source": []
  }
 ],
 "metadata": {
  "kernelspec": {
   "display_name": "Python (dnli)",
   "language": "python",
   "name": "dnli"
  },
  "language_info": {
   "codemirror_mode": {
    "name": "ipython",
    "version": 3
   },
   "file_extension": ".py",
   "mimetype": "text/x-python",
   "name": "python",
   "nbconvert_exporter": "python",
   "pygments_lexer": "ipython3",
   "version": "3.8.11"
  }
 },
 "nbformat": 4,
 "nbformat_minor": 5
}
