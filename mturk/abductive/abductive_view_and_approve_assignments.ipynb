{
 "cells": [
  {
   "cell_type": "markdown",
   "id": "2ea0d6ab",
   "metadata": {},
   "source": [
    "# MTurk: Approve / Reject Assignments + Post-Task Completion Processing of HITs"
   ]
  },
  {
   "cell_type": "code",
   "execution_count": 28,
   "id": "b6a55fc0",
   "metadata": {},
   "outputs": [],
   "source": [
    "from mturk_processing_utils import programmatically_review_HITs, get_hit_id_dict, mturk, parse_batch\n",
    "from abductive_data import anli_dataset, AbductiveNLIExample\n"
   ]
  },
  {
   "cell_type": "code",
   "execution_count": 119,
   "id": "0aab755d",
   "metadata": {
    "scrolled": false
   },
   "outputs": [
    {
     "name": "stdout",
     "output_type": "stream",
     "text": [
      "----0----\n",
      "['Approved', 'Approved', 'Submitted']\n",
      "Worker:  A3MRNQZKHO3LQR AssignmentId:  3FTYUGLFSULH3CSTYSV03XSS0J7D5I\n",
      "Obs1:  Ana made a living out of lying to friends.\n",
      "Obs2:  The friend she needed most, lied to her, and left her alone.\n",
      "Hyp1:  Ana's friends were annoyed with her behavior.\n",
      "Hyp2:  Ana made a change and told the truth.\n",
      "Label:  1\n",
      "{'hyp1_paraphrases': ['Her friends were displeased with how Ana was acting.',\n",
      "                      'Her peers were discontented with her conduct.',\n",
      "                      \"Her companions were not pleased with Ana's demeanor.\"],\n",
      " 'hyp2_paraphrases': ['Ana adjusted her story and spoke honestly.',\n",
      "                      'Ana corrected herself and divulged the facts.',\n",
      "                      'Ana revised her narrative and revealed the truth.']}\n",
      "Worker:  A3QJ0LIK6SS3PG AssignmentId:  3MMN5BL1WZ4HTRB2X26A7QH2V18M3J\n",
      "Obs1:  Ana made a living out of lying to friends.\n",
      "Obs2:  The friend she needed most, lied to her, and left her alone.\n",
      "Hyp1:  Ana's friends were annoyed with her behavior.\n",
      "Hyp2:  Ana made a change and told the truth.\n",
      "Label:  1\n",
      "{'hyp1_paraphrases': [\"Her friends were not happy with Ana's conduct.\",\n",
      "                      \"Ana's acquaintances were displeased with her actions.\",\n",
      "                      'Her companions were irked by her attitude.'],\n",
      " 'hyp2_paraphrases': ['Ana altered her story and revealed the facts.',\n",
      "                      'Ana shifted her narrative and spoke honestly.',\n",
      "                      'Ana revealed the facts and altered the situation.']}\n",
      "Worker:  A3BKFVHK7GKFHH AssignmentId:  3AMYWKA6YBM4QDJWTKJL6XIR0TZO6I\n",
      "Obs1:  Ana made a living out of lying to friends.\n",
      "Obs2:  The friend she needed most, lied to her, and left her alone.\n",
      "Hyp1:  Ana's friends were annoyed with her behavior.\n",
      "Hyp2:  Ana made a change and told the truth.\n",
      "Label:  1\n",
      "{'hyp1_paraphrases': [\"Her friends were not pleased with Ana's conduct.\",\n",
      "                      \"Ana's companions were not amused by her actions.\",\n",
      "                      'Her pals were discontented with her demeanor.'],\n",
      " 'hyp2_paraphrases': ['Ana altered her story and spoke honestly.',\n",
      "                      'Ana corrected herself and came clean.',\n",
      "                      'Ana revised her story and was truthful.']}\n",
      "Accept (a) or Reject (r):a\n",
      "Accepting!\n",
      "200\n",
      "----1----\n",
      "['Rejected', 'Submitted', 'Submitted']\n",
      "Worker:  A3AF3LZGMUW0TX AssignmentId:  3JBT3HLQF82OZNF8APTBSVGCF1IZPP\n",
      "Obs1:  Sarah had never been on a boat before.\n",
      "Obs2:  She loved every minute of it.\n",
      "Hyp1:  She bought tickets for the carnival.\n",
      "Hyp2:  She boat tickets for the boat.\n",
      "Label:  2\n",
      "{'hyp1_paraphrases': ['SHE READY TO CARNIVAL',\n",
      "                      'SHE HAS TICKETS OF CARNIVAL',\n",
      "                      'SHE ENJOY THE CARNIVAL'],\n",
      " 'hyp2_paraphrases': ['SARAH HAS SEEN THE BOAT AT FIRST TIME',\n",
      "                      'SHE BUYS BOAT TICKET',\n",
      "                      'SARAH WILL BE ON THE BOAT ']}\n",
      "Accept (a) or Reject (r):a\n",
      "Accepting!\n",
      "200\n",
      "Worker:  A1YZHSMNTHT3HD AssignmentId:  3YJ6NA41JBGYZ8A4S3QP41SMW4GPJ7\n",
      "Obs1:  Sarah had never been on a boat before.\n",
      "Obs2:  She loved every minute of it.\n",
      "Hyp1:  She bought tickets for the carnival.\n",
      "Hyp2:  She boat tickets for the boat.\n",
      "Label:  2\n",
      "{'hyp1_paraphrases': ['She acquired passes for the carnival.',\n",
      "                      'She secured admission to the carnival.',\n",
      "                      ' She procured tickets to the carnival.'],\n",
      " 'hyp2_paraphrases': ['She acquired tickets for the voyage.',\n",
      "                      ' She obtained tickets for the vessel.',\n",
      "                      'She purchased boat tickets.']}\n",
      "Accept (a) or Reject (r):a\n",
      "Accepting!\n",
      "200\n",
      "----2----\n",
      "['Approved', 'Approved', 'Approved']\n",
      "Worker:  A2C9JIV12KRGEZ AssignmentId:  3R6BYFZZP7CN3FQZV49LJGMX5VXFX5\n",
      "Obs1:  One day jim found a phone number in a book.\n",
      "Obs2:  He hung up because nobody answered the phone.\n",
      "Hyp1:  Hoping to return the book, Jim visited the number's address.\n",
      "Hyp2:  Hoping to return the book Jim called the number.\n",
      "Label:  2\n",
      "{'hyp1_paraphrases': ['Jim went to the address listed on the book in an '\n",
      "                      'attempt to return it.',\n",
      "                      'With the intention of returning the book, Jim went to '\n",
      "                      'the address provided.',\n",
      "                      'Jim headed to the location indicated on the book in an '\n",
      "                      'effort to return it.'],\n",
      " 'hyp2_paraphrases': ['Jim phoned the number in the hopes of getting the book '\n",
      "                      'back.',\n",
      "                      'Desiring to get the book back, Jim dialed the number.',\n",
      "                      'To try to reclaim the book, Jim telephoned the number.']}\n",
      "Worker:  A3MRNQZKHO3LQR AssignmentId:  336YQZE83VEK76Y6BLU3MNFM9XZM59\n",
      "Obs1:  One day jim found a phone number in a book.\n",
      "Obs2:  He hung up because nobody answered the phone.\n",
      "Hyp1:  Hoping to return the book, Jim visited the number's address.\n",
      "Hyp2:  Hoping to return the book Jim called the number.\n",
      "Label:  2\n",
      "{'hyp1_paraphrases': ['Jim went to the specified address in the hopes of '\n",
      "                      'bringing the book back.',\n",
      "                      'With the goal of bringing the book back, Jim visited '\n",
      "                      'the address given.',\n",
      "                      'Jim journeyed to the location in an attempt to return '\n",
      "                      'the book.'],\n",
      " 'hyp2_paraphrases': ['Jim dialed the number with the hope of returning the '\n",
      "                      'book.',\n",
      "                      'With the intent of giving back the book, Jim phoned the '\n",
      "                      'number.',\n",
      "                      'Jim phoned the number in an effort to give the book '\n",
      "                      'back.']}\n",
      "Worker:  A3QJ0LIK6SS3PG AssignmentId:  3Q8GYXHFEP27YKMFYW0PJRAAFJV5CA\n",
      "Obs1:  One day jim found a phone number in a book.\n",
      "Obs2:  He hung up because nobody answered the phone.\n",
      "Hyp1:  Hoping to return the book, Jim visited the number's address.\n",
      "Hyp2:  Hoping to return the book Jim called the number.\n",
      "Label:  2\n",
      "{'hyp1_paraphrases': ['Jim visited the specified location in an effort to give '\n",
      "                      'back the book.',\n",
      "                      'Jim went to the place listed on the number in an '\n",
      "                      'attempt to return the book.',\n",
      "                      'With the aim of returning the book, Jim went to the '\n",
      "                      'address associated with the number.'],\n",
      " 'hyp2_paraphrases': ['Jim phoned the number with the intent to return the '\n",
      "                      'book.',\n",
      "                      'Jim dialed the number in an attempt to give the book '\n",
      "                      'back.',\n",
      "                      'To bring the book back, Jim rang the number.']}\n",
      "----3----\n",
      "['Approved', 'Approved', 'Approved']\n",
      "Worker:  A3QJ0LIK6SS3PG AssignmentId:  3L2IS5HSFAI7A39LONHB7EW2D42NUS\n",
      "Obs1:  Janice looked at her bags of trash with pride.\n",
      "Obs2:  Instead, she took a friend and they both got small yogurts together.\n",
      "Hyp1:  Janice wanted to go celebrate them alone.\n",
      "Hyp2:  Janice wanted to go celebrate them with friends.\n",
      "Label:  1\n",
      "{'hyp1_paraphrases': ['Janice wanted to commemorate the occasion by herself.',\n",
      "                      'Janice desired to have a solo celebration.',\n",
      "                      'Janice planned to observe the event alone.'],\n",
      " 'hyp2_paraphrases': ['anice was eager to have a party with her friends to '\n",
      "                      'commemorate the occasion.',\n",
      "                      'Janice was excited to mark the moment with her '\n",
      "                      'companions.',\n",
      "                      'Janice desired to honor the event with her comrades.']}\n",
      "Worker:  A3MRNQZKHO3LQR AssignmentId:  3MB8LZR5BFT3J71OIWXUOZJF6I5KLR\n",
      "Obs1:  Janice looked at her bags of trash with pride.\n",
      "Obs2:  Instead, she took a friend and they both got small yogurts together.\n",
      "Hyp1:  Janice wanted to go celebrate them alone.\n",
      "Hyp2:  Janice wanted to go celebrate them with friends.\n",
      "Label:  1\n",
      "{'hyp1_paraphrases': ['Janice wanted to mark the occasion by herself.',\n",
      "                      'Janice wished to enjoy the celebration on her own.',\n",
      "                      'Janice desired to commemorate the event privately.'],\n",
      " 'hyp2_paraphrases': ['Janice was eager to mark the momentous occasion with '\n",
      "                      'her pals',\n",
      "                      'Janice was eager to commemorate the event with her '\n",
      "                      'pals.',\n",
      "                      'Janice was eager to have a joyous gathering with her '\n",
      "                      'pals.']}\n",
      "Worker:  A1YZHSMNTHT3HD AssignmentId:  3R5F3LQFV2K6EN37VPGW3VBM5WLZO7\n",
      "Obs1:  Janice looked at her bags of trash with pride.\n",
      "Obs2:  Instead, she took a friend and they both got small yogurts together.\n",
      "Hyp1:  Janice wanted to go celebrate them alone.\n",
      "Hyp2:  Janice wanted to go celebrate them with friends.\n",
      "Label:  1\n",
      "{'hyp1_paraphrases': ['Janice wished to go and enjoy them by herself.',\n",
      "                      \"To honour them privately was Janice's desire.\",\n",
      "                      'Janice desired to attend their celebration by herself.'],\n",
      " 'hyp2_paraphrases': ['Janice wished to attend their party with pals.',\n",
      "                      'Janice desired to attend the celebration with her pals.',\n",
      "                      'Janice longed to rejoice their achievement with '\n",
      "                      'associates.']}\n",
      "----4----\n"
     ]
    },
    {
     "name": "stdout",
     "output_type": "stream",
     "text": [
      "['Approved', 'Approved', 'Submitted']\n",
      "Worker:  A3MRNQZKHO3LQR AssignmentId:  3FE7TXL1LINJTODBLVZM5PWFZOFQ29\n",
      "Obs1:  Tom was at a birthday party.\n",
      "Obs2:  When he went into the kitchen everybody stared and laughed.\n",
      "Hyp1:  Tom's friend hit him in the face with a pie.\n",
      "Hyp2:  Tom hit his friend in the face with a pie.\n",
      "Label:  1\n",
      "{'hyp1_paraphrases': [\"Tom's buddy threw a pie directly into his face.\",\n",
      "                      \"A pie was forcefully thrown at Tom's face by his \"\n",
      "                      'friend.',\n",
      "                      \"His friend took a pie and bashed it against Tom's \"\n",
      "                      'face.'],\n",
      " 'hyp2_paraphrases': [\"Tom shoved a pie into his friend's face.\",\n",
      "                      \"Tom threw a pie at his friend's face.\",\n",
      "                      \"Tom smeared a pie across his friend's face.\"]}\n",
      "Worker:  A3QJ0LIK6SS3PG AssignmentId:  39ZSFO5CA8WBRDI09PPJE7FL4LSJUH\n",
      "Obs1:  Tom was at a birthday party.\n",
      "Obs2:  When he went into the kitchen everybody stared and laughed.\n",
      "Hyp1:  Tom's friend hit him in the face with a pie.\n",
      "Hyp2:  Tom hit his friend in the face with a pie.\n",
      "Label:  1\n",
      "{'hyp1_paraphrases': [\"2. Tom's companion gave him a pie to the face.\",\n",
      "                      \"A pie was used to strike Tom's friend in the face.\",\n",
      "                      \"His acquaintance delivered a pie to Tom's face.\"],\n",
      " 'hyp2_paraphrases': [\"Tom smeared his friend's face with a pie.\",\n",
      "                      \"Tom launched a pie at his friend's face.\",\n",
      "                      'Tom gave his friend an unexpected pie-face.']}\n",
      "Worker:  A3BKFVHK7GKFHH AssignmentId:  3U088ZLJVKTHHB6JIHUEEQLMQS5W0U\n",
      "Obs1:  Tom was at a birthday party.\n",
      "Obs2:  When he went into the kitchen everybody stared and laughed.\n",
      "Hyp1:  Tom's friend hit him in the face with a pie.\n",
      "Hyp2:  Tom hit his friend in the face with a pie.\n",
      "Label:  1\n",
      "{'hyp1_paraphrases': ['Tom was the recipient of a face-pie from his friend.',\n",
      "                      'His friend smacked Tom in the mug with a pastry.',\n",
      "                      \"Tom's acquaintance presented him with a tart to the \"\n",
      "                      'face.'],\n",
      " 'hyp2_paraphrases': [\" Tom smeared his buddy's face with a pie.\",\n",
      "                      \"Tom administered a pie to his buddy's face.\",\n",
      "                      'Tom inflicted a pie to the face of his friend.']}\n",
      "Accept (a) or Reject (r):a\n",
      "Accepting!\n",
      "200\n",
      "----5----\n",
      "['Approved', 'Approved', 'Rejected']\n",
      "Worker:  A3QJ0LIK6SS3PG AssignmentId:  3OB0CAO74HPWHG7FVQJN5F5JNG4HYB\n",
      "Obs1:  Tiffany got a strange phone call yesterday.\n",
      "Obs2:  It was without her consent, so she demanded they remove her number.\n",
      "Hyp1:  The caller tried to sell her insurance.\n",
      "Hyp2:  The caller tried to give her free money.\n",
      "Label:  1\n",
      "{'hyp1_paraphrases': ['The individual attempted to market her insurance '\n",
      "                      'policies.',\n",
      "                      'The person on the line attempted to promote their '\n",
      "                      'insurance coverage.',\n",
      "                      'The caller was attempting to push her insurance '\n",
      "                      'services.'],\n",
      " 'hyp2_paraphrases': [' The caller attempted to provide her with gratis funds.',\n",
      "                      'The caller offered her funds without charge.',\n",
      "                      'The caller made an effort to supply her with uncharged '\n",
      "                      'money.']}\n",
      "Worker:  A3MRNQZKHO3LQR AssignmentId:  3RKNTXVS3MY19MLH0DLO84E8FKWA4P\n",
      "Obs1:  Tiffany got a strange phone call yesterday.\n",
      "Obs2:  It was without her consent, so she demanded they remove her number.\n",
      "Hyp1:  The caller tried to sell her insurance.\n",
      "Hyp2:  The caller tried to give her free money.\n",
      "Label:  1\n",
      "{'hyp1_paraphrases': ['She tried to persuade the listener to purchase '\n",
      "                      'insurance.',\n",
      "                      'She attempted to market her insurance product.',\n",
      "                      'She endeavored to promote her insurance coverage.'],\n",
      " 'hyp2_paraphrases': ['The caller attempted to provide her with a monetary '\n",
      "                      'gift.',\n",
      "                      'The caller was attempting to present her with a sum of '\n",
      "                      'money.',\n",
      "                      'The caller offered her a financial bonus.']}\n"
     ]
    }
   ],
   "source": [
    "programmatically_review_HITs(\n",
    "    get_hit_id_dict(\n",
    "        'mturk/abductive/mturk_data/creation/anli_annotation_examples_4.json',\n",
    "    )[1], \n",
    "    anli_dataset\n",
    ")\n"
   ]
  },
  {
   "cell_type": "code",
   "execution_count": 76,
   "id": "a02f1549",
   "metadata": {},
   "outputs": [
    {
     "ename": "NameError",
     "evalue": "name 'batch' is not defined",
     "output_type": "error",
     "traceback": [
      "\u001b[0;31m---------------------------------------------------------------------------\u001b[0m",
      "\u001b[0;31mNameError\u001b[0m                                 Traceback (most recent call last)",
      "Input \u001b[0;32mIn [76]\u001b[0m, in \u001b[0;36m<cell line: 1>\u001b[0;34m()\u001b[0m\n\u001b[0;32m----> 1\u001b[0m \u001b[43mbatch\u001b[49m\u001b[38;5;241m.\u001b[39mwrite_to_json(os\u001b[38;5;241m.\u001b[39mpath\u001b[38;5;241m.\u001b[39mjoin(PROJECT_ROOT_DIR, \u001b[38;5;124mf\u001b[39m\u001b[38;5;124m'\u001b[39m\u001b[38;5;124mmturk/abductive/mturk_data/creation/anli_annotation_examples_2.json\u001b[39m\u001b[38;5;124m'\u001b[39m))\n",
      "\u001b[0;31mNameError\u001b[0m: name 'batch' is not defined"
     ]
    }
   ],
   "source": [
    "batch.write_to_json(os.path.join(PROJECT_ROOT_DIR, f'mturk/abductive/mturk_data/creation/anli_annotation_examples_2.json'))"
   ]
  },
  {
   "cell_type": "code",
   "execution_count": 120,
   "id": "5951bdea",
   "metadata": {
    "scrolled": true
   },
   "outputs": [
    {
     "data": {
      "text/plain": [
       "{'ResponseMetadata': {'RequestId': '7d41f25d-6b6f-4476-a320-5dd610486786',\n",
       "  'HTTPStatusCode': 200,\n",
       "  'HTTPHeaders': {'x-amzn-requestid': '7d41f25d-6b6f-4476-a320-5dd610486786',\n",
       "   'content-type': 'application/x-amz-json-1.1',\n",
       "   'content-length': '2',\n",
       "   'date': 'Thu, 26 Jan 2023 16:51:14 GMT'},\n",
       "  'RetryAttempts': 0}}"
      ]
     },
     "execution_count": 120,
     "metadata": {},
     "output_type": "execute_result"
    }
   ],
   "source": [
    "response = mturk.create_worker_block(\n",
    "    WorkerId='A3AF3LZGMUW0TX',\n",
    "    Reason='Worker misunderstood task/spamming.'\n",
    ")\n",
    "response"
   ]
  },
  {
   "cell_type": "code",
   "execution_count": 55,
   "id": "60f5dcf8",
   "metadata": {},
   "outputs": [
    {
     "data": {
      "text/plain": [
       "{'ResponseMetadata': {'RequestId': '06bf6907-fc95-4c63-8c26-176b9cd93dde',\n",
       "  'HTTPStatusCode': 200,\n",
       "  'HTTPHeaders': {'x-amzn-requestid': '06bf6907-fc95-4c63-8c26-176b9cd93dde',\n",
       "   'content-type': 'application/x-amz-json-1.1',\n",
       "   'content-length': '2',\n",
       "   'date': 'Thu, 26 Jan 2023 15:07:00 GMT'},\n",
       "  'RetryAttempts': 0}}"
      ]
     },
     "execution_count": 55,
     "metadata": {},
     "output_type": "execute_result"
    }
   ],
   "source": [
    "mturk.approve_assignment(\n",
    "    AssignmentId='336KAV9KYQSS2Q4XC5GGIBZHYYI2YC',\n",
    "    OverrideRejection=True\n",
    ")"
   ]
  },
  {
   "cell_type": "code",
   "execution_count": 100,
   "id": "fb21f2e3",
   "metadata": {},
   "outputs": [],
   "source": [
    "import random\n",
    "x = [1, 2, 3]\n",
    "y = [4, 5, 6]"
   ]
  },
  {
   "cell_type": "code",
   "execution_count": 106,
   "id": "9504a7dd",
   "metadata": {},
   "outputs": [
    {
     "data": {
      "text/plain": [
       "[3, 2, 1]"
      ]
     },
     "execution_count": 106,
     "metadata": {},
     "output_type": "execute_result"
    }
   ],
   "source": []
  },
  {
   "cell_type": "code",
   "execution_count": 102,
   "id": "6769373c",
   "metadata": {},
   "outputs": [
    {
     "data": {
      "text/plain": [
       "[2, 3, 1]"
      ]
     },
     "execution_count": 102,
     "metadata": {},
     "output_type": "execute_result"
    }
   ],
   "source": [
    "x"
   ]
  },
  {
   "cell_type": "code",
   "execution_count": null,
   "id": "af321ba4",
   "metadata": {},
   "outputs": [],
   "source": []
  }
 ],
 "metadata": {
  "kernelspec": {
   "display_name": "Python [conda env:adapter]",
   "language": "python",
   "name": "conda-env-adapter-py"
  },
  "language_info": {
   "codemirror_mode": {
    "name": "ipython",
    "version": 3
   },
   "file_extension": ".py",
   "mimetype": "text/x-python",
   "name": "python",
   "nbconvert_exporter": "python",
   "pygments_lexer": "ipython3",
   "version": "3.8.13"
  }
 },
 "nbformat": 4,
 "nbformat_minor": 5
}
