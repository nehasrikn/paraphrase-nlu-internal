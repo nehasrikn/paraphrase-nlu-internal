{
 "cells": [
  {
   "cell_type": "markdown",
   "id": "637c0771",
   "metadata": {},
   "source": [
    "# MTurk: Approve / Reject Assignments + Post-Task Completion Processing of HITs"
   ]
  },
  {
   "cell_type": "code",
   "execution_count": 1,
   "id": "0ba65c55",
   "metadata": {},
   "outputs": [],
   "source": [
    "import boto3\n",
    "import json\n",
    "import pandas as pd\n",
    "import ast\n",
    "from simple_colors import *\n",
    "from typing import Dict\n",
    "import re\n",
    "import pprint\n",
    "import string\n",
    "from pathlib import Path\n"
   ]
  },
  {
   "cell_type": "code",
   "execution_count": 2,
   "id": "0ca5f669",
   "metadata": {},
   "outputs": [],
   "source": [
    "from mturk_processing_utils import *"
   ]
  },
  {
   "cell_type": "code",
   "execution_count": 3,
   "id": "240a0caa",
   "metadata": {},
   "outputs": [],
   "source": [
    "raw_data_paths = {\n",
    "    'atomic': '/Users/nehasrikanth/Documents/paraphrase-nlu/raw-data/defeasible-nli/defeasible-atomic/',\n",
    "    'snli': '/Users/nehasrikanth/Documents/paraphrase-nlu/raw-data/defeasible-nli/defeasible-snli/',\n",
    "    'social': '/Users/nehasrikanth/Documents/paraphrase-nlu/raw-data/defeasible-nli/defeasible-social/',\n",
    "}"
   ]
  },
  {
   "cell_type": "markdown",
   "id": "30fff196",
   "metadata": {},
   "source": [
    "### Atomic "
   ]
  },
  {
   "cell_type": "code",
   "execution_count": 7,
   "id": "f4e86a84",
   "metadata": {},
   "outputs": [
    {
     "name": "stdout",
     "output_type": "stream",
     "text": [
      "Unique premise-hypothesis pairs: 17689 / 35002\n",
      "Loaded 35002 nonempty train examples...(skipped 4034 examples)\n",
      "Unique premise-hypothesis pairs: 1940 / 3840\n",
      "Loaded 3840 nonempty dev examples...(skipped 470 examples)\n",
      "Unique premise-hypothesis pairs: 2091 / 4138\n",
      "Loaded 4138 nonempty test examples...(skipped 516 examples)\n"
     ]
    }
   ],
   "source": [
    "# get_completetion_progress(hit_id_2_example_id)\n",
    "\n",
    "atomic_batches = [\n",
    "    'mturk_data/creation/atomic_dnli_annotation_examples_1.json',\n",
    "    'mturk_data/creation/atomic_dnli_annotation_examples_2.json',\n",
    "    'mturk_data/creation/atomic_dnli_annotation_examples_3.json'\n",
    "]\n",
    "\n",
    "dnli_atomic = get_dataset(raw_data_paths['atomic'], 'atomic')\n",
    "\n",
    "atomic_hit_dicts = [get_hit_id_dict(b)[1] for b in atomic_batches]\n",
    "atomic_example_dicts = [get_hit_id_dict(b)[2] for b in atomic_batches]\n",
    "\n",
    "atomic_approved = [\n",
    "   parse_batch(hit_dict)[0] for hit_dict in atomic_hit_dicts\n",
    "]"
   ]
  },
  {
   "cell_type": "code",
   "execution_count": 8,
   "id": "c10d309f",
   "metadata": {},
   "outputs": [
    {
     "name": "stdout",
     "output_type": "stream",
     "text": [
      "175\n"
     ]
    }
   ],
   "source": [
    "atomic_approved_paraphrases = {}\n",
    "\n",
    "for a in atomic_approved:\n",
    "    atomic_approved_paraphrases.update(approved_parsed_batch_2_dicts(a, dnli_atomic))\n",
    "\n",
    "print(len(atomic_approved_paraphrases))"
   ]
  },
  {
   "cell_type": "markdown",
   "id": "1da9cd70",
   "metadata": {},
   "source": [
    "#### To Repost"
   ]
  },
  {
   "cell_type": "markdown",
   "id": "bde115b0",
   "metadata": {},
   "source": [
    "### SNLI"
   ]
  },
  {
   "cell_type": "code",
   "execution_count": 4,
   "id": "5ba9ac44",
   "metadata": {},
   "outputs": [
    {
     "name": "stdout",
     "output_type": "stream",
     "text": [
      "Unique premise-hypothesis pairs: 9572 / 88676\n",
      "Loaded 88676 nonempty train examples...(skipped 5184 examples)\n",
      "Unique premise-hypothesis pairs: 195 / 1785\n",
      "Loaded 1785 nonempty dev examples...(skipped 103 examples)\n",
      "Unique premise-hypothesis pairs: 203 / 1837\n",
      "Loaded 1837 nonempty test examples...(skipped 135 examples)\n"
     ]
    }
   ],
   "source": [
    "snli_batches = [\n",
    "    'mturk_data/creation/snli_dnli_annotation_examples_1.json',\n",
    "    'mturk_data/creation/snli_dnli_annotation_examples_2.json',\n",
    "    'mturk_data/creation/snli_dnli_annotation_examples_3.json'\n",
    "]\n",
    "\n",
    "dnli_snli = get_dataset(raw_data_paths['snli'], 'snli')\n",
    "\n",
    "snli_hit_dicts = [get_hit_id_dict(b)[1] for b in snli_batches]\n",
    "snli_example_dicts = [get_hit_id_dict(b)[2] for b in snli_batches]\n",
    "snli_approved = [\n",
    "   parse_batch(hit_dict)[0] for hit_dict in snli_hit_dicts\n",
    "]"
   ]
  },
  {
   "cell_type": "code",
   "execution_count": 5,
   "id": "642595b7",
   "metadata": {
    "scrolled": false
   },
   "outputs": [
    {
     "name": "stdout",
     "output_type": "stream",
     "text": [
      "250\n"
     ]
    }
   ],
   "source": [
    "snli_approved_paraphrases = {}\n",
    "\n",
    "for a in snli_approved:\n",
    "    snli_approved_paraphrases.update(approved_parsed_batch_2_dicts(a, dnli_snli))\n",
    "\n",
    "print(len(snli_approved_paraphrases))"
   ]
  },
  {
   "cell_type": "code",
   "execution_count": null,
   "id": "fe612499",
   "metadata": {},
   "outputs": [],
   "source": [
    "import json\n",
    "with open('snli_approved.json', 'w') as f:\n",
    "    json.dump(paraphrased_dnli_examples, f)"
   ]
  },
  {
   "cell_type": "code",
   "execution_count": null,
   "id": "1227b88e",
   "metadata": {},
   "outputs": [],
   "source": []
  },
  {
   "cell_type": "code",
   "execution_count": null,
   "id": "a64366b2",
   "metadata": {},
   "outputs": [],
   "source": []
  },
  {
   "cell_type": "code",
   "execution_count": null,
   "id": "1c4da2f2",
   "metadata": {},
   "outputs": [],
   "source": [
    "view_assignment('3EJJQNKU9R5NKFVTHVRTXJCMA43HRZ', dnli_snli, hit_id_2_example_id_snli_batch_3)\n",
    "response = mturk.create_worker_block(\n",
    "    WorkerId='APHL3OC024851',\n",
    "    Reason='Worker is using multiple accounts to fill out verbatim content.'\n",
    ")"
   ]
  }
 ],
 "metadata": {
  "kernelspec": {
   "display_name": "Python [conda env:para-nlu]",
   "language": "python",
   "name": "conda-env-para-nlu-py"
  },
  "language_info": {
   "codemirror_mode": {
    "name": "ipython",
    "version": 3
   },
   "file_extension": ".py",
   "mimetype": "text/x-python",
   "name": "python",
   "nbconvert_exporter": "python",
   "pygments_lexer": "ipython3",
   "version": "3.8.13"
  }
 },
 "nbformat": 4,
 "nbformat_minor": 5
}
