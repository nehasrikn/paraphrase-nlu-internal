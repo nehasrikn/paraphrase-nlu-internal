{
 "cells": [
  {
   "cell_type": "markdown",
   "id": "637c0771",
   "metadata": {},
   "source": [
    "# MTurk: Approve / Reject Assignments + Post-Task Completion Processing of HITs"
   ]
  },
  {
   "cell_type": "code",
   "execution_count": null,
   "id": "0ba65c55",
   "metadata": {},
   "outputs": [],
   "source": [
    "import boto3\n",
    "import json\n",
    "import pandas as pd\n",
    "import ast\n",
    "from simple_colors import *\n",
    "from typing import Dict\n",
    "import re\n",
    "import pprint\n",
    "import string\n",
    "from pathlib import Path\n",
    "import os"
   ]
  },
  {
   "cell_type": "code",
   "execution_count": null,
   "id": "0ca5f669",
   "metadata": {},
   "outputs": [],
   "source": [
    "from mturk_processing_utils import (\n",
    "    programmatically_review_HITs,\n",
    "    get_dataset, \n",
    "    get_hit_id_dict, \n",
    "    parse_batch, \n",
    "    approved_parsed_batch_2_dicts,\n",
    "    view_assignment,\n",
    "    mturk,\n",
    "    get_completetion_progress\n",
    ")"
   ]
  },
  {
   "cell_type": "code",
   "execution_count": null,
   "id": "1eb09a52",
   "metadata": {},
   "outputs": [],
   "source": [
    "PROJECT_ROOT_DIR = '/Users/nehasrikanth/Documents/paraphrase-nlu/'\n",
    "dataset_name = ['atomic', 'snli', 'social']\n",
    "\n",
    "\n",
    "raw_data_paths = {d: os.path.join(PROJECT_ROOT_DIR, f'raw-data/defeasible-nli/defeasible-{d}') for d in dataset_name}"
   ]
  },
  {
   "cell_type": "code",
   "execution_count": null,
   "id": "65029640",
   "metadata": {
    "scrolled": true
   },
   "outputs": [],
   "source": [
    "programmatically_review_HITs(\n",
    "    get_hit_id_dict(\n",
    "        'mturk_data/creation/atomic_dnli_annotation_examples_3.json',\n",
    "    )[1], \n",
    "    get_dataset(raw_data_paths['atomic'], 'atomic')\n",
    ")\n"
   ]
  }
 ],
 "metadata": {
  "kernelspec": {
   "display_name": "Python [conda env:para-nlu]",
   "language": "python",
   "name": "conda-env-para-nlu-py"
  },
  "language_info": {
   "codemirror_mode": {
    "name": "ipython",
    "version": 3
   },
   "file_extension": ".py",
   "mimetype": "text/x-python",
   "name": "python",
   "nbconvert_exporter": "python",
   "pygments_lexer": "ipython3",
   "version": "3.8.13"
  }
 },
 "nbformat": 4,
 "nbformat_minor": 5
}
