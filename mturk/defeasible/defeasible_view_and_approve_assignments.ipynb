{
 "cells": [
  {
   "cell_type": "markdown",
   "id": "637c0771",
   "metadata": {},
   "source": [
    "# MTurk: Approve / Reject Assignments + Post-Task Completion Processing of HITs"
   ]
  },
  {
   "cell_type": "code",
   "execution_count": 1,
   "id": "0ba65c55",
   "metadata": {},
   "outputs": [],
   "source": [
    "import boto3\n",
    "import json\n",
    "import pandas as pd\n",
    "import ast\n",
    "from simple_colors import *\n",
    "from typing import Dict\n",
    "import re\n",
    "import pprint\n",
    "import string\n",
    "from pathlib import Path\n",
    "import os"
   ]
  },
  {
   "cell_type": "code",
   "execution_count": 2,
   "id": "0ca5f669",
   "metadata": {},
   "outputs": [],
   "source": [
    "from mturk_processing_utils import (\n",
    "    programmatically_review_HITs,\n",
    "    get_dataset, \n",
    "    get_hit_id_dict, \n",
    "    parse_batch, \n",
    "    approved_parsed_batch_2_dicts,\n",
    "    view_assignment,\n",
    "    mturk,\n",
    "    get_completetion_progress\n",
    ")"
   ]
  },
  {
   "cell_type": "code",
   "execution_count": 3,
   "id": "1eb09a52",
   "metadata": {},
   "outputs": [],
   "source": [
    "PROJECT_ROOT_DIR = '/Users/nehasrikanth/Documents/paraphrase-nlu/'\n",
    "dataset_name = ['atomic', 'snli', 'social']\n",
    "\n",
    "\n",
    "raw_data_paths = {d: os.path.join(PROJECT_ROOT_DIR, f'raw-data/defeasible-nli/defeasible-{d}') for d in dataset_name}"
   ]
  },
  {
   "cell_type": "markdown",
   "id": "62540c31",
   "metadata": {},
   "source": [
    "### Social"
   ]
  },
  {
   "cell_type": "code",
   "execution_count": null,
   "id": "1c4da2f2",
   "metadata": {},
   "outputs": [],
   "source": [
    "view_assignment('3BQU611VFPKO19HOP23FTHE4SIE990', dnli_social, hit_id_2_example_id_social_4)\n"
   ]
  },
  {
   "cell_type": "code",
   "execution_count": null,
   "id": "ba95ed6f",
   "metadata": {},
   "outputs": [],
   "source": [
    "response = mturk.approve_assignment(\n",
    "      AssignmentId='3BQU611VFPKO19HOP23FTHE4SIE990',\n",
    "      RequesterFeedback='Thanks for doing a great job!',\n",
    ")"
   ]
  },
  {
   "cell_type": "code",
   "execution_count": null,
   "id": "29da9b4b",
   "metadata": {},
   "outputs": [],
   "source": [
    "response = mturk.reject_assignment(\n",
    "    AssignmentId='3H7XDTSHKCRESFH4WJJHZI82UV3WGB',\n",
    "    RequesterFeedback='These are not all grammatical.'\n",
    ")"
   ]
  },
  {
   "cell_type": "code",
   "execution_count": null,
   "id": "2142dbf1",
   "metadata": {
    "scrolled": true
   },
   "outputs": [],
   "source": [
    "programmatically_review_HITs(\n",
    "    get_hit_id_dict(\n",
    "        'mturk_data/creation/social_dnli_annotation_examples_5.json',\n",
    "    )[1], \n",
    "    get_dataset(raw_data_paths['social'], 'social')\n",
    ")\n"
   ]
  },
  {
   "cell_type": "code",
   "execution_count": null,
   "id": "3f82ad34",
   "metadata": {},
   "outputs": [],
   "source": [
    "response = mturk.create_worker_block(\n",
    "    WorkerId='A2D1P8V5YPI6G6',\n",
    "    Reason='Worker is spamming or did not complete the task according to instructions.'\n",
    ")"
   ]
  },
  {
   "cell_type": "code",
   "execution_count": null,
   "id": "7ed5bc70",
   "metadata": {},
   "outputs": [],
   "source": []
  },
  {
   "cell_type": "markdown",
   "id": "a81cba18",
   "metadata": {},
   "source": [
    "## Post Processing"
   ]
  },
  {
   "cell_type": "code",
   "execution_count": null,
   "id": "b3738c6e",
   "metadata": {},
   "outputs": [],
   "source": []
  },
  {
   "cell_type": "code",
   "execution_count": null,
   "id": "53d83ccf",
   "metadata": {},
   "outputs": [],
   "source": []
  }
 ],
 "metadata": {
  "kernelspec": {
   "display_name": "Python [conda env:para-nlu]",
   "language": "python",
   "name": "conda-env-para-nlu-py"
  },
  "language_info": {
   "codemirror_mode": {
    "name": "ipython",
    "version": 3
   },
   "file_extension": ".py",
   "mimetype": "text/x-python",
   "name": "python",
   "nbconvert_exporter": "python",
   "pygments_lexer": "ipython3",
   "version": "3.8.13"
  }
 },
 "nbformat": 4,
 "nbformat_minor": 5
}
