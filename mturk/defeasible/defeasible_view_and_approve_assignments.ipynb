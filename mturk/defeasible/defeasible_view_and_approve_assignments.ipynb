{
 "cells": [
  {
   "cell_type": "markdown",
   "id": "637c0771",
   "metadata": {},
   "source": [
    "# MTurk: Approve / Reject Assignments + Post-Task Completion Processing of HITs"
   ]
  },
  {
   "cell_type": "code",
   "execution_count": 1,
   "id": "0ba65c55",
   "metadata": {},
   "outputs": [],
   "source": [
    "import boto3\n",
    "import json\n",
    "import pandas as pd\n",
    "import ast\n",
    "from simple_colors import *\n",
    "from typing import Dict\n",
    "import re\n",
    "import pprint\n",
    "import string\n",
    "from pathlib import Path\n",
    "import os"
   ]
  },
  {
   "cell_type": "code",
   "execution_count": 41,
   "id": "0ca5f669",
   "metadata": {},
   "outputs": [],
   "source": [
    "from mturk_processing_utils import (\n",
    "    programmatically_review_HITs,\n",
    "    get_dataset, \n",
    "    get_hit_id_dict, \n",
    "    parse_batch, \n",
    "    approved_parsed_batch_2_dicts,\n",
    "    view_assignment,\n",
    "    mturk,\n",
    "    get_completetion_progress\n",
    ")"
   ]
  },
  {
   "cell_type": "code",
   "execution_count": 3,
   "id": "1eb09a52",
   "metadata": {},
   "outputs": [],
   "source": [
    "PROJECT_ROOT_DIR = '/Users/nehasrikanth/Documents/paraphrase-nlu/'\n",
    "dataset_name = ['atomic', 'snli', 'social']\n",
    "\n",
    "\n",
    "raw_data_paths = {d: os.path.join(PROJECT_ROOT_DIR, f'raw-data/defeasible-nli/defeasible-{d}') for d in dataset_name}"
   ]
  },
  {
   "cell_type": "markdown",
   "id": "0813494d",
   "metadata": {},
   "source": [
    "### Social"
   ]
  },
  {
   "cell_type": "code",
   "execution_count": 8,
   "id": "a81cd678",
   "metadata": {},
   "outputs": [
    {
     "name": "stdout",
     "output_type": "stream",
     "text": [
      "Unique premise-hypothesis pairs: 7893 / 77016\n",
      "Loaded 77016 nonempty train examples...(skipped 3314 examples)\n",
      "Unique premise-hypothesis pairs: 979 / 9343\n",
      "Loaded 9343 nonempty dev examples...(skipped 467 examples)\n",
      "Unique premise-hypothesis pairs: 982 / 9439\n",
      "Loaded 9439 nonempty test examples...(skipped 421 examples)\n"
     ]
    }
   ],
   "source": [
    "social_batches = [\n",
    "    'mturk_data/creation/social_dnli_annotation_examples_1.json',\n",
    "]\n",
    "\n",
    "dnli_social = get_dataset(raw_data_paths['social'], 'social')"
   ]
  },
  {
   "cell_type": "code",
   "execution_count": 9,
   "id": "790088da",
   "metadata": {},
   "outputs": [],
   "source": [
    "_, hit_id_2_example_id_social_1, _ = get_hit_id_dict(social_batches[0])"
   ]
  },
  {
   "cell_type": "code",
   "execution_count": 46,
   "id": "bd2f32d9",
   "metadata": {},
   "outputs": [
    {
     "name": "stdout",
     "output_type": "stream",
     "text": [
      "\u001b[1;4;35mProgress\u001b[0m\n",
      "\u001b[1;34m[\u001b[0m\u001b[34m⌾⌾⌾⌾⌾⌾⌾⌾⌾⌾⌾⌾⌾⌾⌾⌾⌾⌾⌾⌾⌾⌾⌾⌾⌾⌾⌾⌾⌾⌾\u001b[0m\u001b[1;34m]\u001b[0m 98.7%\n"
     ]
    }
   ],
   "source": [
    "get_completetion_progress(hit_id_2_example_id_social_1)"
   ]
  },
  {
   "cell_type": "code",
   "execution_count": 49,
   "id": "1c4da2f2",
   "metadata": {},
   "outputs": [
    {
     "name": "stdout",
     "output_type": "stream",
     "text": [
      "Worker:  A3UP0XSH0HHIQS AssignmentId:  3WMINLGALB344QYWTSR6R2QW4F8CAW\n",
      "Premise:  \n",
      "Hypothesis:  Don't brush off complaints as something that isn't serious.\n",
      "Update:  Many people are complaining about the same thing\n",
      "Update Type:  strengthener\n",
      "\n",
      "{'paraphrase_1': 'Many others are expressing their dissatisfaction with the '\n",
      "                 'same issue.',\n",
      " 'paraphrase_2': 'Many people are voicing their dissatisfaction with the same '\n",
      "                 'issue.',\n",
      " 'paraphrase_3': 'Many people are expressing their displeasure with the same '\n",
      "                 'issue.'}\n"
     ]
    }
   ],
   "source": [
    "view_assignment('3WMINLGALB344QYWTSR6R2QW4F8CAW', dnli_social, hit_id_2_example_id_social_1)\n"
   ]
  },
  {
   "cell_type": "code",
   "execution_count": 50,
   "id": "6aaec639",
   "metadata": {},
   "outputs": [],
   "source": [
    "response = mturk.approve_assignment(\n",
    "      AssignmentId='3WMINLGALB344QYWTSR6R2QW4F8CAW',\n",
    "      RequesterFeedback='Thanks for doing a great job!',\n",
    ")"
   ]
  },
  {
   "cell_type": "code",
   "execution_count": null,
   "id": "42319e00",
   "metadata": {},
   "outputs": [],
   "source": [
    "response = mturk.reject_assignment(\n",
    "    AssignmentId='39LNWE0K4UWFW2YUR74J260LONXUI5',\n",
    "    RequesterFeedback='These are not 3 paraphrases of the evidence sentence.'\n",
    ")"
   ]
  },
  {
   "cell_type": "code",
   "execution_count": null,
   "id": "3089ed80",
   "metadata": {},
   "outputs": [],
   "source": [
    "response = mturk.create_worker_block(\n",
    "    WorkerId='A2B8YUXLFIDKUG',\n",
    "    Reason='Worker is spamming.'\n",
    ")"
   ]
  }
 ],
 "metadata": {
  "kernelspec": {
   "display_name": "Python [conda env:para-nlu]",
   "language": "python",
   "name": "conda-env-para-nlu-py"
  },
  "language_info": {
   "codemirror_mode": {
    "name": "ipython",
    "version": 3
   },
   "file_extension": ".py",
   "mimetype": "text/x-python",
   "name": "python",
   "nbconvert_exporter": "python",
   "pygments_lexer": "ipython3",
   "version": "3.8.13"
  }
 },
 "nbformat": 4,
 "nbformat_minor": 5
}
