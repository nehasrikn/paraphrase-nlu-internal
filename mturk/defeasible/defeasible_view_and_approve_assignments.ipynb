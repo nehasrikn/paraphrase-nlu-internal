{
 "cells": [
  {
   "cell_type": "markdown",
   "id": "637c0771",
   "metadata": {},
   "source": [
    "# MTurk: Approve / Reject Assignments + Post-Task Completion Processing of HITs"
   ]
  },
  {
   "cell_type": "code",
   "execution_count": 1,
   "id": "0ba65c55",
   "metadata": {},
   "outputs": [],
   "source": [
    "import boto3\n",
    "import json\n",
    "import pandas as pd\n",
    "import ast\n",
    "from simple_colors import *\n",
    "from typing import Dict\n",
    "import re\n",
    "import pprint\n",
    "import string"
   ]
  },
  {
   "cell_type": "code",
   "execution_count": 2,
   "id": "0ca5f669",
   "metadata": {},
   "outputs": [],
   "source": [
    "from mturk_processing_utils import *"
   ]
  },
  {
   "cell_type": "code",
   "execution_count": null,
   "id": "e028466d",
   "metadata": {
    "scrolled": true
   },
   "outputs": [],
   "source": [
    "batch_data = [\n",
    "    {\n",
    "        'raw_data_path': '/Users/nehasrikanth/Documents/paraphrase-nlu/raw-data/defeasible-nli/defeasible-atomic/',\n",
    "        'data_source': 'atomic',\n",
    "        'creation_metadata_path': 'mturk_data/creation/atomic_dnli_annotation_examples_1.json'\n",
    "    },\n",
    "    {\n",
    "        'raw_data_path': '/Users/nehasrikanth/Documents/paraphrase-nlu/raw-data/defeasible-nli/defeasible-atomic/',\n",
    "        'data_source': 'atomic',\n",
    "        'creation_metadata_path': 'mturk_data/creation/atomic_dnli_annotation_examples_2.json'\n",
    "    },\n",
    "    {\n",
    "        'raw_data_path': '/Users/nehasrikanth/Documents/paraphrase-nlu/raw-data/defeasible-nli/defeasible-snli/',\n",
    "        'data_source': 'snli',\n",
    "        'creation_metadata_path': 'mturk_data/creation/snli_dnli_annotation_examples_1.json'\n",
    "    },\n",
    "    {\n",
    "        'raw_data_path': '/Users/nehasrikanth/Documents/paraphrase-nlu/raw-data/defeasible-nli/defeasible-snli/',\n",
    "        'data_source': 'snli',\n",
    "        'creation_metadata_path': 'mturk_data/creation/snli_dnli_annotation_examples_2.json'\n",
    "    },\n",
    "    {\n",
    "        'raw_data_path': '/Users/nehasrikanth/Documents/paraphrase-nlu/raw-data/defeasible-nli/defeasible-snli/',\n",
    "        'data_source': 'snli',\n",
    "        'creation_metadata_path': 'mturk_data/creation/snli_dnli_annotation_examples_3.json'\n",
    "    },\n",
    "    {\n",
    "        'raw_data_path': '/Users/nehasrikanth/Documents/paraphrase-nlu/raw-data/defeasible-nli/defeasible-atomic/',\n",
    "        'data_source': 'atomic',\n",
    "        'creation_metadata_path': 'mturk_data/creation/atomic_dnli_annotation_examples_3.json'\n",
    "    },\n",
    "    \n",
    "]\n",
    "\n",
    "for batch in batch_data:\n",
    "    print(batch['creation_metadata_path'])\n",
    "    dataset, posted_tasks, hit_id_2_example_id = get_dataset_and_hit_id_dict(**batch)\n",
    "    get_completetion_progress(hit_id_2_example_id)"
   ]
  },
  {
   "cell_type": "code",
   "execution_count": null,
   "id": "d36242fc",
   "metadata": {},
   "outputs": [],
   "source": [
    "_ ,_ , hit_id_2_example_id_atomic_batch_1 = get_dataset_and_hit_id_dict(**batch_data[0])\n",
    "dnli_atomic ,_ , hit_id_2_example_id_atomic_batch_2 = get_dataset_and_hit_id_dict(**batch_data[1])\n",
    "_ ,_ , hit_id_2_example_id_atomic_batch_3 = get_dataset_and_hit_id_dict(**batch_data[5])\n",
    "\n",
    "\n",
    "dnli_snli ,_ , hit_id_2_example_id_snli_batch_1 = get_dataset_and_hit_id_dict(**batch_data[2])\n",
    "_ ,_ , hit_id_2_example_id_snli_batch_2 = get_dataset_and_hit_id_dict(**batch_data[3])\n",
    "_ ,_ , hit_id_2_example_id_snli_batch_3 = get_dataset_and_hit_id_dict(**batch_data[4])"
   ]
  },
  {
   "cell_type": "code",
   "execution_count": null,
   "id": "560e75af",
   "metadata": {},
   "outputs": [],
   "source": []
  },
  {
   "cell_type": "code",
   "execution_count": null,
   "id": "1d16d795",
   "metadata": {},
   "outputs": [],
   "source": [
    "from collections import defaultdict\n",
    "\n"
   ]
  },
  {
   "cell_type": "code",
   "execution_count": null,
   "id": "642595b7",
   "metadata": {
    "scrolled": false
   },
   "outputs": [],
   "source": [
    "approved_snli_batch_1, _ = parse_batch(hit_id_2_example_id_snli_batch_1)\n",
    "approved_snli_batch_2, _ = parse_batch(hit_id_2_example_id_snli_batch_2)\n",
    "approved_snli_batch_3, _ = parse_batch(hit_id_2_example_id_snli_batch_3)"
   ]
  },
  {
   "cell_type": "code",
   "execution_count": null,
   "id": "17a9fa6a",
   "metadata": {},
   "outputs": [],
   "source": [
    "dnli_snli.get_example_by_id(ex)\n",
    "\n",
    "class ParaphrasedDefeasibleNLIExample:\n",
    "    paraphrase_id: str # <example_id>.<example_annotator_id>.<h1_id>.<h2_id> for human, <example_id>.<system>.<identifiers> for generated\n",
    "    original_example: DefeasibleNLIExample\n",
    "    original_example_id: str\n",
    "    update_paraphrase: str\n",
    "    example_worker_id: Optional[int] = None\n",
    "    worker_id: Optional[str] = None #mturk worker id or system\n",
    "    premise_paraphrase: Optional[str] = None\n",
    "    hypothesis_paraphrase: Optional[str] = None\n",
    "    automatic_system_metadata: Optional[Dict[Any, Any]] = None # can contain system-specific metadata\n"
   ]
  },
  {
   "cell_type": "code",
   "execution_count": null,
   "id": "e7d6e5c2",
   "metadata": {},
   "outputs": [],
   "source": [
    "from dataclasses import asdict\n",
    "\n",
    "paraphrased_dnli_examples = defaultdict(list)\n",
    "\n",
    "for batch in [approved_snli_batch_1, approved_snli_batch_2, approved_snli_batch_3]:\n",
    "    for ex, workers in batch.items():\n",
    "        for i, (worker_id, worker_paraphrases) in enumerate(workers):\n",
    "            for j, paraphrase in enumerate(worker_paraphrases.values()):\n",
    "                paraphrased_dnli_examples[ex].append(asdict(ParaphrasedDefeasibleNLIExample(\n",
    "                    paraphrase_id=f'{ex}.{i}.{j}',\n",
    "                    original_example=dnli_snli.get_example_by_id(ex),\n",
    "                    original_example_id=ex,\n",
    "                    update_paraphrase=paraphrase,\n",
    "                    example_worker_id=None,\n",
    "                    worker_id=worker_id,\n",
    "                    premise_paraphrase=None,\n",
    "                    hypothesis_paraphrase=None,\n",
    "                    automatic_system_metadata=None\n",
    "                )))"
   ]
  },
  {
   "cell_type": "code",
   "execution_count": null,
   "id": "fe612499",
   "metadata": {},
   "outputs": [],
   "source": [
    "import json\n",
    "with open('snli_approved.json', 'w') as f:\n",
    "    json.dump(paraphrased_dnli_examples, f)"
   ]
  },
  {
   "cell_type": "code",
   "execution_count": null,
   "id": "1227b88e",
   "metadata": {},
   "outputs": [],
   "source": [
    "view_assignment('3EJJQNKU9R5NKFVTHVRTXJCMA43HRZ', dnli_snli, hit_id_2_example_id_snli_batch_3)"
   ]
  },
  {
   "cell_type": "code",
   "execution_count": null,
   "id": "a64366b2",
   "metadata": {},
   "outputs": [],
   "source": [
    "AUWM7LEMF3H9N, APHL3OC024851, AMBLMZYRPW92F\n",
    "\n",
    "Wid: A18B2QUCJJV5KO, Aid 3V0Z7YWSIY0BYW9S7UTWBCVN6R22VZ==Wid: AUWM7LEMF3H9N, Aid = 36DSNE9QZ5YGE8Y3D3DAF1NWC94OJJ\n",
    "Worker:  A3TACK9NUMFBZA AssignmentId:  34Z02EIMISDPPU2PNCP3R6ENC8FT03 == Worker:  AUWM7LEMF3H9N AssignmentId:  3EA3QWIZ4IV0WPJ5R2E9XAEJY2WITN\n",
    "\n",
    "\n",
    "\n",
    "All 3 paraphrases are verbatim from another worker's paraphrases. This is only possible if one worker is filling out the HITs using two accounts. This is fraud, and I am rejecting the work. "
   ]
  },
  {
   "cell_type": "code",
   "execution_count": null,
   "id": "1c4da2f2",
   "metadata": {},
   "outputs": [],
   "source": [
    "response = mturk.create_worker_block(\n",
    "    WorkerId='APHL3OC024851',\n",
    "    Reason='Worker is using multiple accounts to fill out verbatim content.'\n",
    ")"
   ]
  }
 ],
 "metadata": {
  "kernelspec": {
   "display_name": "Python [conda env:para-nlu]",
   "language": "python",
   "name": "conda-env-para-nlu-py"
  },
  "language_info": {
   "codemirror_mode": {
    "name": "ipython",
    "version": 3
   },
   "file_extension": ".py",
   "mimetype": "text/x-python",
   "name": "python",
   "nbconvert_exporter": "python",
   "pygments_lexer": "ipython3",
   "version": "3.8.13"
  }
 },
 "nbformat": 4,
 "nbformat_minor": 5
}
