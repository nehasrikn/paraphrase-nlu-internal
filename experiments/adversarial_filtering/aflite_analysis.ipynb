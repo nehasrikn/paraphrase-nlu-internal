{
 "cells": [
  {
   "cell_type": "code",
   "execution_count": 1,
   "id": "d74fdb52-cdd0-4e5d-90cd-540abe627f0f",
   "metadata": {},
   "outputs": [],
   "source": [
    "import plotly.express as px\n",
    "import os\n",
    "import sys\n",
    "import numpy as np\n",
    "import scipy.stats as stats\n",
    "\n",
    "%load_ext autoreload\n",
    "%autoreload 2"
   ]
  },
  {
   "cell_type": "code",
   "execution_count": 2,
   "id": "5c5c5e0e-3648-4ffe-b4c8-1debc5f9be08",
   "metadata": {},
   "outputs": [],
   "source": [
    "module_path = os.path.abspath(os.path.join('../..'))\n",
    "if module_path not in sys.path:\n",
    "    sys.path.append(module_path)"
   ]
  },
  {
   "cell_type": "code",
   "execution_count": 3,
   "id": "364b18ad-807f-4216-9bd3-fa038ad5eb33",
   "metadata": {},
   "outputs": [
    {
     "name": "stderr",
     "output_type": "stream",
     "text": [
      "100%|███████████████████████████████████████████████████████████████████████████████████████████████████████████████████████████| 250/250 [00:00<00:00, 24041.64it/s]\n",
      "100%|███████████████████████████████████████████████████████████████████████████████████████████████████████████████████████████| 250/250 [00:00<00:00, 24006.96it/s]\n",
      "100%|███████████████████████████████████████████████████████████████████████████████████████████████████████████████████████████| 250/250 [00:00<00:00, 21083.26it/s]\n",
      "100%|███████████████████████████████████████████████████████████████████████████████████████████████████████████████████████████| 250/250 [00:00<00:00, 26732.34it/s]\n",
      "100%|███████████████████████████████████████████████████████████████████████████████████████████████████████████████████████████| 250/250 [00:00<00:00, 26440.47it/s]\n",
      "100%|███████████████████████████████████████████████████████████████████████████████████████████████████████████████████████████| 250/250 [00:00<00:00, 31489.71it/s]\n",
      "100%|███████████████████████████████████████████████████████████████████████████████████████████████████████████████████████████| 250/250 [00:00<00:00, 25393.55it/s]\n",
      "100%|███████████████████████████████████████████████████████████████████████████████████████████████████████████████████████████| 250/250 [00:00<00:00, 34214.64it/s]\n",
      "100%|███████████████████████████████████████████████████████████████████████████████████████████████████████████████████████████| 250/250 [00:00<00:00, 31209.48it/s]\n",
      "100%|███████████████████████████████████████████████████████████████████████████████████████████████████████████████████████████| 250/250 [00:00<00:00, 32068.51it/s]\n",
      "100%|███████████████████████████████████████████████████████████████████████████████████████████████████████████████████████████| 250/250 [00:00<00:00, 26101.51it/s]\n",
      "100%|███████████████████████████████████████████████████████████████████████████████████████████████████████████████████████████| 250/250 [00:00<00:00, 25044.81it/s]\n",
      "100%|███████████████████████████████████████████████████████████████████████████████████████████████████████████████████████████| 250/250 [00:00<00:00, 25964.49it/s]\n",
      "100%|███████████████████████████████████████████████████████████████████████████████████████████████████████████████████████████| 250/250 [00:00<00:00, 33127.22it/s]\n",
      "100%|███████████████████████████████████████████████████████████████████████████████████████████████████████████████████████████| 250/250 [00:00<00:00, 28256.65it/s]\n",
      "100%|███████████████████████████████████████████████████████████████████████████████████████████████████████████████████████████| 250/250 [00:00<00:00, 31153.84it/s]\n",
      "100%|███████████████████████████████████████████████████████████████████████████████████████████████████████████████████████████| 250/250 [00:00<00:00, 31344.75it/s]\n",
      "100%|███████████████████████████████████████████████████████████████████████████████████████████████████████████████████████████| 250/250 [00:00<00:00, 31567.45it/s]\n",
      "100%|███████████████████████████████████████████████████████████████████████████████████████████████████████████████████████████| 250/250 [00:00<00:00, 24954.81it/s]\n",
      "100%|███████████████████████████████████████████████████████████████████████████████████████████████████████████████████████████| 250/250 [00:00<00:00, 30814.19it/s]\n",
      "100%|███████████████████████████████████████████████████████████████████████████████████████████████████████████████████████████| 250/250 [00:00<00:00, 29788.24it/s]\n",
      "100%|███████████████████████████████████████████████████████████████████████████████████████████████████████████████████████████| 250/250 [00:00<00:00, 32883.09it/s]\n",
      "100%|███████████████████████████████████████████████████████████████████████████████████████████████████████████████████████████| 250/250 [00:00<00:00, 27609.36it/s]\n",
      "100%|███████████████████████████████████████████████████████████████████████████████████████████████████████████████████████████| 250/250 [00:00<00:00, 30978.96it/s]\n"
     ]
    }
   ],
   "source": [
    "from experiments.result_buckets import roberta_specialized"
   ]
  },
  {
   "cell_type": "code",
   "execution_count": 4,
   "id": "290854f2-812a-43e1-9d4a-a83c2290bd5e",
   "metadata": {},
   "outputs": [],
   "source": [
    "from experiments.adversarial_filtering.af import partition"
   ]
  },
  {
   "cell_type": "markdown",
   "id": "47bce6b5-9450-4f57-9f0b-5ec78f4d81c0",
   "metadata": {},
   "source": [
    "### Abductive NLI"
   ]
  },
  {
   "cell_type": "code",
   "execution_count": 5,
   "id": "848d68d7-70ce-41d8-88f4-6817e7596a65",
   "metadata": {},
   "outputs": [
    {
     "name": "stdout",
     "output_type": "stream",
     "text": [
      "# easy: 125, # hard: 125\n"
     ]
    }
   ],
   "source": [
    "easy_anli, hard_anli = partition(roberta_specialized['anli-human'].buckets, lambda bucket: 'easy' in bucket.original_example_id)"
   ]
  },
  {
   "cell_type": "code",
   "execution_count": 7,
   "id": "0194eefc-c16a-4449-9379-6fbf8cdbce96",
   "metadata": {},
   "outputs": [
    {
     "name": "stdout",
     "output_type": "stream",
     "text": [
      "{'consistency': 0.671142857142857, 'consistency_corrected': 0.8938481136748545, 'pove': 0.3815418182731729, 'pove_corrected': 0.5892202907045577}\n",
      "{'consistency': 0.6899047619047619, 'consistency_corrected': 0.8628815240248716, 'pove': 0.38513225686479197, 'pove_corrected': 0.21537368350460384}\n"
     ]
    }
   ],
   "source": [
    "print(easy_anli.linguistic_robustness_summary(roberta_specialized['anli-test']))\n",
    "print(hard_anli.linguistic_robustness_summary(roberta_specialized['anli-test']))"
   ]
  },
  {
   "cell_type": "markdown",
   "id": "7c544275-710c-40fc-800f-6ce45f3c5220",
   "metadata": {},
   "source": [
    "### Defeasible NLI"
   ]
  },
  {
   "cell_type": "code",
   "execution_count": 8,
   "id": "663a68aa-26a4-460b-b4c0-bdcec7275477",
   "metadata": {},
   "outputs": [],
   "source": [
    "from experiments.adversarial_filtering.af import aflite_lookup"
   ]
  },
  {
   "cell_type": "code",
   "execution_count": 9,
   "id": "3d158b41-b52a-4e1e-acd8-a5355fcb7aac",
   "metadata": {},
   "outputs": [
    {
     "name": "stdout",
     "output_type": "stream",
     "text": [
      "snli\n",
      "# easy: 125, # hard: 125\n",
      "Easy: {'consistency': 0.6844285714285715, 'consistency_corrected': 0.9129631194376703, 'pove': 0.4849299945897179, 'pove_corrected': 0.4754900246270934}\n",
      "Hard: {'consistency': 0.7260222222222221, 'consistency_corrected': 0.8998974329064149, 'pove': 0.501883962490586, 'pove_corrected': 0.33985010965510143}\n",
      "\n",
      "atomic\n",
      "# easy: 125, # hard: 125\n",
      "Easy: {'consistency': 0.7348190476190475, 'consistency_corrected': 0.8296582651088149, 'pove': 0.47586885646867827, 'pove_corrected': 0.3111245482947203}\n",
      "Hard: {'consistency': 0.7608825396825396, 'consistency_corrected': 0.8947229337106695, 'pove': 0.5613974727048101, 'pove_corrected': 0.5057515222943303}\n",
      "\n",
      "social\n",
      "# easy: 125, # hard: 125\n",
      "Easy: {'consistency': 0.6508793650793652, 'consistency_corrected': 0.9308430602372846, 'pove': 0.45076263391839816, 'pove_corrected': 0.29457159090848056}\n",
      "Hard: {'consistency': 0.66755873015873, 'consistency_corrected': 0.8844951431924365, 'pove': 0.48093257808531237, 'pove_corrected': 0.29633502079355517}\n",
      "\n"
     ]
    }
   ],
   "source": [
    "for d in ['snli', 'atomic', 'social']:\n",
    "    print(d)\n",
    "    easy_dnli, hard_dnli = partition(roberta_specialized[f'{d}-human'].buckets, lambda bucket: aflite_lookup[d][bucket.original_example_id] > 0.75)\n",
    "    print('Easy:', easy_dnli.linguistic_robustness_summary(roberta_specialized[f'{d}-test']))\n",
    "    print('Hard:', hard_dnli.linguistic_robustness_summary(roberta_specialized[f'{d}-test']))\n",
    "    print()"
   ]
  },
  {
   "cell_type": "code",
   "execution_count": 20,
   "id": "da0ae439-7282-4a34-a278-2c30190b7743",
   "metadata": {},
   "outputs": [],
   "source": [
    "import seaborn as sns\n",
    "import scipy"
   ]
  },
  {
   "cell_type": "code",
   "execution_count": 22,
   "id": "662acca1-371e-4434-8141-2c9ad3c045d9",
   "metadata": {},
   "outputs": [
    {
     "data": {
      "text/plain": [
       "PearsonRResult(statistic=-0.03888732438847302, pvalue=0.540529336590207)"
      ]
     },
     "execution_count": 22,
     "metadata": {},
     "output_type": "execute_result"
    }
   ],
   "source": [
    "x = [aflite_lookup['snli'][b.original_example_id] for b in roberta_specialized['snli-human'].buckets] # AFLITE score\n",
    "y = [b.bucket_correctness_variance for b in roberta_specialized['snli-human'].buckets] # correctness variance\n",
    "\n",
    "scipy.stats.pearsonr(x, y)\n"
   ]
  },
  {
   "cell_type": "code",
   "execution_count": 18,
   "id": "4be899d5-7e2e-4eda-978f-f53a8abcdbe8",
   "metadata": {},
   "outputs": [
    {
     "data": {
      "text/plain": [
       "<Axes: >"
      ]
     },
     "execution_count": 18,
     "metadata": {},
     "output_type": "execute_result"
    },
    {
     "data": {
      "image/png": "[encoded data removed]",
      "text/plain": [
       "<Figure size 640x480 with 1 Axes>"
      ]
     },
     "metadata": {},
     "output_type": "display_data"
    }
   ],
   "source": [
    "sns.scatterplot(x=x, y=y)"
   ]
  }
 ],
 "metadata": {
  "kernelspec": {
   "display_name": "para-nlu",
   "language": "python",
   "name": "para-nlu"
  },
  "language_info": {
   "codemirror_mode": {
    "name": "ipython",
    "version": 3
   },
   "file_extension": ".py",
   "mimetype": "text/x-python",
   "name": "python",
   "nbconvert_exporter": "python",
   "pygments_lexer": "ipython3",
   "version": "3.8.13"
  }
 },
 "nbformat": 4,
 "nbformat_minor": 5
}
