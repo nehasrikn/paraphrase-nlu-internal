{
 "cells": [
  {
   "cell_type": "code",
   "execution_count": 1,
   "id": "34556fe8-50ec-4e4a-894a-232943c600cf",
   "metadata": {},
   "outputs": [],
   "source": [
    "import pandas as pd"
   ]
  },
  {
   "cell_type": "code",
   "execution_count": 2,
   "id": "9749d355-c00c-4cfe-8ceb-d79ab0d4de74",
   "metadata": {},
   "outputs": [],
   "source": [
    "for split in ['snli', 'social', 'atomic']:\n",
    "    train = pd.read_csv(\n",
    "        f'../../../data_selection/defeasible/{split}/analysis_model_examples/train_examples.csv'\n",
    "    )\n",
    "    \n",
    "    dev = pd.read_csv(\n",
    "        f'../../../data_selection/defeasible/{split}/analysis_model_examples/dev_examples.csv'\n",
    "    )\n",
    "\n",
    "    train[['sentence2', 'label']].rename(columns={'sentence2': 'sentence1'}).to_csv(\n",
    "        f'/fs/clip-projects/rlab/nehasrik/paraphrase-nlu/experiments/adversarial_filtering/partial_input_baselines/data/{split}/train_examples.csv',\n",
    "        index=False\n",
    "    )\n",
    "    dev[['sentence2', 'label']].rename(columns={'sentence2': 'sentence1'}).to_csv(\n",
    "        f'/fs/clip-projects/rlab/nehasrik/paraphrase-nlu/experiments/adversarial_filtering/partial_input_baselines/data/{split}/dev_examples.csv',\n",
    "        index=False\n",
    "    )\n"
   ]
  },
  {
   "cell_type": "code",
   "execution_count": null,
   "id": "4105d3c5-3f06-43a1-83aa-11ed93b31ff4",
   "metadata": {},
   "outputs": [],
   "source": []
  }
 ],
 "metadata": {
  "kernelspec": {
   "display_name": "para-nlu",
   "language": "python",
   "name": "para-nlu"
  },
  "language_info": {
   "codemirror_mode": {
    "name": "ipython",
    "version": 3
   },
   "file_extension": ".py",
   "mimetype": "text/x-python",
   "name": "python",
   "nbconvert_exporter": "python",
   "pygments_lexer": "ipython3",
   "version": "3.8.13"
  }
 },
 "nbformat": 4,
 "nbformat_minor": 5
}
