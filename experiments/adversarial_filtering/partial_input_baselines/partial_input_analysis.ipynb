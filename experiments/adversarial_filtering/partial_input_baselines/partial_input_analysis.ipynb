{
 "cells": [
  {
   "cell_type": "code",
   "execution_count": 1,
   "id": "d24e2328-88bb-4c2a-af0f-1cd9d50bff55",
   "metadata": {},
   "outputs": [],
   "source": [
    "import plotly.express as px\n",
    "import os\n",
    "import sys\n",
    "import numpy as np\n",
    "import scipy.stats as stats\n",
    "\n",
    "%load_ext autoreload\n",
    "%autoreload 2"
   ]
  },
  {
   "cell_type": "code",
   "execution_count": 4,
   "id": "692f962b-203a-4e11-b70f-5c9a4bf07662",
   "metadata": {},
   "outputs": [],
   "source": [
    "module_path = os.path.abspath(os.path.join('../../..'))\n",
    "if module_path not in sys.path:\n",
    "    sys.path.append(module_path)"
   ]
  },
  {
   "cell_type": "code",
   "execution_count": null,
   "id": "81606d64-84e9-4fd2-b669-cdaca7ff0ad2",
   "metadata": {},
   "outputs": [],
   "source": [
    "from experiments.adversarial_filtering.partial_input_baselines.partial_input_result_buckets import partial_input_human\n",
    "from experiments.result_buckets import roberta_specialized\n",
    "from experiments.bucket_analysis import BucketDatasetResult"
   ]
  },
  {
   "cell_type": "code",
   "execution_count": 47,
   "id": "95ae1a35-6c4b-4e5d-94b2-c0184afec86a",
   "metadata": {},
   "outputs": [
    {
     "name": "stdout",
     "output_type": "stream",
     "text": [
      "snli\n",
      "Num examples with artifacts: 162 \n",
      "Num examples without artifacts: 88\n",
      "Artifact Examples Weighted Prop Explained: 0.37874347511971684\n",
      "Non-artifact Examples Weighted Prop Explained: 0.48049329788088135\n",
      "Whole dataset Weighted Prop Explained: 0.33477624667106926\n",
      "easy acc: 0.5658612626656274\n",
      "atomic\n",
      "Num examples with artifacts: 144 \n",
      "Num examples without artifacts: 106\n",
      "Artifact Examples Weighted Prop Explained: 0.46611156118543595\n",
      "Non-artifact Examples Weighted Prop Explained: 0.48552312742940823\n",
      "Whole dataset Weighted Prop Explained: 0.4083021609486061\n",
      "easy acc: 0.5827205882352942\n",
      "social\n",
      "Num examples with artifacts: 136 \n",
      "Num examples without artifacts: 114\n",
      "Artifact Examples Weighted Prop Explained: 0.21417921804103499\n",
      "Non-artifact Examples Weighted Prop Explained: 0.28359223951252654\n",
      "Whole dataset Weighted Prop Explained: 0.3302885539058762\n",
      "easy acc: 0.5548961424332344\n"
     ]
    }
   ],
   "source": [
    "for dataset in ['snli', 'atomic', 'social']:\n",
    "    print(dataset)\n",
    "    artifacts_ids = []\n",
    "    non_artifacts_ids  = []\n",
    "    for b in partial_input_human[f'{dataset}-human'].buckets:\n",
    "        if b.original_example_prediction.correct:\n",
    "            artifacts_ids.append(b.original_example_id)\n",
    "        else:\n",
    "            non_artifacts_ids.append(b.original_example_id)\n",
    "\n",
    "    artifacts = BucketDatasetResult(\n",
    "        [b for b in roberta_specialized[f'{dataset}-human'].buckets if b.original_example_id in artifacts_ids]\n",
    "    )\n",
    "    no_artifacts = BucketDatasetResult(\n",
    "        [b for b in roberta_specialized[f'{dataset}-human'].buckets if b.original_example_id in non_artifacts_ids]\n",
    "    )\n",
    "    print('Num examples with artifacts:', len(artifacts_ids), '\\nNum examples without artifacts:', len(non_artifacts_ids))\n",
    "\n",
    "    print('Artifact Examples Weighted Prop Explained:', artifacts.calculate_weighted_proportion_explained(roberta_specialized[f'{dataset}-test']))\n",
    "    print('Non-artifact Examples Weighted Prop Explained:', no_artifacts.calculate_weighted_proportion_explained(roberta_specialized[f'{dataset}-test']))\n",
    "    print('Whole dataset Weighted Prop Explained:', roberta_specialized[f'{dataset}-human'].calculate_weighted_proportion_explained(roberta_specialized[f'{dataset}-test']))\n"
   ]
  },
  {
   "cell_type": "code",
   "execution_count": 44,
   "id": "345253d4-a7c7-41d6-840b-40f684ee5906",
   "metadata": {},
   "outputs": [
    {
     "data": {
      "text/plain": [
       "0.49"
      ]
     },
     "execution_count": 44,
     "metadata": {},
     "output_type": "execute_result"
    }
   ],
   "source": []
  },
  {
   "cell_type": "code",
   "execution_count": null,
   "id": "f40e105c-fd1d-48de-ad31-1a2ece0333c7",
   "metadata": {},
   "outputs": [],
   "source": []
  }
 ],
 "metadata": {
  "kernelspec": {
   "display_name": "para-nlu",
   "language": "python",
   "name": "para-nlu"
  },
  "language_info": {
   "codemirror_mode": {
    "name": "ipython",
    "version": 3
   },
   "file_extension": ".py",
   "mimetype": "text/x-python",
   "name": "python",
   "nbconvert_exporter": "python",
   "pygments_lexer": "ipython3",
   "version": "3.8.13"
  }
 },
 "nbformat": 4,
 "nbformat_minor": 5
}
