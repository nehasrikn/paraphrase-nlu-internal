{
 "cells": [
  {
   "cell_type": "code",
   "execution_count": 1,
   "id": "d24e2328-88bb-4c2a-af0f-1cd9d50bff55",
   "metadata": {},
   "outputs": [],
   "source": [
    "import plotly.express as px\n",
    "import os\n",
    "import sys\n",
    "import numpy as np\n",
    "import scipy.stats as stats\n",
    "\n",
    "%load_ext autoreload\n",
    "%autoreload 2"
   ]
  },
  {
   "cell_type": "code",
   "execution_count": 5,
   "id": "692f962b-203a-4e11-b70f-5c9a4bf07662",
   "metadata": {},
   "outputs": [],
   "source": [
    "module_path = os.path.abspath(os.path.join('../../..'))\n",
    "if module_path not in sys.path:\n",
    "    sys.path.append(module_path)"
   ]
  },
  {
   "cell_type": "code",
   "execution_count": 6,
   "id": "81606d64-84e9-4fd2-b669-cdaca7ff0ad2",
   "metadata": {},
   "outputs": [],
   "source": [
    "from experiments.adversarial_filtering.partial_input_baselines.partial_input_result_buckets import partial_input_human\n",
    "from experiments.result_buckets import roberta_specialized\n",
    "from experiments.bucket_analysis import BucketDatasetResult"
   ]
  },
  {
   "cell_type": "code",
   "execution_count": 9,
   "id": "95ae1a35-6c4b-4e5d-94b2-c0184afec86a",
   "metadata": {},
   "outputs": [
    {
     "name": "stdout",
     "output_type": "stream",
     "text": [
      "\u001b[32msnli\u001b[0m\n",
      "Num examples with artifacts: 162 \n",
      "Num examples without artifacts: 88\n",
      "Artifact Examples:\n",
      " {'consistency': 0.6991892024299431, 'consistency_corrected': 0.9145889397667093, 'pove': 0.4837250172472546, 'pove_corrected': 0.37874347511971684}\n",
      "\n",
      "Non-artifact Examples:\n",
      " {'consistency': 0.7163374819624819, 'consistency_corrected': 0.8624668052063261, 'pove': 0.5012426436803313, 'pove_corrected': 0.48049329788088135}\n",
      "\n",
      "Whole dataset:\n",
      " {'consistency': 0.7052253968253969, 'consistency_corrected': 0.9064806546026608, 'pove': 0.4938082810751717, 'pove_corrected': 0.33477624667106926}\n",
      "\n",
      "\u001b[32matomic\u001b[0m\n",
      "Num examples with artifacts: 144 \n",
      "Num examples without artifacts: 106\n",
      "Artifact Examples:\n",
      " {'consistency': 0.7493744488536156, 'consistency_corrected': 0.8581542059721327, 'pove': 0.516340149600334, 'pove_corrected': 0.46611156118543595}\n",
      "\n",
      "Non-artifact Examples:\n",
      " {'consistency': 0.7457809224318658, 'consistency_corrected': 0.8791049561461424, 'pove': 0.5170247917578557, 'pove_corrected': 0.48552312742940823}\n",
      "\n",
      "Whole dataset:\n",
      " {'consistency': 0.7478507936507937, 'consistency_corrected': 0.8616549681381606, 'pove': 0.5186940972384994, 'pove_corrected': 0.4083021609486061}\n",
      "\n",
      "\u001b[32msocial\u001b[0m\n",
      "Num examples with artifacts: 136 \n",
      "Num examples without artifacts: 114\n",
      "Artifact Examples:\n",
      " {'consistency': 0.6478612278244631, 'consistency_corrected': 0.8946315094301506, 'pove': 0.4727264593273496, 'pove_corrected': 0.21417921804103499}\n",
      "\n",
      "Non-artifact Examples:\n",
      " {'consistency': 0.6727687273739905, 'consistency_corrected': 0.9343479252185153, 'pove': 0.48143977721390235, 'pove_corrected': 0.28359223951252654}\n",
      "\n",
      "Whole dataset:\n",
      " {'consistency': 0.6592190476190476, 'consistency_corrected': 0.9087363234357935, 'pove': 0.47714706628859094, 'pove_corrected': 0.3302885539058762}\n",
      "\n"
     ]
    }
   ],
   "source": [
    "from simple_colors import * \n",
    "for dataset in ['snli', 'atomic', 'social']:\n",
    "    print(green(dataset))\n",
    "    artifacts_ids = []\n",
    "    non_artifacts_ids  = []\n",
    "    \n",
    "    for b in partial_input_human[f'{dataset}-human'].buckets:\n",
    "        if b.original_example_prediction.correct:\n",
    "            artifacts_ids.append(b.original_example_id)\n",
    "        else:\n",
    "            non_artifacts_ids.append(b.original_example_id)\n",
    "\n",
    "    artifacts = BucketDatasetResult(\n",
    "        [b for b in roberta_specialized[f'{dataset}-human'].buckets if b.original_example_id in artifacts_ids]\n",
    "    )\n",
    "    no_artifacts = BucketDatasetResult(\n",
    "        [b for b in roberta_specialized[f'{dataset}-human'].buckets if b.original_example_id in non_artifacts_ids]\n",
    "    )\n",
    "    print('Num examples with artifacts:', len(artifacts_ids), '\\nNum examples without artifacts:', len(non_artifacts_ids))\n",
    "\n",
    "    print('Artifact Examples:\\n', artifacts.linguistic_robustness_summary(roberta_specialized[f'{dataset}-test']))\n",
    "    print()\n",
    "    print('Non-artifact Examples:\\n', no_artifacts.linguistic_robustness_summary(roberta_specialized[f'{dataset}-test']))\n",
    "    print()\n",
    "    print('Whole dataset:\\n', roberta_specialized[f'{dataset}-human'].linguistic_robustness_summary(roberta_specialized[f'{dataset}-test']))\n",
    "    print()"
   ]
  }
 ],
 "metadata": {
  "kernelspec": {
   "display_name": "para-nlu",
   "language": "python",
   "name": "para-nlu"
  },
  "language_info": {
   "codemirror_mode": {
    "name": "ipython",
    "version": 3
   },
   "file_extension": ".py",
   "mimetype": "text/x-python",
   "name": "python",
   "nbconvert_exporter": "python",
   "pygments_lexer": "ipython3",
   "version": "3.8.13"
  }
 },
 "nbformat": 4,
 "nbformat_minor": 5
}
