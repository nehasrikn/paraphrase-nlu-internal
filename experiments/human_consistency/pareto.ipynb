{
 "cells": [
  {
   "cell_type": "code",
   "execution_count": 6,
   "id": "054257a1-d2c0-4d9f-984c-82ae0a759957",
   "metadata": {},
   "outputs": [],
   "source": [
    "class Point:\n",
    "    def __init__(self, x, y):\n",
    "        self.x = x\n",
    "        self.y = y\n",
    "\n",
    "def find_pareto_set(input_list):\n",
    "    sorted_list = sorted(input_list, key=lambda point: point.x, reverse=True)\n",
    "    po_points = []\n",
    "    curr_max_y = float('-inf')\n",
    "    for p in sorted_list:\n",
    "        if p.y > curr_max_y:\n",
    "            po_points.append(p)\n",
    "            curr_max_y = p.y\n",
    "    return po_points"
   ]
  },
  {
   "cell_type": "code",
   "execution_count": 9,
   "id": "f097a954-f766-490d-8af8-084b7c82802c",
   "metadata": {},
   "outputs": [
    {
     "name": "stdout",
     "output_type": "stream",
     "text": [
      "Pareto Set: [(87.8, 91.9)]\n"
     ]
    }
   ],
   "source": [
    "points = [Point(x,y) for x,y in [\n",
    "    (54.9, 78.5), \n",
    "    (59.7, 72.8), \n",
    "    (87.8, 91.9), \n",
    "    (78.6, 83.7), \n",
    "    (83.3, 87.7),\n",
    "    (53.0, 90.9)\n",
    "]]\n",
    "\n",
    "pareto_set = find_pareto_set(points)\n",
    "print(\"Pareto Set:\", [(point.x, point.y) for point in pareto_set])"
   ]
  },
  {
   "cell_type": "code",
   "execution_count": null,
   "id": "7a6fbcd6-c30c-4969-8230-efa16c87c32c",
   "metadata": {},
   "outputs": [],
   "source": []
  }
 ],
 "metadata": {
  "kernelspec": {
   "display_name": "para-nlu",
   "language": "python",
   "name": "para-nlu"
  },
  "language_info": {
   "codemirror_mode": {
    "name": "ipython",
    "version": 3
   },
   "file_extension": ".py",
   "mimetype": "text/x-python",
   "name": "python",
   "nbconvert_exporter": "python",
   "pygments_lexer": "ipython3",
   "version": "3.8.13"
  }
 },
 "nbformat": 4,
 "nbformat_minor": 5
}
