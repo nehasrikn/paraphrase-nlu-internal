{
 "cells": [
  {
   "cell_type": "code",
   "execution_count": 1,
   "id": "d09199eb",
   "metadata": {},
   "outputs": [],
   "source": [
    "%load_ext autoreload\n",
    "%autoreload 2"
   ]
  },
  {
   "cell_type": "code",
   "execution_count": 2,
   "id": "2d8d43b4",
   "metadata": {},
   "outputs": [],
   "source": [
    "import plotly.express as px\n",
    "import os\n",
    "import sys\n",
    "import numpy as np"
   ]
  },
  {
   "cell_type": "code",
   "execution_count": 3,
   "id": "cc7b55b8",
   "metadata": {},
   "outputs": [],
   "source": [
    "module_path = os.path.abspath(os.path.join('../..'))\n",
    "if module_path not in sys.path:\n",
    "    sys.path.append(module_path)"
   ]
  },
  {
   "cell_type": "code",
   "execution_count": 4,
   "id": "45e963dd",
   "metadata": {},
   "outputs": [],
   "source": [
    "from utils import load_json\n",
    "from collections import defaultdict\n",
    "from data_selection.data_selection_utils import float_floor\n",
    "\n",
    "from consistency import (\n",
    "    dnli_human_bucket_predictions,\n",
    "    dnli_test_set_predictions,\n",
    "    anli_human_bucket_predictions,\n",
    "    anli_test_set_predictions,\n",
    "    construct_bucket_metadata, \n",
    "    plot_orig_v_bucket_conf, \n",
    "    plot_consistency_cdf,\n",
    "    get_original_example_prediction_accuracy,\n",
    "    calculate_weighted_consistency\n",
    ")"
   ]
  },
  {
   "cell_type": "code",
   "execution_count": 5,
   "id": "1b9648fe",
   "metadata": {
    "scrolled": false
   },
   "outputs": [],
   "source": [
    "def get_consistencies(model_name):\n",
    "    for dataname in dnli_human_bucket_predictions.keys():\n",
    "        test_set_preds = dnli_test_set_predictions[dataname][model_name] if model_name in dnli_test_set_predictions[dataname].keys() else None\n",
    "        human_preds = dnli_human_bucket_predictions[dataname][model_name] if model_name in dnli_human_bucket_predictions[dataname].keys() else None\n",
    "        \n",
    "        print(dataname, calculate_weighted_consistency(\n",
    "                paraphrase_predictions=human_preds,\n",
    "                test_set_predictions=test_set_preds,\n",
    "                show_test_distribution=False\n",
    "            )\n",
    "        )\n",
    "        print()\n",
    "    print(f'####### anli #######')\n",
    "    \n",
    "    if model_name in anli_human_bucket_predictions.keys() and anli_test_set_predictions.keys():\n",
    "        print('anli', calculate_weighted_consistency(anli_human_bucket_predictions[model_name],anli_test_set_predictions[model_name],show_test_distribution=False))"
   ]
  },
  {
   "cell_type": "code",
   "execution_count": 6,
   "id": "647711e0",
   "metadata": {},
   "outputs": [
    {
     "name": "stdout",
     "output_type": "stream",
     "text": [
      "snli {'mean_consistency': 0.7052253968253969, 'weighted_consistency': 0.9064806546026608}\n",
      "\n",
      "atomic {'mean_consistency': 0.7478507936507937, 'weighted_consistency': 0.8616549681381606}\n",
      "\n",
      "social {'mean_consistency': 0.6592190476190476, 'weighted_consistency': 0.9087363234357935}\n",
      "\n",
      "####### anli #######\n",
      "anli {'mean_consistency': 0.6805238095238096, 'weighted_consistency': 0.8744013294599748}\n"
     ]
    }
   ],
   "source": [
    "get_consistencies('specialized_roberta')"
   ]
  },
  {
   "cell_type": "code",
   "execution_count": 7,
   "id": "842c9a97",
   "metadata": {},
   "outputs": [
    {
     "name": "stdout",
     "output_type": "stream",
     "text": [
      "snli {'mean_consistency': 0.7409476190476191, 'weighted_consistency': 0.8816991207553786}\n",
      "\n",
      "atomic {'mean_consistency': 0.7947984126984127, 'weighted_consistency': 0.873993649318216}\n",
      "\n",
      "social {'mean_consistency': 0.7110761904761905, 'weighted_consistency': 0.8669404287513931}\n",
      "\n",
      "####### anli #######\n"
     ]
    }
   ],
   "source": [
    "get_consistencies('unified_roberta')"
   ]
  },
  {
   "cell_type": "code",
   "execution_count": null,
   "id": "1203533a",
   "metadata": {},
   "outputs": [],
   "source": [
    "get_consistencies('specialized_full_input_lexical')"
   ]
  },
  {
   "cell_type": "code",
   "execution_count": null,
   "id": "14c6d9f9",
   "metadata": {},
   "outputs": [],
   "source": [
    "get_consistencies('gpt3-curie')"
   ]
  },
  {
   "cell_type": "markdown",
   "id": "a0b1bd90",
   "metadata": {},
   "source": [
    "## Specialized RoBERTa"
   ]
  },
  {
   "cell_type": "code",
   "execution_count": null,
   "id": "b32b63dd",
   "metadata": {},
   "outputs": [],
   "source": [
    "def plot_roberta(name, bucket_preds):\n",
    "    get_original_example_prediction_accuracy(bucket_preds)\n",
    "    metadata = construct_bucket_metadata(bucket_preds)\n",
    "    plot = plot_orig_v_bucket_conf(metadata, name)\n",
    "    return plot"
   ]
  },
  {
   "cell_type": "code",
   "execution_count": null,
   "id": "984b027a",
   "metadata": {
    "scrolled": false
   },
   "outputs": [],
   "source": [
    "plot = plot_roberta('α-NLI RoBERTa', anli_human_bucket_predictions['specialized_roberta'])\n",
    "plot.write_image('anli-human-roberta.pdf')\n",
    "\n",
    "plot = plot_roberta('δ-SNLI RoBERTa', dnli_human_bucket_predictions['snli']['specialized_roberta'])\n",
    "plot.write_image('snli-human-roberta.pdf')\n",
    "\n",
    "plot = plot_roberta('δ-SOCIAL RoBERTa', dnli_human_bucket_predictions['social']['specialized_roberta'])\n",
    "plot.write_image('social-human-roberta.pdf')\n",
    "\n",
    "plot = plot_roberta('δ-ATOMIC RoBERTa', dnli_human_bucket_predictions['atomic']['specialized_roberta'])\n",
    "plot.write_image('atomic-human-roberta.pdf')"
   ]
  },
  {
   "cell_type": "code",
   "execution_count": null,
   "id": "d51e2e82",
   "metadata": {},
   "outputs": [],
   "source": [
    "from annotated_data.annotated_data import anli_human"
   ]
  },
  {
   "cell_type": "code",
   "execution_count": null,
   "id": "38348545",
   "metadata": {},
   "outputs": [],
   "source": [
    "for i in anli_human['anli.test.1063']:\n",
    "    print(i)\n",
    "    print()"
   ]
  },
  {
   "cell_type": "code",
   "execution_count": null,
   "id": "2f21d3fa",
   "metadata": {},
   "outputs": [],
   "source": [
    "for i in anli_human['anli.test.1105']:\n",
    "    print(i)\n",
    "    print()"
   ]
  },
  {
   "cell_type": "code",
   "execution_count": null,
   "id": "04941cc8",
   "metadata": {},
   "outputs": [],
   "source": [
    "from abductive_data import anli_dataset"
   ]
  },
  {
   "cell_type": "code",
   "execution_count": null,
   "id": "dd93afc8",
   "metadata": {},
   "outputs": [],
   "source": [
    "print(anli_dataset.get_example_by_id('anli.test.854'))"
   ]
  },
  {
   "cell_type": "code",
   "execution_count": null,
   "id": "e93ee3ca",
   "metadata": {},
   "outputs": [],
   "source": [
    "for i in anli_human['anli.test.854']:\n",
    "    print(i)\n",
    "    print()"
   ]
  },
  {
   "cell_type": "markdown",
   "id": "0ea6aa4d",
   "metadata": {},
   "source": [
    "## FastText BOW"
   ]
  },
  {
   "cell_type": "code",
   "execution_count": null,
   "id": "66afeb87",
   "metadata": {
    "scrolled": false
   },
   "outputs": [],
   "source": [
    "for b, dataset_buckets in dnli_human_bucket_predictions.items():\n",
    "    print(b)\n",
    "    print(\n",
    "        'Specialized Lexical Model Accuracy:',\n",
    "        get_original_example_prediction_accuracy(dataset_buckets['specialized_full_input_lexical'])\n",
    "    )\n",
    "    \n",
    "    print(\n",
    "        'Specialized Lexical Partial Input Model Accuracy:', \n",
    "        get_original_example_prediction_accuracy(dataset_buckets['specialized_partial_input_lexical'])\n",
    "    )\n",
    "    print()\n",
    "    \n",
    "    metadata = construct_bucket_metadata(dataset_buckets['specialized_full_input_lexical'])\n",
    "    plot = plot_orig_v_bucket_conf(metadata, f'δ-{b} Lexical Model')\n",
    "    plot.show()\n",
    "    plot.write_image(f'{b}-human-lexical.pdf')\n",
    "    #plot_consistency_cdf(metadata, f'{b} Specialized Defeasible Lexical Consistency CDF')\n",
    "    \n",
    "#     metadata = construct_bucket_metadata(dataset_buckets['specialized_partial_input_lexical'])\n",
    "#     plot_orig_v_bucket_conf(metadata, f'{b} Specialized Defeasible Lexical (Partial Input)')\n",
    "#     #plot_consistency_cdf(metadata, f'{b} Specialized Defeasible Lexical Consistency CDF')"
   ]
  },
  {
   "cell_type": "markdown",
   "id": "3d3d3457",
   "metadata": {},
   "source": [
    "## GPT-3 Curie"
   ]
  },
  {
   "cell_type": "code",
   "execution_count": null,
   "id": "dc063f07",
   "metadata": {},
   "outputs": [],
   "source": [
    "from utils import load_json"
   ]
  },
  {
   "cell_type": "code",
   "execution_count": null,
   "id": "24992a3b",
   "metadata": {
    "scrolled": false
   },
   "outputs": [],
   "source": [
    "for b, dataset_buckets in dnli_human_bucket_predictions.items():\n",
    "    print(b)\n",
    "    print(\n",
    "        'GPT-3 Curie Accuracy:',\n",
    "        get_original_example_prediction_accuracy(dataset_buckets['gpt3-curie'])\n",
    "    )\n",
    "    \n",
    "    metadata = construct_bucket_metadata(dataset_buckets['gpt3-curie'])\n",
    "    plot = plot_orig_v_bucket_conf(metadata, f'δ-{b} GPT-3 (Curie)')\n",
    "    plot.show()\n",
    "    \n",
    "    plot.write_image(f'{b}-human-gpt-3-curie.pdf')"
   ]
  },
  {
   "cell_type": "code",
   "execution_count": null,
   "id": "eca76811",
   "metadata": {},
   "outputs": [],
   "source": []
  }
 ],
 "metadata": {
  "kernelspec": {
   "display_name": "Python [conda env:para-nlu]",
   "language": "python",
   "name": "conda-env-para-nlu-py"
  },
  "language_info": {
   "codemirror_mode": {
    "name": "ipython",
    "version": 3
   },
   "file_extension": ".py",
   "mimetype": "text/x-python",
   "name": "python",
   "nbconvert_exporter": "python",
   "pygments_lexer": "ipython3",
   "version": "3.8.13"
  }
 },
 "nbformat": 4,
 "nbformat_minor": 5
}
