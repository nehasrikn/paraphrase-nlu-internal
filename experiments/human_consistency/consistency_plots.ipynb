{
 "cells": [
  {
   "cell_type": "code",
   "execution_count": 1,
   "id": "d09199eb",
   "metadata": {},
   "outputs": [],
   "source": [
    "%load_ext autoreload\n",
    "%autoreload 2"
   ]
  },
  {
   "cell_type": "code",
   "execution_count": 2,
   "id": "2d8d43b4",
   "metadata": {},
   "outputs": [],
   "source": [
    "import plotly.express as px\n",
    "import os\n",
    "import sys\n",
    "import numpy as np"
   ]
  },
  {
   "cell_type": "code",
   "execution_count": 3,
   "id": "cc7b55b8",
   "metadata": {},
   "outputs": [],
   "source": [
    "module_path = os.path.abspath(os.path.join('../..'))\n",
    "if module_path not in sys.path:\n",
    "    sys.path.append(module_path)"
   ]
  },
  {
   "cell_type": "code",
   "execution_count": 4,
   "id": "45e963dd",
   "metadata": {},
   "outputs": [],
   "source": [
    "from utils import load_json\n",
    "from collections import defaultdict\n",
    "from data_selection.data_selection_utils import float_floor\n",
    "\n",
    "from consistency import (\n",
    "    dnli_human_bucket_predictions,\n",
    "    dnli_test_set_predictions,\n",
    "    anli_human_bucket_predictions,\n",
    "    anli_test_set_predictions,\n",
    "    construct_bucket_metadata, \n",
    "    plot_orig_v_bucket_conf, \n",
    "    plot_consistency_cdf,\n",
    "    get_original_example_prediction_accuracy,\n",
    "    calculate_weighted_consistency\n",
    ")"
   ]
  },
  {
   "cell_type": "code",
   "execution_count": null,
   "id": "1b9648fe",
   "metadata": {
    "scrolled": false
   },
   "outputs": [],
   "source": [
    "print('Specialized RoBERTa Models')\n",
    "for dataname in dnli_human_bucket_predictions.keys():\n",
    "    print(f'####### {dataname}#######')\n",
    "    print(dataname, calculate_weighted_consistency(\n",
    "            dnli_human_bucket_predictions[dataname]['specialized_roberta'],\n",
    "            dnli_test_set_predictions[dataname]['specialized_roberta'],\n",
    "            show_test_distribution=False\n",
    "        )\n",
    "    )\n",
    "    \n",
    "print('anli', calculate_weighted_consistency(anli_human_bucket_predictions['specialized_roberta'],anli_test_set_predictions['specialized_roberta'],show_test_distribution=True))"
   ]
  },
  {
   "cell_type": "markdown",
   "id": "a0b1bd90",
   "metadata": {},
   "source": [
    "## Specialized RoBERTa"
   ]
  },
  {
   "cell_type": "code",
   "execution_count": 43,
   "id": "42cdd354",
   "metadata": {},
   "outputs": [],
   "source": [
    "def plot_roberta(name, bucket_preds):\n",
    "    get_original_example_prediction_accuracy(bucket_preds)\n",
    "    metadata = construct_bucket_metadata(bucket_preds)\n",
    "    plot = plot_orig_v_bucket_conf(metadata, name)\n",
    "    return plot"
   ]
  },
  {
   "cell_type": "code",
   "execution_count": 47,
   "id": "ae0f4d43",
   "metadata": {
    "scrolled": false
   },
   "outputs": [],
   "source": [
    "plot = plot_roberta('α-NLI RoBERTa', anli_human_bucket_predictions['specialized_roberta'])\n",
    "plot.write_image('anli-human-roberta.pdf')\n",
    "\n",
    "plot = plot_roberta('δ-SNLI RoBERTa', dnli_human_bucket_predictions['snli']['specialized_roberta'])\n",
    "plot.write_image('snli-human-roberta.pdf')\n",
    "\n",
    "plot = plot_roberta('δ-SOCIAL RoBERTa', dnli_human_bucket_predictions['social']['specialized_roberta'])\n",
    "plot.write_image('social-human-roberta.pdf')\n",
    "\n",
    "plot = plot_roberta('δ-ATOMIC RoBERTa', dnli_human_bucket_predictions['atomic']['specialized_roberta'])\n",
    "plot.write_image('atomic-human-roberta.pdf')"
   ]
  },
  {
   "cell_type": "code",
   "execution_count": 33,
   "id": "83b435c1",
   "metadata": {},
   "outputs": [],
   "source": [
    "from annotated_data.annotated_data import anli_human"
   ]
  },
  {
   "cell_type": "code",
   "execution_count": null,
   "id": "4fe81e10",
   "metadata": {},
   "outputs": [],
   "source": [
    "for i in anli_human['anli.test.1063']:\n",
    "    print(i)\n",
    "    print()"
   ]
  },
  {
   "cell_type": "code",
   "execution_count": null,
   "id": "7e4f0a78",
   "metadata": {},
   "outputs": [],
   "source": [
    "for i in anli_human['anli.test.1105']:\n",
    "    print(i)\n",
    "    print()"
   ]
  },
  {
   "cell_type": "code",
   "execution_count": null,
   "id": "395e6197",
   "metadata": {},
   "outputs": [],
   "source": [
    "from abductive_data import anli_dataset"
   ]
  },
  {
   "cell_type": "code",
   "execution_count": null,
   "id": "a7710434",
   "metadata": {},
   "outputs": [],
   "source": [
    "print(anli_dataset.get_example_by_id('anli.test.854'))"
   ]
  },
  {
   "cell_type": "code",
   "execution_count": null,
   "id": "99d91460",
   "metadata": {},
   "outputs": [],
   "source": [
    "for i in anli_human['anli.test.854']:\n",
    "    print(i)\n",
    "    print()"
   ]
  },
  {
   "cell_type": "markdown",
   "id": "0ea6aa4d",
   "metadata": {},
   "source": [
    "## FastText BOW"
   ]
  },
  {
   "cell_type": "code",
   "execution_count": null,
   "id": "66afeb87",
   "metadata": {
    "scrolled": false
   },
   "outputs": [],
   "source": [
    "for b, dataset_buckets in dnli_human_bucket_predictions.items():\n",
    "    print(b)\n",
    "    print(\n",
    "        'Specialized Lexical Model Accuracy:',\n",
    "        get_original_example_prediction_accuracy(dataset_buckets['specialized_full_input_lexical'])\n",
    "    )\n",
    "    \n",
    "    print(\n",
    "        'Specialized Lexical Partial Input Model Accuracy:', \n",
    "        get_original_example_prediction_accuracy(dataset_buckets['specialized_partial_input_lexical'])\n",
    "    )\n",
    "    print()\n",
    "    \n",
    "    metadata = construct_bucket_metadata(dataset_buckets['specialized_full_input_lexical'])\n",
    "    plot = plot_orig_v_bucket_conf(metadata, f'δ-{b} Lexical Model')\n",
    "    plot.show()\n",
    "    #plot_consistency_cdf(metadata, f'{b} Specialized Defeasible Lexical Consistency CDF')\n",
    "    \n",
    "    metadata = construct_bucket_metadata(dataset_buckets['specialized_partial_input_lexical'])\n",
    "    plot_orig_v_bucket_conf(metadata, f'{b} Specialized Defeasible Lexical (Partial Input)')\n",
    "    #plot_consistency_cdf(metadata, f'{b} Specialized Defeasible Lexical Consistency CDF')"
   ]
  },
  {
   "cell_type": "markdown",
   "id": "3d3d3457",
   "metadata": {},
   "source": [
    "## GPT-3 Curie"
   ]
  },
  {
   "cell_type": "code",
   "execution_count": null,
   "id": "dc063f07",
   "metadata": {},
   "outputs": [],
   "source": [
    "from utils import load_json"
   ]
  },
  {
   "cell_type": "code",
   "execution_count": null,
   "id": "24992a3b",
   "metadata": {
    "scrolled": false
   },
   "outputs": [],
   "source": [
    "for b, dataset_buckets in dnli_human_bucket_predictions.items():\n",
    "    print(b)\n",
    "    print(\n",
    "        'GPT-3 Curie Accuracy:',\n",
    "        get_original_example_prediction_accuracy(dataset_buckets['gpt3-curie'])\n",
    "    )\n",
    "    \n",
    "    metadata = construct_bucket_metadata(dataset_buckets['gpt3-curie'])\n",
    "    plot = plot_orig_v_bucket_conf(metadata, f'δ-{b} GPT-3 (Curie)')\n",
    "    plot.show()"
   ]
  },
  {
   "cell_type": "code",
   "execution_count": null,
   "id": "eca76811",
   "metadata": {},
   "outputs": [],
   "source": []
  }
 ],
 "metadata": {
  "kernelspec": {
   "display_name": "Python [conda env:para-nlu]",
   "language": "python",
   "name": "conda-env-para-nlu-py"
  },
  "language_info": {
   "codemirror_mode": {
    "name": "ipython",
    "version": 3
   },
   "file_extension": ".py",
   "mimetype": "text/x-python",
   "name": "python",
   "nbconvert_exporter": "python",
   "pygments_lexer": "ipython3",
   "version": "3.8.13"
  }
 },
 "nbformat": 4,
 "nbformat_minor": 5
}
