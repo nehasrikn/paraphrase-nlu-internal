{
 "cells": [
  {
   "cell_type": "code",
   "execution_count": 4,
   "id": "d09a57e0-7489-4fa9-8540-7edca4de0953",
   "metadata": {},
   "outputs": [
    {
     "name": "stdout",
     "output_type": "stream",
     "text": [
      "The autoreload extension is already loaded. To reload it, use:\n",
      "  %reload_ext autoreload\n"
     ]
    }
   ],
   "source": [
    "import os\n",
    "import sys\n",
    "\n",
    "module_path = os.path.abspath(os.path.join('../../'))\n",
    "if module_path not in sys.path:\n",
    "    sys.path.append(module_path)\n",
    "\n",
    "from experiments.result_buckets import gpt3_curie, bilstm, roberta_specialized, roberta_unified, specialized_full_input_lexical\n",
    "\n",
    "%load_ext autoreload\n",
    "%autoreload 2"
   ]
  },
  {
   "cell_type": "code",
   "execution_count": 2,
   "id": "44ff91ce-e3e7-4647-a9f5-c4f507184bca",
   "metadata": {},
   "outputs": [],
   "source": [
    "snli_results = {\n",
    "    'specialized_full_input_lexical': specialized_full_input_lexical['snli-human'],\n",
    "    'bilstm': bilstm['snli-human'],\n",
    "    'specialized_roberta': roberta_specialized['snli-human'],\n",
    "    'unified_roberta':  roberta_unified['snli-human'],\n",
    "    'gpt3-curie': gpt3_curie['snli-human'],\n",
    "    \n",
    "}\n",
    "\n",
    "test_results_snli = {\n",
    "    'specialized_roberta': roberta_specialized['snli-test'],\n",
    "    'unified_roberta':  roberta_unified['snli-test'],\n",
    "    'specialized_full_input_lexical': specialized_full_input_lexical['snli-test'],\n",
    "    'gpt3-curie': gpt3_curie['snli-test'],\n",
    "    'bilstm': bilstm['snli-test'],\n",
    "}\n",
    "    "
   ]
  },
  {
   "cell_type": "code",
   "execution_count": 3,
   "id": "d93c2df3-67eb-449f-af12-90a69ff1057e",
   "metadata": {},
   "outputs": [],
   "source": [
    "import seaborn as sns"
   ]
  },
  {
   "cell_type": "code",
   "execution_count": null,
   "id": "295f345d-02c7-448c-8d68-1387d3e2a7b4",
   "metadata": {},
   "outputs": [],
   "source": [
    "from simple_colors import *\n",
    "import matplotlib.pyplot as plt\n",
    "x = []\n",
    "y = []\n",
    "names = []\n",
    "\n",
    "for model, analysis in snli_results.items():\n",
    "    print(green(model))\n",
    "    variance_law = analysis.law_of_total_variance_breakdown()\n",
    "    test_set_accuracy = test_results_snli[model].accuracy\n",
    "\n",
    "    print('Prop explained:', variance_law['prop_explained'])\n",
    "    print('Total variance:', variance_law['total_var_y'])\n",
    "    print('Test set accuracy:', test_set_accuracy)\n",
    "    print('paraphrase acc:', analysis.paraphrase_accuracy())\n",
    "    print('variance of bernoulli with acc:', (analysis.paraphrase_accuracy() * (1-analysis.paraphrase_accuracy())))\n",
    "\n",
    "    print(\"\\n#### Old Metrics ####\")\n",
    "    \n",
    "    print('Unweighted consistency:', analysis.mean_unweighted_consistency)\n",
    "    print('Weighted consistency:', analysis.calculate_weighted_consistency(test_results_snli[model]))\n",
    "    \n",
    "    print()\n",
    "    x.append(test_set_accuracy)\n",
    "    y.append(variance_law['prop_explained'])\n",
    "    names.append(model)\n",
    "\n",
    "sns.scatterplot(x=x, y=y)\n",
    "for i in range(len(names)):\n",
    "    plt.text(x[i], y[i], names[i], fontsize=10, ha='center', va='center', color='red')\n"
   ]
  },
  {
   "cell_type": "code",
   "execution_count": 33,
   "id": "8aa77aa6-9d4b-4644-8144-3180ff7df02d",
   "metadata": {},
   "outputs": [
    {
     "data": {
      "text/plain": [
       "<Axes: ylabel='Count'>"
      ]
     },
     "execution_count": 33,
     "metadata": {},
     "output_type": "execute_result"
    },
    {
     "data": {
      "image/png": "[encoded data removed]",
      "text/plain": [
       "<Figure size 640x480 with 1 Axes>"
      ]
     },
     "metadata": {},
     "output_type": "display_data"
    }
   ],
   "source": [
    "import plotly.express as px\n",
    "\n",
    "x = [b.bucket_correctness_mean for b in snli_results['gpt3-curie'].buckets]\n",
    "y = [b.bucket_correctness_variance for b in snli_results['gpt3-curie'].buckets]\n",
    "\n",
    "sns.histplot(x)\n",
    "\n",
    "# Set the x and y-axis limits\n",
    "# fig.update_xaxes(range=[-0.1, 1.1])  # Set the x-axis limits\n",
    "# fig.update_yaxes(range=[-1, 1])  # Set the y-axis limits\n",
    "\n",
    "# Show the plot\n",
    "#fig.show()"
   ]
  },
  {
   "cell_type": "code",
   "execution_count": null,
   "id": "00ae2602-f7d4-4098-8016-0422d386ef9f",
   "metadata": {},
   "outputs": [],
   "source": [
    "import plotly.express as px\n",
    "\n",
    "fig = px.scatter(x=[b.original_example_prediction.confidence_in_gold_label for b in snli_results['gpt3-curie'].buckets], \n",
    "                 y=[b.bucket_confidence_shift for b in snli_results['gpt3-curie'].buckets], \n",
    "                 labels={'x': 'original_confidence', 'y': 'confidence_shift'}\n",
    "                )\n",
    "\n",
    "# Set the x and y-axis limits\n",
    "fig.update_xaxes(range=[-0.1, 1.1])  # Set the x-axis limits\n",
    "fig.update_yaxes(range=[-1, 1])  # Set the y-axis limits\n",
    "\n",
    "# Show the plot\n",
    "fig.show()"
   ]
  },
  {
   "cell_type": "code",
   "execution_count": 10,
   "id": "5996db43-7fef-4865-a6d9-78ca8aabd540",
   "metadata": {},
   "outputs": [
    {
     "data": {
      "application/vnd.plotly.v1+json": {
       "config": {
        "plotlyServerURL": "https://plot.ly"
       },
       "data": [
        {
         "hovertemplate": "deviation=%{x}<br>discrete_agreement=%{y}<extra></extra>",
         "legendgroup": "",
         "marker": {
          "color": "#636efa",
          "symbol": "circle"
         },
         "mode": "markers",
         "name": "",
         "orientation": "v",
         "showlegend": false,
         "type": "scatter",
         "x": [
          0.27580374479293823,
          0.3349480926990509,
          0.4191580042243004,
          0.3623136878013611,
          0.2735876441001892,
          0.4822646379470825,
          0.1297454833984375,
          0.22275841236114502,
          0.0722736120223999,
          0.11982300877571106,
          0.051838696002960205,
          0.39359790831804276,
          0.44918032735586166,
          0.37381237745285034,
          0.29731786251068115,
          0.410519540309906,
          0.15003657341003418,
          0.2168101966381073,
          0.08281862735748291,
          0.133217453956604,
          0.006659448146820068,
          0.36297912895679474,
          0.47951350919902325,
          0.3921162486076355,
          0.26128673553466797,
          0.4722859263420105,
          0.16883087158203125,
          0.2779594510793686,
          0.04870253801345825,
          0.10686191916465759,
          0.046131432056427,
          0.333761528134346,
          0.48070267401635647,
          0.30156588554382324,
          0.22565585374832153,
          0.4800835847854614,
          0.19080138206481934,
          0.23193734884262085,
          0.034142643213272095,
          0.1486290693283081,
          0.05587208271026611,
          0.34669187664985657,
          0.4972197220195085,
          0.3204341530799866,
          0.24969911575317383,
          0.41171157360076904,
          0.1460285186767578,
          0.265449583530426,
          0.07663646340370178,
          0.17639002203941345,
          0.08417564630508423,
          0.39564377069473267,
          0.46022388711571693,
          0.39402419328689575,
          0.2627849578857422,
          0.4868003726005554,
          0.16296976804733276,
          0.24415907263755798,
          0.009367913007736206,
          0.17670151591300964,
          0.06367111206054688,
          0.30334389209747314,
          0.4298056811094284,
          0.3346511125564575,
          0.4553915858268738,
          0.15052056312561035,
          0.22530046105384827,
          0.008519202470779419,
          0.12886479496955872,
          0.09381884336471558,
          0.3625456839799881,
          0.42836564034223557,
          0.3554666042327881,
          0.24736261367797852,
          0.49660736322402954,
          0.16160565614700317,
          0.2600698471069336,
          0.04030406475067139,
          0.1500621736049652,
          0.06365472078323364,
          0.3185460567474365,
          0.4228939414024353,
          0.3988673686981201,
          0.2725291848182678,
          0.4962916374206543,
          0.15596556663513184,
          0.29745693504810333,
          0.07745546102523804,
          0.16548442840576172,
          0.09757119417190552,
          0.38415517657995224,
          0.46803344786167145,
          0.389318585395813,
          0.23128968477249146,
          0.49427133798599243,
          0.18176484107971191,
          0.25908195972442627,
          0.0051766932010650635,
          0.10387200117111206,
          0.05881696939468384,
          0.39565205574035645,
          0.4344125837087631,
          0.36839938163757324,
          0.2532029151916504,
          0.4829046130180359,
          0.15640699863433838,
          0.23906144499778748,
          0.05751442909240723,
          0.19045156240463257,
          0.06062042713165283,
          0.38292598724365234,
          0.48423897475004196,
          0.34202706813812256,
          0.23727911710739136,
          0.4401057958602905,
          0.1840524673461914,
          0.23276475071907043,
          0.09302854537963867,
          0.16139426827430725,
          0.007427513599395752,
          0.3674808144569397,
          0.46934045664966106,
          0.37947529554367065,
          0.2391403317451477,
          0.49314767122268677,
          0.07909798622131348,
          0.3109898567199707,
          0.19296610355377197,
          0.4969707131385803,
          0.22919970750808716,
          0.3878563120961189,
          0.17630121111869812,
          0.23856613039970398,
          0.40957019478082657,
          0.09958836436271667,
          0.04745763540267944,
          0.3909950852394104,
          0.15733253955841064,
          0.4934583306312561,
          0.23565971851348877,
          0.3952227681875229,
          0.12091812491416931,
          0.22167956829071045,
          0.4823406096547842,
          0.04897642135620117,
          0.051447272300720215,
          0.361577570438385,
          0.17608332633972168,
          0.49513041973114014,
          0.27071303129196167,
          0.34015806019306183,
          0.19491803646087646,
          0.28515949845314026,
          0.4648832306265831,
          0.08344277739524841,
          0.046473681926727295,
          0.3936721682548523,
          0.14176011085510254,
          0.4961842894554138,
          0.2705022692680359,
          0.30032649636268616,
          0.1847343146800995,
          0.2832298278808594,
          0.47500638477504253,
          0.016658753156661987,
          0.0955159068107605,
          0.32926321029663086,
          0.16884291172027588,
          0.48796558380126953,
          0.21301740407943726,
          0.3115072101354599,
          0.12046697735786438,
          0.24837541580200195,
          0.4639327675104141,
          0.021926045417785645,
          0.03321868181228638,
          0.38136422634124756,
          0.13513892889022827,
          0.4890040159225464,
          0.23313677310943604,
          0.352047935128212,
          0.18942707777023315,
          0.20358237624168396,
          0.4892528420314193,
          0.06448188424110413,
          0.028671681880950928,
          0.32128363847732544,
          0.10170543193817139,
          0.4974393844604492,
          0.21503376960754395,
          0.3029073178768158,
          0.1621963381767273,
          0.25605401396751404,
          0.49318927992135286,
          0.07541894912719727,
          0.0995292067527771,
          0.37920379638671875,
          0.1454092264175415,
          0.45017075538635254,
          0.21750110387802124,
          0.32076218724250793,
          0.11260083317756653,
          0.24852538108825684,
          0.4212997555732727,
          0.031223148107528687,
          0.027557551860809326,
          0.3089282512664795,
          0.11012721061706543,
          0.4496520161628723,
          0.2513240575790405,
          0.38957659900188446,
          0.10153326392173767,
          0.25282250344753265,
          0.482292452827096,
          0.07031092047691345,
          0.08516436815261841,
          0.35861843824386597,
          0.12133944034576416,
          0.48723119497299194,
          0.2993926405906677,
          0.36919088661670685,
          0.15036848187446594,
          0.22310635447502136,
          0.4877719422802329,
          0.06594789028167725,
          0.08118706941604614,
          0.3892977237701416,
          0.10539644956588745,
          0.48164331912994385,
          0.2013413906097412,
          0.37423819303512573,
          0.11597797274589539,
          0.2268320620059967,
          0.4745090529322624,
          0.07671549916267395,
          0.011492490768432617,
          0.36526381969451904,
          0.13160473108291626,
          0.48550206422805786,
          0.23757576942443848,
          0.3825603500008583,
          0.10724973678588867,
          0.2561570107936859,
          0.4445803351700306,
          0.09566587209701538,
          0.039918601512908936,
          0.3325907588005066,
          0.1718713641166687,
          0.487169086933136,
          0.29819315671920776
         ],
         "xaxis": "x",
         "y": [
          0.5,
          0.625,
          0.6666666666666666,
          0.8333333333333334,
          0.5,
          1,
          0.1111111111111111,
          0.6666666666666666,
          0.8333333333333334,
          0.7142857142857143,
          0.5555555555555556,
          0.8333333333333334,
          0.875,
          1,
          0.75,
          0.8888888888888888,
          0.8571428571428571,
          0.1111111111111111,
          0.2222222222222222,
          1,
          0.6666666666666666,
          0.8571428571428571,
          0.8571428571428571,
          1,
          0.5714285714285714,
          1,
          0.7777777777777778,
          0.14285714285714285,
          0.3333333333333333,
          1,
          1,
          0.4444444444444444,
          0.625,
          0.7142857142857143,
          0.6666666666666666,
          1,
          0.8333333333333334,
          0.8333333333333334,
          0.7777777777777778,
          1,
          1,
          1,
          0.5,
          0.875,
          0.7777777777777778,
          0.8333333333333334,
          0.8888888888888888,
          1,
          0.16666666666666666,
          0.7777777777777778,
          0,
          0.75,
          0.7142857142857143,
          0.6666666666666666,
          0.2222222222222222,
          1,
          0.7142857142857143,
          0.7777777777777778,
          0.3333333333333333,
          0.5,
          0.7142857142857143,
          0.8333333333333334,
          0.8571428571428571,
          1,
          0.625,
          0.2857142857142857,
          0.16666666666666666,
          0,
          0.5,
          0.42857142857142855,
          1,
          1,
          0.8888888888888888,
          0.2857142857142857,
          1,
          0.6,
          0.8571428571428571,
          0.2222222222222222,
          0.8888888888888888,
          0.7777777777777778,
          0.7777777777777778,
          1,
          0.8888888888888888,
          0.7777777777777778,
          1,
          0.3333333333333333,
          0.4444444444444444,
          0.2222222222222222,
          0.75,
          0.5555555555555556,
          0.7777777777777778,
          1,
          1,
          0.5,
          1,
          0.8888888888888888,
          1,
          0.7142857142857143,
          0.3333333333333333,
          0.5555555555555556,
          1,
          1,
          0.6666666666666666,
          0.7142857142857143,
          1,
          0.8888888888888888,
          0.8888888888888888,
          0,
          1,
          0.7777777777777778,
          0.8888888888888888,
          1,
          1,
          0.7777777777777778,
          1,
          1,
          0.8888888888888888,
          1,
          0.4444444444444444,
          0.5555555555555556,
          1,
          1,
          0.7777777777777778,
          0.8888888888888888,
          1,
          0.6666666666666666,
          0.8888888888888888,
          0.6666666666666666,
          1,
          0.625,
          0.8888888888888888,
          0.5555555555555556,
          0.3333333333333333,
          0.7777777777777778,
          0.6,
          0.3333333333333333,
          0.7777777777777778,
          0,
          1,
          0.7777777777777778,
          1,
          0.5555555555555556,
          0.1111111111111111,
          0.2222222222222222,
          0.1111111111111111,
          1,
          0.875,
          0.5555555555555556,
          1,
          0.8888888888888888,
          0.4444444444444444,
          0.8888888888888888,
          0.8888888888888888,
          1,
          1,
          0.8888888888888888,
          1,
          0.25,
          1,
          1,
          0.5555555555555556,
          0.3333333333333333,
          0.7777777777777778,
          0.4,
          0.7777777777777778,
          0.8888888888888888,
          1,
          1,
          1,
          0.7777777777777778,
          0.6666666666666666,
          0.3333333333333333,
          0.625,
          1,
          1,
          0.375,
          1,
          0.8571428571428571,
          0.8333333333333334,
          0.3333333333333333,
          0,
          0.75,
          0.7777777777777778,
          1,
          0.8333333333333334,
          1,
          1,
          0.5,
          1,
          0.4444444444444444,
          0.6666666666666666,
          0,
          0.875,
          1,
          0.1111111111111111,
          0.5555555555555556,
          0.5555555555555556,
          0.25,
          1,
          0.6666666666666666,
          0.7142857142857143,
          0.625,
          0.3333333333333333,
          0.7777777777777778,
          0.7777777777777778,
          0.6666666666666666,
          0.42857142857142855,
          0.6666666666666666,
          1,
          0.8888888888888888,
          1,
          0.5555555555555556,
          0.75,
          0.6666666666666666,
          0.125,
          0.7777777777777778,
          0.4444444444444444,
          0.3333333333333333,
          1,
          0.875,
          1,
          0.875,
          0,
          1,
          0.8888888888888888,
          0.3333333333333333,
          0.1111111111111111,
          0.16666666666666666,
          1,
          0.6666666666666666,
          0.6666666666666666,
          0.5,
          0.6666666666666666,
          0.6666666666666666,
          0.2222222222222222,
          0.2222222222222222,
          1,
          1,
          1,
          0.42857142857142855,
          1,
          0.4444444444444444,
          0.8888888888888888,
          1,
          0.5,
          0.5555555555555556,
          1,
          0.25,
          1,
          1
         ],
         "yaxis": "y"
        },
        {
         "hovertemplate": "<b>OLS trendline</b><br>y = 0.856343 * x + 0.483802<br>R<sup>2</sup>=0.198214<br><br>deviation=%{x}<br>discrete_agreement=%{y} <b>(trend)</b><extra></extra>",
         "legendgroup": "",
         "marker": {
          "color": "#636efa",
          "symbol": "circle"
         },
         "mode": "lines",
         "name": "",
         "showlegend": false,
         "type": "scatter",
         "x": [
          0.0051766932010650635,
          0.006659448146820068,
          0.007427513599395752,
          0.008519202470779419,
          0.009367913007736206,
          0.011492490768432617,
          0.016658753156661987,
          0.021926045417785645,
          0.027557551860809326,
          0.028671681880950928,
          0.031223148107528687,
          0.03321868181228638,
          0.034142643213272095,
          0.039918601512908936,
          0.04030406475067139,
          0.046131432056427,
          0.046473681926727295,
          0.04745763540267944,
          0.04870253801345825,
          0.04897642135620117,
          0.051447272300720215,
          0.051838696002960205,
          0.05587208271026611,
          0.05751442909240723,
          0.05881696939468384,
          0.06062042713165283,
          0.06365472078323364,
          0.06367111206054688,
          0.06448188424110413,
          0.06594789028167725,
          0.07031092047691345,
          0.0722736120223999,
          0.07541894912719727,
          0.07663646340370178,
          0.07671549916267395,
          0.07745546102523804,
          0.07909798622131348,
          0.08118706941604614,
          0.08281862735748291,
          0.08344277739524841,
          0.08417564630508423,
          0.08516436815261841,
          0.09302854537963867,
          0.09381884336471558,
          0.0955159068107605,
          0.09566587209701538,
          0.09757119417190552,
          0.0995292067527771,
          0.09958836436271667,
          0.10153326392173767,
          0.10170543193817139,
          0.10387200117111206,
          0.10539644956588745,
          0.10686191916465759,
          0.10724973678588867,
          0.11012721061706543,
          0.11260083317756653,
          0.11597797274589539,
          0.11982300877571106,
          0.12046697735786438,
          0.12091812491416931,
          0.12133944034576416,
          0.12886479496955872,
          0.1297454833984375,
          0.13160473108291626,
          0.133217453956604,
          0.13513892889022827,
          0.14176011085510254,
          0.1454092264175415,
          0.1460285186767578,
          0.1486290693283081,
          0.15003657341003418,
          0.1500621736049652,
          0.15036848187446594,
          0.15052056312561035,
          0.15596556663513184,
          0.15640699863433838,
          0.15733253955841064,
          0.16139426827430725,
          0.16160565614700317,
          0.1621963381767273,
          0.16296976804733276,
          0.16548442840576172,
          0.16883087158203125,
          0.16884291172027588,
          0.1718713641166687,
          0.17608332633972168,
          0.17630121111869812,
          0.17639002203941345,
          0.17670151591300964,
          0.18176484107971191,
          0.1840524673461914,
          0.1847343146800995,
          0.18942707777023315,
          0.19045156240463257,
          0.19080138206481934,
          0.19296610355377197,
          0.19491803646087646,
          0.2013413906097412,
          0.20358237624168396,
          0.21301740407943726,
          0.21503376960754395,
          0.2168101966381073,
          0.21750110387802124,
          0.22167956829071045,
          0.22275841236114502,
          0.22310635447502136,
          0.22530046105384827,
          0.22565585374832153,
          0.2268320620059967,
          0.22919970750808716,
          0.23128968477249146,
          0.23193734884262085,
          0.23276475071907043,
          0.23313677310943604,
          0.23565971851348877,
          0.23727911710739136,
          0.23757576942443848,
          0.23856613039970398,
          0.23906144499778748,
          0.2391403317451477,
          0.24415907263755798,
          0.24736261367797852,
          0.24837541580200195,
          0.24852538108825684,
          0.24969911575317383,
          0.2513240575790405,
          0.25282250344753265,
          0.2532029151916504,
          0.25605401396751404,
          0.2561570107936859,
          0.25908195972442627,
          0.2600698471069336,
          0.26128673553466797,
          0.2627849578857422,
          0.265449583530426,
          0.2705022692680359,
          0.27071303129196167,
          0.2725291848182678,
          0.2735876441001892,
          0.27580374479293823,
          0.2779594510793686,
          0.2832298278808594,
          0.28515949845314026,
          0.29731786251068115,
          0.29745693504810333,
          0.29819315671920776,
          0.2993926405906677,
          0.30032649636268616,
          0.30156588554382324,
          0.3029073178768158,
          0.30334389209747314,
          0.3089282512664795,
          0.3109898567199707,
          0.3115072101354599,
          0.3185460567474365,
          0.3204341530799866,
          0.32076218724250793,
          0.32128363847732544,
          0.32926321029663086,
          0.3325907588005066,
          0.333761528134346,
          0.3346511125564575,
          0.3349480926990509,
          0.34015806019306183,
          0.34202706813812256,
          0.34669187664985657,
          0.352047935128212,
          0.3554666042327881,
          0.35861843824386597,
          0.361577570438385,
          0.3623136878013611,
          0.3625456839799881,
          0.36297912895679474,
          0.36526381969451904,
          0.3674808144569397,
          0.36839938163757324,
          0.36919088661670685,
          0.37381237745285034,
          0.37423819303512573,
          0.37920379638671875,
          0.37947529554367065,
          0.38136422634124756,
          0.3825603500008583,
          0.38292598724365234,
          0.38415517657995224,
          0.3878563120961189,
          0.3892977237701416,
          0.389318585395813,
          0.38957659900188446,
          0.3909950852394104,
          0.3921162486076355,
          0.39359790831804276,
          0.3936721682548523,
          0.39402419328689575,
          0.3952227681875229,
          0.39564377069473267,
          0.39565205574035645,
          0.3988673686981201,
          0.40957019478082657,
          0.410519540309906,
          0.41171157360076904,
          0.4191580042243004,
          0.4212997555732727,
          0.4228939414024353,
          0.42836564034223557,
          0.4298056811094284,
          0.4344125837087631,
          0.4401057958602905,
          0.4445803351700306,
          0.44918032735586166,
          0.4496520161628723,
          0.45017075538635254,
          0.4553915858268738,
          0.46022388711571693,
          0.4639327675104141,
          0.4648832306265831,
          0.46803344786167145,
          0.46934045664966106,
          0.4722859263420105,
          0.4745090529322624,
          0.47500638477504253,
          0.47951350919902325,
          0.4800835847854614,
          0.48070267401635647,
          0.48164331912994385,
          0.4822646379470825,
          0.482292452827096,
          0.4823406096547842,
          0.4829046130180359,
          0.48423897475004196,
          0.48550206422805786,
          0.4868003726005554,
          0.487169086933136,
          0.48723119497299194,
          0.4877719422802329,
          0.48796558380126953,
          0.4890040159225464,
          0.4892528420314193,
          0.49314767122268677,
          0.49318927992135286,
          0.4934583306312561,
          0.49427133798599243,
          0.49513041973114014,
          0.4961842894554138,
          0.4962916374206543,
          0.49660736322402954,
          0.4969707131385803,
          0.4972197220195085,
          0.4974393844604492
         ],
         "xaxis": "x",
         "y": [
          0.48823457901033684,
          0.4895043265646722,
          0.4901620544196825,
          0.4910969150846245,
          0.4918237028331494,
          0.4936430711808071,
          0.49806716637690746,
          0.5025777778475882,
          0.5074002817641824,
          0.5083543597609117,
          0.5105392912699526,
          0.5122481535795769,
          0.5130393819161004,
          0.5179855862406271,
          0.5183156751773299,
          0.5233059032698952,
          0.5235989867204206,
          0.5244415888801685,
          0.5255076531343781,
          0.5257421913536683,
          0.5278580884902195,
          0.5281932816319123,
          0.5316472461065899,
          0.5330536587495321,
          0.5341690806659951,
          0.5357134599698169,
          0.5383118576040721,
          0.5383258941677945,
          0.5390201936515582,
          0.5402755983898717,
          0.5440118509215207,
          0.5456925890616502,
          0.5483860780348689,
          0.5494286884671497,
          0.5494963702253169,
          0.5501300317537995,
          0.5515365975228915,
          0.5533255703298338,
          0.5547227443617442,
          0.5552572311872712,
          0.5558848187118157,
          0.5567315042355555,
          0.5634659412573009,
          0.5641427077969239,
          0.5655959770416744,
          0.5657243988392225,
          0.5673560090063233,
          0.5690327403455357,
          0.5690833995800614,
          0.5707489016682957,
          0.5708963366294316,
          0.5727516641012438,
          0.574057115569484,
          0.5753120609293484,
          0.5756441660270223,
          0.5781082720279908,
          0.5802265426198623,
          0.5831185341251418,
          0.5864112057221356,
          0.5869626640292543,
          0.5873490013049468,
          0.5877097920346643,
          0.5941540805237536,
          0.5949082523320499,
          0.5965004069945781,
          0.5978814517387202,
          0.5995268943013439,
          0.6051969004144763,
          0.6083217967934491,
          0.6088521236919092,
          0.6110790883290427,
          0.6122843952953794,
          0.6123063178558115,
          0.612568622950247,
          0.6126988567405667,
          0.6173616500830241,
          0.6177396675045829,
          0.6185322484554288,
          0.6220104834248338,
          0.6221915040548038,
          0.6226973307693121,
          0.6233596524088134,
          0.6255130654520411,
          0.6283787703016221,
          0.6283890807957019,
          0.6309824763090668,
          0.6345893627652446,
          0.6347759469786538,
          0.6348519996330046,
          0.6351187453857816,
          0.6394546909617048,
          0.6414136848368637,
          0.6419975803666939,
          0.6460161975183892,
          0.646893508272069,
          0.6471930740629317,
          0.6490468192311969,
          0.6507183442813195,
          0.6562189418308341,
          0.6581379953019463,
          0.6662176200277791,
          0.6679443215338434,
          0.6694655532680356,
          0.6700572071894505,
          0.6736354080135845,
          0.674559269116773,
          0.6748572270830638,
          0.6767361359819297,
          0.677040474204458,
          0.678047712496158,
          0.6800752303233075,
          0.6818649687609983,
          0.6824195916752108,
          0.6831281318908965,
          0.6834467108453468,
          0.6856072187335106,
          0.6869939801872416,
          0.6872480164695933,
          0.6880961056497055,
          0.6885202650843738,
          0.6885878192374164,
          0.6928855853600144,
          0.6956289168949604,
          0.6964962234068598,
          0.696624645204408,
          0.6976297652510373,
          0.6990212736154088,
          0.7003044579893802,
          0.7006302211123541,
          0.7030717410062418,
          0.7031599416684688,
          0.7056647026621826,
          0.7065106735972239,
          0.7075527480879806,
          0.708835741054265,
          0.7111175758950408,
          0.7154444104650569,
          0.715624895153503,
          0.7171801464139536,
          0.7180865511360763,
          0.7199842945513553,
          0.7218303196095731,
          0.7263435725063362,
          0.7279960333508211,
          0.7384077693365811,
          0.7385268631995101,
          0.7391573218393614,
          0.7401844920515475,
          0.7409841933683544,
          0.7420455362329483,
          0.743194263086971,
          0.7435681205814629,
          0.7483502502365863,
          0.7501156926585246,
          0.7505587248911435,
          0.7565863954084371,
          0.7582032544231169,
          0.7584841643447411,
          0.7589307057182906,
          0.7657639601486421,
          0.768613484668405,
          0.7696160653730515,
          0.7703778552072953,
          0.7706321722209217,
          0.7750936940001112,
          0.7766942067983105,
          0.7806888852286029,
          0.785275511072097,
          0.7882030661256443,
          0.7909021186823022,
          0.7934361522916336,
          0.7940665216078975,
          0.7942651900266204,
          0.7946363678134927,
          0.796592847867694,
          0.7984913569137214,
          0.7992779659447291,
          0.7999557660858625,
          0.8039133497063902,
          0.8042779941108752,
          0.8085302562459875,
          0.8087627527832817,
          0.81038032638666,
          0.8114046191032829,
          0.8117177301781375,
          0.8127703384719425,
          0.8159397817999654,
          0.8171741253124389,
          0.8171919900299038,
          0.8174129383034081,
          0.818627649767439,
          0.8195877507260563,
          0.8208565603827247,
          0.8209201523966438,
          0.8212216067433528,
          0.8222479985642777,
          0.8226085213232333,
          0.8226156161681695,
          0.8253690285079707,
          0.8345343240154308,
          0.8353472898849557,
          0.8363680798409041,
          0.8427447822756696,
          0.8445788571139548,
          0.8459440277805779,
          0.8506296815811342,
          0.85186285112646,
          0.8558079422052747,
          0.8606832874040278,
          0.8645150300406552,
          0.8684542034318095,
          0.8688581310739487,
          0.8693023500342277,
          0.8737731742270115,
          0.8779112840076508,
          0.8810873596120326,
          0.881901282519993,
          0.8845989505610472,
          0.8857181990361886,
          0.8882405328506444,
          0.8901442928475554,
          0.8905701797365999,
          0.8944298264238821,
          0.8949180069447015,
          0.8954481599811792,
          0.8962536753064825,
          0.8967857376346393,
          0.896809556726238,
          0.896850795512429,
          0.8973337761244147,
          0.898476448115268,
          0.8995580865749534,
          0.9006698845058734,
          0.9009856306265542,
          0.90103881644255,
          0.9015018818822225,
          0.9016677055393669,
          0.9025569601327232,
          0.9027700407527547,
          0.9061053523997158,
          0.906140983738206,
          0.9063713835637941,
          0.907067597124429,
          0.9078032661896365,
          0.908705740673917,
          0.9087976674057867,
          0.9090680371441067,
          0.9093791894802965,
          0.9095924266159887,
          0.9097805331186596
         ],
         "yaxis": "y"
        }
       ],
       "layout": {
        "autosize": true,
        "legend": {
         "tracegroupgap": 0
        },
        "margin": {
         "t": 60
        },
        "template": {
         "data": {
          "bar": [
           {
            "error_x": {
             "color": "#2a3f5f"
            },
            "error_y": {
             "color": "#2a3f5f"
            },
            "marker": {
             "line": {
              "color": "#E5ECF6",
              "width": 0.5
             },
             "pattern": {
              "fillmode": "overlay",
              "size": 10,
              "solidity": 0.2
             }
            },
            "type": "bar"
           }
          ],
          "barpolar": [
           {
            "marker": {
             "line": {
              "color": "#E5ECF6",
              "width": 0.5
             },
             "pattern": {
              "fillmode": "overlay",
              "size": 10,
              "solidity": 0.2
             }
            },
            "type": "barpolar"
           }
          ],
          "carpet": [
           {
            "aaxis": {
             "endlinecolor": "#2a3f5f",
             "gridcolor": "white",
             "linecolor": "white",
             "minorgridcolor": "white",
             "startlinecolor": "#2a3f5f"
            },
            "baxis": {
             "endlinecolor": "#2a3f5f",
             "gridcolor": "white",
             "linecolor": "white",
             "minorgridcolor": "white",
             "startlinecolor": "#2a3f5f"
            },
            "type": "carpet"
           }
          ],
          "choropleth": [
           {
            "colorbar": {
             "outlinewidth": 0,
             "ticks": ""
            },
            "type": "choropleth"
           }
          ],
          "contour": [
           {
            "colorbar": {
             "outlinewidth": 0,
             "ticks": ""
            },
            "colorscale": [
             [
              0,
              "#0d0887"
             ],
             [
              0.1111111111111111,
              "#46039f"
             ],
             [
              0.2222222222222222,
              "#7201a8"
             ],
             [
              0.3333333333333333,
              "#9c179e"
             ],
             [
              0.4444444444444444,
              "#bd3786"
             ],
             [
              0.5555555555555556,
              "#d8576b"
             ],
             [
              0.6666666666666666,
              "#ed7953"
             ],
             [
              0.7777777777777778,
              "#fb9f3a"
             ],
             [
              0.8888888888888888,
              "#fdca26"
             ],
             [
              1,
              "#f0f921"
             ]
            ],
            "type": "contour"
           }
          ],
          "contourcarpet": [
           {
            "colorbar": {
             "outlinewidth": 0,
             "ticks": ""
            },
            "type": "contourcarpet"
           }
          ],
          "heatmap": [
           {
            "colorbar": {
             "outlinewidth": 0,
             "ticks": ""
            },
            "colorscale": [
             [
              0,
              "#0d0887"
             ],
             [
              0.1111111111111111,
              "#46039f"
             ],
             [
              0.2222222222222222,
              "#7201a8"
             ],
             [
              0.3333333333333333,
              "#9c179e"
             ],
             [
              0.4444444444444444,
              "#bd3786"
             ],
             [
              0.5555555555555556,
              "#d8576b"
             ],
             [
              0.6666666666666666,
              "#ed7953"
             ],
             [
              0.7777777777777778,
              "#fb9f3a"
             ],
             [
              0.8888888888888888,
              "#fdca26"
             ],
             [
              1,
              "#f0f921"
             ]
            ],
            "type": "heatmap"
           }
          ],
          "heatmapgl": [
           {
            "colorbar": {
             "outlinewidth": 0,
             "ticks": ""
            },
            "colorscale": [
             [
              0,
              "#0d0887"
             ],
             [
              0.1111111111111111,
              "#46039f"
             ],
             [
              0.2222222222222222,
              "#7201a8"
             ],
             [
              0.3333333333333333,
              "#9c179e"
             ],
             [
              0.4444444444444444,
              "#bd3786"
             ],
             [
              0.5555555555555556,
              "#d8576b"
             ],
             [
              0.6666666666666666,
              "#ed7953"
             ],
             [
              0.7777777777777778,
              "#fb9f3a"
             ],
             [
              0.8888888888888888,
              "#fdca26"
             ],
             [
              1,
              "#f0f921"
             ]
            ],
            "type": "heatmapgl"
           }
          ],
          "histogram": [
           {
            "marker": {
             "pattern": {
              "fillmode": "overlay",
              "size": 10,
              "solidity": 0.2
             }
            },
            "type": "histogram"
           }
          ],
          "histogram2d": [
           {
            "colorbar": {
             "outlinewidth": 0,
             "ticks": ""
            },
            "colorscale": [
             [
              0,
              "#0d0887"
             ],
             [
              0.1111111111111111,
              "#46039f"
             ],
             [
              0.2222222222222222,
              "#7201a8"
             ],
             [
              0.3333333333333333,
              "#9c179e"
             ],
             [
              0.4444444444444444,
              "#bd3786"
             ],
             [
              0.5555555555555556,
              "#d8576b"
             ],
             [
              0.6666666666666666,
              "#ed7953"
             ],
             [
              0.7777777777777778,
              "#fb9f3a"
             ],
             [
              0.8888888888888888,
              "#fdca26"
             ],
             [
              1,
              "#f0f921"
             ]
            ],
            "type": "histogram2d"
           }
          ],
          "histogram2dcontour": [
           {
            "colorbar": {
             "outlinewidth": 0,
             "ticks": ""
            },
            "colorscale": [
             [
              0,
              "#0d0887"
             ],
             [
              0.1111111111111111,
              "#46039f"
             ],
             [
              0.2222222222222222,
              "#7201a8"
             ],
             [
              0.3333333333333333,
              "#9c179e"
             ],
             [
              0.4444444444444444,
              "#bd3786"
             ],
             [
              0.5555555555555556,
              "#d8576b"
             ],
             [
              0.6666666666666666,
              "#ed7953"
             ],
             [
              0.7777777777777778,
              "#fb9f3a"
             ],
             [
              0.8888888888888888,
              "#fdca26"
             ],
             [
              1,
              "#f0f921"
             ]
            ],
            "type": "histogram2dcontour"
           }
          ],
          "mesh3d": [
           {
            "colorbar": {
             "outlinewidth": 0,
             "ticks": ""
            },
            "type": "mesh3d"
           }
          ],
          "parcoords": [
           {
            "line": {
             "colorbar": {
              "outlinewidth": 0,
              "ticks": ""
             }
            },
            "type": "parcoords"
           }
          ],
          "pie": [
           {
            "automargin": true,
            "type": "pie"
           }
          ],
          "scatter": [
           {
            "fillpattern": {
             "fillmode": "overlay",
             "size": 10,
             "solidity": 0.2
            },
            "type": "scatter"
           }
          ],
          "scatter3d": [
           {
            "line": {
             "colorbar": {
              "outlinewidth": 0,
              "ticks": ""
             }
            },
            "marker": {
             "colorbar": {
              "outlinewidth": 0,
              "ticks": ""
             }
            },
            "type": "scatter3d"
           }
          ],
          "scattercarpet": [
           {
            "marker": {
             "colorbar": {
              "outlinewidth": 0,
              "ticks": ""
             }
            },
            "type": "scattercarpet"
           }
          ],
          "scattergeo": [
           {
            "marker": {
             "colorbar": {
              "outlinewidth": 0,
              "ticks": ""
             }
            },
            "type": "scattergeo"
           }
          ],
          "scattergl": [
           {
            "marker": {
             "colorbar": {
              "outlinewidth": 0,
              "ticks": ""
             }
            },
            "type": "scattergl"
           }
          ],
          "scattermapbox": [
           {
            "marker": {
             "colorbar": {
              "outlinewidth": 0,
              "ticks": ""
             }
            },
            "type": "scattermapbox"
           }
          ],
          "scatterpolar": [
           {
            "marker": {
             "colorbar": {
              "outlinewidth": 0,
              "ticks": ""
             }
            },
            "type": "scatterpolar"
           }
          ],
          "scatterpolargl": [
           {
            "marker": {
             "colorbar": {
              "outlinewidth": 0,
              "ticks": ""
             }
            },
            "type": "scatterpolargl"
           }
          ],
          "scatterternary": [
           {
            "marker": {
             "colorbar": {
              "outlinewidth": 0,
              "ticks": ""
             }
            },
            "type": "scatterternary"
           }
          ],
          "surface": [
           {
            "colorbar": {
             "outlinewidth": 0,
             "ticks": ""
            },
            "colorscale": [
             [
              0,
              "#0d0887"
             ],
             [
              0.1111111111111111,
              "#46039f"
             ],
             [
              0.2222222222222222,
              "#7201a8"
             ],
             [
              0.3333333333333333,
              "#9c179e"
             ],
             [
              0.4444444444444444,
              "#bd3786"
             ],
             [
              0.5555555555555556,
              "#d8576b"
             ],
             [
              0.6666666666666666,
              "#ed7953"
             ],
             [
              0.7777777777777778,
              "#fb9f3a"
             ],
             [
              0.8888888888888888,
              "#fdca26"
             ],
             [
              1,
              "#f0f921"
             ]
            ],
            "type": "surface"
           }
          ],
          "table": [
           {
            "cells": {
             "fill": {
              "color": "#EBF0F8"
             },
             "line": {
              "color": "white"
             }
            },
            "header": {
             "fill": {
              "color": "#C8D4E3"
             },
             "line": {
              "color": "white"
             }
            },
            "type": "table"
           }
          ]
         },
         "layout": {
          "annotationdefaults": {
           "arrowcolor": "#2a3f5f",
           "arrowhead": 0,
           "arrowwidth": 1
          },
          "autotypenumbers": "strict",
          "coloraxis": {
           "colorbar": {
            "outlinewidth": 0,
            "ticks": ""
           }
          },
          "colorscale": {
           "diverging": [
            [
             0,
             "#8e0152"
            ],
            [
             0.1,
             "#c51b7d"
            ],
            [
             0.2,
             "#de77ae"
            ],
            [
             0.3,
             "#f1b6da"
            ],
            [
             0.4,
             "#fde0ef"
            ],
            [
             0.5,
             "#f7f7f7"
            ],
            [
             0.6,
             "#e6f5d0"
            ],
            [
             0.7,
             "#b8e186"
            ],
            [
             0.8,
             "#7fbc41"
            ],
            [
             0.9,
             "#4d9221"
            ],
            [
             1,
             "#276419"
            ]
           ],
           "sequential": [
            [
             0,
             "#0d0887"
            ],
            [
             0.1111111111111111,
             "#46039f"
            ],
            [
             0.2222222222222222,
             "#7201a8"
            ],
            [
             0.3333333333333333,
             "#9c179e"
            ],
            [
             0.4444444444444444,
             "#bd3786"
            ],
            [
             0.5555555555555556,
             "#d8576b"
            ],
            [
             0.6666666666666666,
             "#ed7953"
            ],
            [
             0.7777777777777778,
             "#fb9f3a"
            ],
            [
             0.8888888888888888,
             "#fdca26"
            ],
            [
             1,
             "#f0f921"
            ]
           ],
           "sequentialminus": [
            [
             0,
             "#0d0887"
            ],
            [
             0.1111111111111111,
             "#46039f"
            ],
            [
             0.2222222222222222,
             "#7201a8"
            ],
            [
             0.3333333333333333,
             "#9c179e"
            ],
            [
             0.4444444444444444,
             "#bd3786"
            ],
            [
             0.5555555555555556,
             "#d8576b"
            ],
            [
             0.6666666666666666,
             "#ed7953"
            ],
            [
             0.7777777777777778,
             "#fb9f3a"
            ],
            [
             0.8888888888888888,
             "#fdca26"
            ],
            [
             1,
             "#f0f921"
            ]
           ]
          },
          "colorway": [
           "#636efa",
           "#EF553B",
           "#00cc96",
           "#ab63fa",
           "#FFA15A",
           "#19d3f3",
           "#FF6692",
           "#B6E880",
           "#FF97FF",
           "#FECB52"
          ],
          "font": {
           "color": "#2a3f5f"
          },
          "geo": {
           "bgcolor": "white",
           "lakecolor": "white",
           "landcolor": "#E5ECF6",
           "showlakes": true,
           "showland": true,
           "subunitcolor": "white"
          },
          "hoverlabel": {
           "align": "left"
          },
          "hovermode": "closest",
          "mapbox": {
           "style": "light"
          },
          "paper_bgcolor": "white",
          "plot_bgcolor": "#E5ECF6",
          "polar": {
           "angularaxis": {
            "gridcolor": "white",
            "linecolor": "white",
            "ticks": ""
           },
           "bgcolor": "#E5ECF6",
           "radialaxis": {
            "gridcolor": "white",
            "linecolor": "white",
            "ticks": ""
           }
          },
          "scene": {
           "xaxis": {
            "backgroundcolor": "#E5ECF6",
            "gridcolor": "white",
            "gridwidth": 2,
            "linecolor": "white",
            "showbackground": true,
            "ticks": "",
            "zerolinecolor": "white"
           },
           "yaxis": {
            "backgroundcolor": "#E5ECF6",
            "gridcolor": "white",
            "gridwidth": 2,
            "linecolor": "white",
            "showbackground": true,
            "ticks": "",
            "zerolinecolor": "white"
           },
           "zaxis": {
            "backgroundcolor": "#E5ECF6",
            "gridcolor": "white",
            "gridwidth": 2,
            "linecolor": "white",
            "showbackground": true,
            "ticks": "",
            "zerolinecolor": "white"
           }
          },
          "shapedefaults": {
           "line": {
            "color": "#2a3f5f"
           }
          },
          "ternary": {
           "aaxis": {
            "gridcolor": "white",
            "linecolor": "white",
            "ticks": ""
           },
           "baxis": {
            "gridcolor": "white",
            "linecolor": "white",
            "ticks": ""
           },
           "bgcolor": "#E5ECF6",
           "caxis": {
            "gridcolor": "white",
            "linecolor": "white",
            "ticks": ""
           }
          },
          "title": {
           "x": 0.05
          },
          "xaxis": {
           "automargin": true,
           "gridcolor": "white",
           "linecolor": "white",
           "ticks": "",
           "title": {
            "standoff": 15
           },
           "zerolinecolor": "white",
           "zerolinewidth": 2
          },
          "yaxis": {
           "automargin": true,
           "gridcolor": "white",
           "linecolor": "white",
           "ticks": "",
           "title": {
            "standoff": 15
           },
           "zerolinecolor": "white",
           "zerolinewidth": 2
          }
         }
        },
        "xaxis": {
         "anchor": "y",
         "autorange": true,
         "domain": [
          0,
          1
         ],
         "range": [
          -0.024238036335091206,
          0.5268541139966055
         ],
         "title": {
          "text": "deviation"
         },
         "type": "linear"
        },
        "yaxis": {
         "anchor": "x",
         "autorange": true,
         "domain": [
          0,
          1
         ],
         "range": [
          -0.0774278215223097,
          1.0774278215223096
         ],
         "title": {
          "text": "discrete_agreement"
         },
         "type": "linear"
        }
       }
      },
      "image/png": "[encoded data removed]",
      "text/html": [
       "<div>                            <div id=\"024d6e7f-d5a4-4077-8204-bbdac38b152c\" class=\"plotly-graph-div\" style=\"height:525px; width:100%;\"></div>            <script type=\"text/javascript\">                require([\"plotly\"], function(Plotly) {                    window.PLOTLYENV=window.PLOTLYENV || {};                                    if (document.getElementById(\"024d6e7f-d5a4-4077-8204-bbdac38b152c\")) {                    Plotly.newPlot(                        \"024d6e7f-d5a4-4077-8204-bbdac38b152c\",                        [{\"hovertemplate\":\"deviation=%{x}\\u003cbr\\u003ediscrete_agreement=%{y}\\u003cextra\\u003e\\u003c\\u002fextra\\u003e\",\"legendgroup\":\"\",\"marker\":{\"color\":\"#636efa\",\"symbol\":\"circle\"},\"mode\":\"markers\",\"name\":\"\",\"orientation\":\"v\",\"showlegend\":false,\"x\":[0.27580374479293823,0.3349480926990509,0.4191580042243004,0.3623136878013611,0.2735876441001892,0.4822646379470825,0.1297454833984375,0.22275841236114502,0.0722736120223999,0.11982300877571106,0.051838696002960205,0.39359790831804276,0.44918032735586166,0.37381237745285034,0.29731786251068115,0.410519540309906,0.15003657341003418,0.2168101966381073,0.08281862735748291,0.133217453956604,0.006659448146820068,0.36297912895679474,0.47951350919902325,0.3921162486076355,0.26128673553466797,0.4722859263420105,0.16883087158203125,0.2779594510793686,0.04870253801345825,0.10686191916465759,0.046131432056427,0.333761528134346,0.48070267401635647,0.30156588554382324,0.22565585374832153,0.4800835847854614,0.19080138206481934,0.23193734884262085,0.034142643213272095,0.1486290693283081,0.05587208271026611,0.34669187664985657,0.4972197220195085,0.3204341530799866,0.24969911575317383,0.41171157360076904,0.1460285186767578,0.265449583530426,0.07663646340370178,0.17639002203941345,0.08417564630508423,0.39564377069473267,0.46022388711571693,0.39402419328689575,0.2627849578857422,0.4868003726005554,0.16296976804733276,0.24415907263755798,0.009367913007736206,0.17670151591300964,0.06367111206054688,0.30334389209747314,0.4298056811094284,0.3346511125564575,0.4553915858268738,0.15052056312561035,0.22530046105384827,0.008519202470779419,0.12886479496955872,0.09381884336471558,0.3625456839799881,0.42836564034223557,0.3554666042327881,0.24736261367797852,0.49660736322402954,0.16160565614700317,0.2600698471069336,0.04030406475067139,0.1500621736049652,0.06365472078323364,0.3185460567474365,0.4228939414024353,0.3988673686981201,0.2725291848182678,0.4962916374206543,0.15596556663513184,0.29745693504810333,0.07745546102523804,0.16548442840576172,0.09757119417190552,0.38415517657995224,0.46803344786167145,0.389318585395813,0.23128968477249146,0.49427133798599243,0.18176484107971191,0.25908195972442627,0.0051766932010650635,0.10387200117111206,0.05881696939468384,0.39565205574035645,0.4344125837087631,0.36839938163757324,0.2532029151916504,0.4829046130180359,0.15640699863433838,0.23906144499778748,0.05751442909240723,0.19045156240463257,0.06062042713165283,0.38292598724365234,0.48423897475004196,0.34202706813812256,0.23727911710739136,0.4401057958602905,0.1840524673461914,0.23276475071907043,0.09302854537963867,0.16139426827430725,0.007427513599395752,0.3674808144569397,0.46934045664966106,0.37947529554367065,0.2391403317451477,0.49314767122268677,0.07909798622131348,0.3109898567199707,0.19296610355377197,0.4969707131385803,0.22919970750808716,0.3878563120961189,0.17630121111869812,0.23856613039970398,0.40957019478082657,0.09958836436271667,0.04745763540267944,0.3909950852394104,0.15733253955841064,0.4934583306312561,0.23565971851348877,0.3952227681875229,0.12091812491416931,0.22167956829071045,0.4823406096547842,0.04897642135620117,0.051447272300720215,0.361577570438385,0.17608332633972168,0.49513041973114014,0.27071303129196167,0.34015806019306183,0.19491803646087646,0.28515949845314026,0.4648832306265831,0.08344277739524841,0.046473681926727295,0.3936721682548523,0.14176011085510254,0.4961842894554138,0.2705022692680359,0.30032649636268616,0.1847343146800995,0.2832298278808594,0.47500638477504253,0.016658753156661987,0.0955159068107605,0.32926321029663086,0.16884291172027588,0.48796558380126953,0.21301740407943726,0.3115072101354599,0.12046697735786438,0.24837541580200195,0.4639327675104141,0.021926045417785645,0.03321868181228638,0.38136422634124756,0.13513892889022827,0.4890040159225464,0.23313677310943604,0.352047935128212,0.18942707777023315,0.20358237624168396,0.4892528420314193,0.06448188424110413,0.028671681880950928,0.32128363847732544,0.10170543193817139,0.4974393844604492,0.21503376960754395,0.3029073178768158,0.1621963381767273,0.25605401396751404,0.49318927992135286,0.07541894912719727,0.0995292067527771,0.37920379638671875,0.1454092264175415,0.45017075538635254,0.21750110387802124,0.32076218724250793,0.11260083317756653,0.24852538108825684,0.4212997555732727,0.031223148107528687,0.027557551860809326,0.3089282512664795,0.11012721061706543,0.4496520161628723,0.2513240575790405,0.38957659900188446,0.10153326392173767,0.25282250344753265,0.482292452827096,0.07031092047691345,0.08516436815261841,0.35861843824386597,0.12133944034576416,0.48723119497299194,0.2993926405906677,0.36919088661670685,0.15036848187446594,0.22310635447502136,0.4877719422802329,0.06594789028167725,0.08118706941604614,0.3892977237701416,0.10539644956588745,0.48164331912994385,0.2013413906097412,0.37423819303512573,0.11597797274589539,0.2268320620059967,0.4745090529322624,0.07671549916267395,0.011492490768432617,0.36526381969451904,0.13160473108291626,0.48550206422805786,0.23757576942443848,0.3825603500008583,0.10724973678588867,0.2561570107936859,0.4445803351700306,0.09566587209701538,0.039918601512908936,0.3325907588005066,0.1718713641166687,0.487169086933136,0.29819315671920776],\"xaxis\":\"x\",\"y\":[0.5,0.625,0.6666666666666666,0.8333333333333334,0.5,1.0,0.1111111111111111,0.6666666666666666,0.8333333333333334,0.7142857142857143,0.5555555555555556,0.8333333333333334,0.875,1.0,0.75,0.8888888888888888,0.8571428571428571,0.1111111111111111,0.2222222222222222,1.0,0.6666666666666666,0.8571428571428571,0.8571428571428571,1.0,0.5714285714285714,1.0,0.7777777777777778,0.14285714285714285,0.3333333333333333,1.0,1.0,0.4444444444444444,0.625,0.7142857142857143,0.6666666666666666,1.0,0.8333333333333334,0.8333333333333334,0.7777777777777778,1.0,1.0,1.0,0.5,0.875,0.7777777777777778,0.8333333333333334,0.8888888888888888,1.0,0.16666666666666666,0.7777777777777778,0.0,0.75,0.7142857142857143,0.6666666666666666,0.2222222222222222,1.0,0.7142857142857143,0.7777777777777778,0.3333333333333333,0.5,0.7142857142857143,0.8333333333333334,0.8571428571428571,1.0,0.625,0.2857142857142857,0.16666666666666666,0.0,0.5,0.42857142857142855,1.0,1.0,0.8888888888888888,0.2857142857142857,1.0,0.6,0.8571428571428571,0.2222222222222222,0.8888888888888888,0.7777777777777778,0.7777777777777778,1.0,0.8888888888888888,0.7777777777777778,1.0,0.3333333333333333,0.4444444444444444,0.2222222222222222,0.75,0.5555555555555556,0.7777777777777778,1.0,1.0,0.5,1.0,0.8888888888888888,1.0,0.7142857142857143,0.3333333333333333,0.5555555555555556,1.0,1.0,0.6666666666666666,0.7142857142857143,1.0,0.8888888888888888,0.8888888888888888,0.0,1.0,0.7777777777777778,0.8888888888888888,1.0,1.0,0.7777777777777778,1.0,1.0,0.8888888888888888,1.0,0.4444444444444444,0.5555555555555556,1.0,1.0,0.7777777777777778,0.8888888888888888,1.0,0.6666666666666666,0.8888888888888888,0.6666666666666666,1.0,0.625,0.8888888888888888,0.5555555555555556,0.3333333333333333,0.7777777777777778,0.6,0.3333333333333333,0.7777777777777778,0.0,1.0,0.7777777777777778,1.0,0.5555555555555556,0.1111111111111111,0.2222222222222222,0.1111111111111111,1.0,0.875,0.5555555555555556,1.0,0.8888888888888888,0.4444444444444444,0.8888888888888888,0.8888888888888888,1.0,1.0,0.8888888888888888,1.0,0.25,1.0,1.0,0.5555555555555556,0.3333333333333333,0.7777777777777778,0.4,0.7777777777777778,0.8888888888888888,1.0,1.0,1.0,0.7777777777777778,0.6666666666666666,0.3333333333333333,0.625,1.0,1.0,0.375,1.0,0.8571428571428571,0.8333333333333334,0.3333333333333333,0.0,0.75,0.7777777777777778,1.0,0.8333333333333334,1.0,1.0,0.5,1.0,0.4444444444444444,0.6666666666666666,0.0,0.875,1.0,0.1111111111111111,0.5555555555555556,0.5555555555555556,0.25,1.0,0.6666666666666666,0.7142857142857143,0.625,0.3333333333333333,0.7777777777777778,0.7777777777777778,0.6666666666666666,0.42857142857142855,0.6666666666666666,1.0,0.8888888888888888,1.0,0.5555555555555556,0.75,0.6666666666666666,0.125,0.7777777777777778,0.4444444444444444,0.3333333333333333,1.0,0.875,1.0,0.875,0.0,1.0,0.8888888888888888,0.3333333333333333,0.1111111111111111,0.16666666666666666,1.0,0.6666666666666666,0.6666666666666666,0.5,0.6666666666666666,0.6666666666666666,0.2222222222222222,0.2222222222222222,1.0,1.0,1.0,0.42857142857142855,1.0,0.4444444444444444,0.8888888888888888,1.0,0.5,0.5555555555555556,1.0,0.25,1.0,1.0],\"yaxis\":\"y\",\"type\":\"scatter\"},{\"hovertemplate\":\"\\u003cb\\u003eOLS trendline\\u003c\\u002fb\\u003e\\u003cbr\\u003ey = 0.856343 * x + 0.483802\\u003cbr\\u003eR\\u003csup\\u003e2\\u003c\\u002fsup\\u003e=0.198214\\u003cbr\\u003e\\u003cbr\\u003edeviation=%{x}\\u003cbr\\u003ediscrete_agreement=%{y} \\u003cb\\u003e(trend)\\u003c\\u002fb\\u003e\\u003cextra\\u003e\\u003c\\u002fextra\\u003e\",\"legendgroup\":\"\",\"marker\":{\"color\":\"#636efa\",\"symbol\":\"circle\"},\"mode\":\"lines\",\"name\":\"\",\"showlegend\":false,\"x\":[0.0051766932010650635,0.006659448146820068,0.007427513599395752,0.008519202470779419,0.009367913007736206,0.011492490768432617,0.016658753156661987,0.021926045417785645,0.027557551860809326,0.028671681880950928,0.031223148107528687,0.03321868181228638,0.034142643213272095,0.039918601512908936,0.04030406475067139,0.046131432056427,0.046473681926727295,0.04745763540267944,0.04870253801345825,0.04897642135620117,0.051447272300720215,0.051838696002960205,0.05587208271026611,0.05751442909240723,0.05881696939468384,0.06062042713165283,0.06365472078323364,0.06367111206054688,0.06448188424110413,0.06594789028167725,0.07031092047691345,0.0722736120223999,0.07541894912719727,0.07663646340370178,0.07671549916267395,0.07745546102523804,0.07909798622131348,0.08118706941604614,0.08281862735748291,0.08344277739524841,0.08417564630508423,0.08516436815261841,0.09302854537963867,0.09381884336471558,0.0955159068107605,0.09566587209701538,0.09757119417190552,0.0995292067527771,0.09958836436271667,0.10153326392173767,0.10170543193817139,0.10387200117111206,0.10539644956588745,0.10686191916465759,0.10724973678588867,0.11012721061706543,0.11260083317756653,0.11597797274589539,0.11982300877571106,0.12046697735786438,0.12091812491416931,0.12133944034576416,0.12886479496955872,0.1297454833984375,0.13160473108291626,0.133217453956604,0.13513892889022827,0.14176011085510254,0.1454092264175415,0.1460285186767578,0.1486290693283081,0.15003657341003418,0.1500621736049652,0.15036848187446594,0.15052056312561035,0.15596556663513184,0.15640699863433838,0.15733253955841064,0.16139426827430725,0.16160565614700317,0.1621963381767273,0.16296976804733276,0.16548442840576172,0.16883087158203125,0.16884291172027588,0.1718713641166687,0.17608332633972168,0.17630121111869812,0.17639002203941345,0.17670151591300964,0.18176484107971191,0.1840524673461914,0.1847343146800995,0.18942707777023315,0.19045156240463257,0.19080138206481934,0.19296610355377197,0.19491803646087646,0.2013413906097412,0.20358237624168396,0.21301740407943726,0.21503376960754395,0.2168101966381073,0.21750110387802124,0.22167956829071045,0.22275841236114502,0.22310635447502136,0.22530046105384827,0.22565585374832153,0.2268320620059967,0.22919970750808716,0.23128968477249146,0.23193734884262085,0.23276475071907043,0.23313677310943604,0.23565971851348877,0.23727911710739136,0.23757576942443848,0.23856613039970398,0.23906144499778748,0.2391403317451477,0.24415907263755798,0.24736261367797852,0.24837541580200195,0.24852538108825684,0.24969911575317383,0.2513240575790405,0.25282250344753265,0.2532029151916504,0.25605401396751404,0.2561570107936859,0.25908195972442627,0.2600698471069336,0.26128673553466797,0.2627849578857422,0.265449583530426,0.2705022692680359,0.27071303129196167,0.2725291848182678,0.2735876441001892,0.27580374479293823,0.2779594510793686,0.2832298278808594,0.28515949845314026,0.29731786251068115,0.29745693504810333,0.29819315671920776,0.2993926405906677,0.30032649636268616,0.30156588554382324,0.3029073178768158,0.30334389209747314,0.3089282512664795,0.3109898567199707,0.3115072101354599,0.3185460567474365,0.3204341530799866,0.32076218724250793,0.32128363847732544,0.32926321029663086,0.3325907588005066,0.333761528134346,0.3346511125564575,0.3349480926990509,0.34015806019306183,0.34202706813812256,0.34669187664985657,0.352047935128212,0.3554666042327881,0.35861843824386597,0.361577570438385,0.3623136878013611,0.3625456839799881,0.36297912895679474,0.36526381969451904,0.3674808144569397,0.36839938163757324,0.36919088661670685,0.37381237745285034,0.37423819303512573,0.37920379638671875,0.37947529554367065,0.38136422634124756,0.3825603500008583,0.38292598724365234,0.38415517657995224,0.3878563120961189,0.3892977237701416,0.389318585395813,0.38957659900188446,0.3909950852394104,0.3921162486076355,0.39359790831804276,0.3936721682548523,0.39402419328689575,0.3952227681875229,0.39564377069473267,0.39565205574035645,0.3988673686981201,0.40957019478082657,0.410519540309906,0.41171157360076904,0.4191580042243004,0.4212997555732727,0.4228939414024353,0.42836564034223557,0.4298056811094284,0.4344125837087631,0.4401057958602905,0.4445803351700306,0.44918032735586166,0.4496520161628723,0.45017075538635254,0.4553915858268738,0.46022388711571693,0.4639327675104141,0.4648832306265831,0.46803344786167145,0.46934045664966106,0.4722859263420105,0.4745090529322624,0.47500638477504253,0.47951350919902325,0.4800835847854614,0.48070267401635647,0.48164331912994385,0.4822646379470825,0.482292452827096,0.4823406096547842,0.4829046130180359,0.48423897475004196,0.48550206422805786,0.4868003726005554,0.487169086933136,0.48723119497299194,0.4877719422802329,0.48796558380126953,0.4890040159225464,0.4892528420314193,0.49314767122268677,0.49318927992135286,0.4934583306312561,0.49427133798599243,0.49513041973114014,0.4961842894554138,0.4962916374206543,0.49660736322402954,0.4969707131385803,0.4972197220195085,0.4974393844604492],\"xaxis\":\"x\",\"y\":[0.48823457901033684,0.4895043265646722,0.4901620544196825,0.4910969150846245,0.4918237028331494,0.4936430711808071,0.49806716637690746,0.5025777778475882,0.5074002817641824,0.5083543597609117,0.5105392912699526,0.5122481535795769,0.5130393819161004,0.5179855862406271,0.5183156751773299,0.5233059032698952,0.5235989867204206,0.5244415888801685,0.5255076531343781,0.5257421913536683,0.5278580884902195,0.5281932816319123,0.5316472461065899,0.5330536587495321,0.5341690806659951,0.5357134599698169,0.5383118576040721,0.5383258941677945,0.5390201936515582,0.5402755983898717,0.5440118509215207,0.5456925890616502,0.5483860780348689,0.5494286884671497,0.5494963702253169,0.5501300317537995,0.5515365975228915,0.5533255703298338,0.5547227443617442,0.5552572311872712,0.5558848187118157,0.5567315042355555,0.5634659412573009,0.5641427077969239,0.5655959770416744,0.5657243988392225,0.5673560090063233,0.5690327403455357,0.5690833995800614,0.5707489016682957,0.5708963366294316,0.5727516641012438,0.574057115569484,0.5753120609293484,0.5756441660270223,0.5781082720279908,0.5802265426198623,0.5831185341251418,0.5864112057221356,0.5869626640292543,0.5873490013049468,0.5877097920346643,0.5941540805237536,0.5949082523320499,0.5965004069945781,0.5978814517387202,0.5995268943013439,0.6051969004144763,0.6083217967934491,0.6088521236919092,0.6110790883290427,0.6122843952953794,0.6123063178558115,0.612568622950247,0.6126988567405667,0.6173616500830241,0.6177396675045829,0.6185322484554288,0.6220104834248338,0.6221915040548038,0.6226973307693121,0.6233596524088134,0.6255130654520411,0.6283787703016221,0.6283890807957019,0.6309824763090668,0.6345893627652446,0.6347759469786538,0.6348519996330046,0.6351187453857816,0.6394546909617048,0.6414136848368637,0.6419975803666939,0.6460161975183892,0.646893508272069,0.6471930740629317,0.6490468192311969,0.6507183442813195,0.6562189418308341,0.6581379953019463,0.6662176200277791,0.6679443215338434,0.6694655532680356,0.6700572071894505,0.6736354080135845,0.674559269116773,0.6748572270830638,0.6767361359819297,0.677040474204458,0.678047712496158,0.6800752303233075,0.6818649687609983,0.6824195916752108,0.6831281318908965,0.6834467108453468,0.6856072187335106,0.6869939801872416,0.6872480164695933,0.6880961056497055,0.6885202650843738,0.6885878192374164,0.6928855853600144,0.6956289168949604,0.6964962234068598,0.696624645204408,0.6976297652510373,0.6990212736154088,0.7003044579893802,0.7006302211123541,0.7030717410062418,0.7031599416684688,0.7056647026621826,0.7065106735972239,0.7075527480879806,0.708835741054265,0.7111175758950408,0.7154444104650569,0.715624895153503,0.7171801464139536,0.7180865511360763,0.7199842945513553,0.7218303196095731,0.7263435725063362,0.7279960333508211,0.7384077693365811,0.7385268631995101,0.7391573218393614,0.7401844920515475,0.7409841933683544,0.7420455362329483,0.743194263086971,0.7435681205814629,0.7483502502365863,0.7501156926585246,0.7505587248911435,0.7565863954084371,0.7582032544231169,0.7584841643447411,0.7589307057182906,0.7657639601486421,0.768613484668405,0.7696160653730515,0.7703778552072953,0.7706321722209217,0.7750936940001112,0.7766942067983105,0.7806888852286029,0.785275511072097,0.7882030661256443,0.7909021186823022,0.7934361522916336,0.7940665216078975,0.7942651900266204,0.7946363678134927,0.796592847867694,0.7984913569137214,0.7992779659447291,0.7999557660858625,0.8039133497063902,0.8042779941108752,0.8085302562459875,0.8087627527832817,0.81038032638666,0.8114046191032829,0.8117177301781375,0.8127703384719425,0.8159397817999654,0.8171741253124389,0.8171919900299038,0.8174129383034081,0.818627649767439,0.8195877507260563,0.8208565603827247,0.8209201523966438,0.8212216067433528,0.8222479985642777,0.8226085213232333,0.8226156161681695,0.8253690285079707,0.8345343240154308,0.8353472898849557,0.8363680798409041,0.8427447822756696,0.8445788571139548,0.8459440277805779,0.8506296815811342,0.85186285112646,0.8558079422052747,0.8606832874040278,0.8645150300406552,0.8684542034318095,0.8688581310739487,0.8693023500342277,0.8737731742270115,0.8779112840076508,0.8810873596120326,0.881901282519993,0.8845989505610472,0.8857181990361886,0.8882405328506444,0.8901442928475554,0.8905701797365999,0.8944298264238821,0.8949180069447015,0.8954481599811792,0.8962536753064825,0.8967857376346393,0.896809556726238,0.896850795512429,0.8973337761244147,0.898476448115268,0.8995580865749534,0.9006698845058734,0.9009856306265542,0.90103881644255,0.9015018818822225,0.9016677055393669,0.9025569601327232,0.9027700407527547,0.9061053523997158,0.906140983738206,0.9063713835637941,0.907067597124429,0.9078032661896365,0.908705740673917,0.9087976674057867,0.9090680371441067,0.9093791894802965,0.9095924266159887,0.9097805331186596],\"yaxis\":\"y\",\"type\":\"scatter\"}],                        {\"template\":{\"data\":{\"histogram2dcontour\":[{\"type\":\"histogram2dcontour\",\"colorbar\":{\"outlinewidth\":0,\"ticks\":\"\"},\"colorscale\":[[0.0,\"#0d0887\"],[0.1111111111111111,\"#46039f\"],[0.2222222222222222,\"#7201a8\"],[0.3333333333333333,\"#9c179e\"],[0.4444444444444444,\"#bd3786\"],[0.5555555555555556,\"#d8576b\"],[0.6666666666666666,\"#ed7953\"],[0.7777777777777778,\"#fb9f3a\"],[0.8888888888888888,\"#fdca26\"],[1.0,\"#f0f921\"]]}],\"choropleth\":[{\"type\":\"choropleth\",\"colorbar\":{\"outlinewidth\":0,\"ticks\":\"\"}}],\"histogram2d\":[{\"type\":\"histogram2d\",\"colorbar\":{\"outlinewidth\":0,\"ticks\":\"\"},\"colorscale\":[[0.0,\"#0d0887\"],[0.1111111111111111,\"#46039f\"],[0.2222222222222222,\"#7201a8\"],[0.3333333333333333,\"#9c179e\"],[0.4444444444444444,\"#bd3786\"],[0.5555555555555556,\"#d8576b\"],[0.6666666666666666,\"#ed7953\"],[0.7777777777777778,\"#fb9f3a\"],[0.8888888888888888,\"#fdca26\"],[1.0,\"#f0f921\"]]}],\"heatmap\":[{\"type\":\"heatmap\",\"colorbar\":{\"outlinewidth\":0,\"ticks\":\"\"},\"colorscale\":[[0.0,\"#0d0887\"],[0.1111111111111111,\"#46039f\"],[0.2222222222222222,\"#7201a8\"],[0.3333333333333333,\"#9c179e\"],[0.4444444444444444,\"#bd3786\"],[0.5555555555555556,\"#d8576b\"],[0.6666666666666666,\"#ed7953\"],[0.7777777777777778,\"#fb9f3a\"],[0.8888888888888888,\"#fdca26\"],[1.0,\"#f0f921\"]]}],\"heatmapgl\":[{\"type\":\"heatmapgl\",\"colorbar\":{\"outlinewidth\":0,\"ticks\":\"\"},\"colorscale\":[[0.0,\"#0d0887\"],[0.1111111111111111,\"#46039f\"],[0.2222222222222222,\"#7201a8\"],[0.3333333333333333,\"#9c179e\"],[0.4444444444444444,\"#bd3786\"],[0.5555555555555556,\"#d8576b\"],[0.6666666666666666,\"#ed7953\"],[0.7777777777777778,\"#fb9f3a\"],[0.8888888888888888,\"#fdca26\"],[1.0,\"#f0f921\"]]}],\"contourcarpet\":[{\"type\":\"contourcarpet\",\"colorbar\":{\"outlinewidth\":0,\"ticks\":\"\"}}],\"contour\":[{\"type\":\"contour\",\"colorbar\":{\"outlinewidth\":0,\"ticks\":\"\"},\"colorscale\":[[0.0,\"#0d0887\"],[0.1111111111111111,\"#46039f\"],[0.2222222222222222,\"#7201a8\"],[0.3333333333333333,\"#9c179e\"],[0.4444444444444444,\"#bd3786\"],[0.5555555555555556,\"#d8576b\"],[0.6666666666666666,\"#ed7953\"],[0.7777777777777778,\"#fb9f3a\"],[0.8888888888888888,\"#fdca26\"],[1.0,\"#f0f921\"]]}],\"surface\":[{\"type\":\"surface\",\"colorbar\":{\"outlinewidth\":0,\"ticks\":\"\"},\"colorscale\":[[0.0,\"#0d0887\"],[0.1111111111111111,\"#46039f\"],[0.2222222222222222,\"#7201a8\"],[0.3333333333333333,\"#9c179e\"],[0.4444444444444444,\"#bd3786\"],[0.5555555555555556,\"#d8576b\"],[0.6666666666666666,\"#ed7953\"],[0.7777777777777778,\"#fb9f3a\"],[0.8888888888888888,\"#fdca26\"],[1.0,\"#f0f921\"]]}],\"mesh3d\":[{\"type\":\"mesh3d\",\"colorbar\":{\"outlinewidth\":0,\"ticks\":\"\"}}],\"scatter\":[{\"fillpattern\":{\"fillmode\":\"overlay\",\"size\":10,\"solidity\":0.2},\"type\":\"scatter\"}],\"parcoords\":[{\"type\":\"parcoords\",\"line\":{\"colorbar\":{\"outlinewidth\":0,\"ticks\":\"\"}}}],\"scatterpolargl\":[{\"type\":\"scatterpolargl\",\"marker\":{\"colorbar\":{\"outlinewidth\":0,\"ticks\":\"\"}}}],\"bar\":[{\"error_x\":{\"color\":\"#2a3f5f\"},\"error_y\":{\"color\":\"#2a3f5f\"},\"marker\":{\"line\":{\"color\":\"#E5ECF6\",\"width\":0.5},\"pattern\":{\"fillmode\":\"overlay\",\"size\":10,\"solidity\":0.2}},\"type\":\"bar\"}],\"scattergeo\":[{\"type\":\"scattergeo\",\"marker\":{\"colorbar\":{\"outlinewidth\":0,\"ticks\":\"\"}}}],\"scatterpolar\":[{\"type\":\"scatterpolar\",\"marker\":{\"colorbar\":{\"outlinewidth\":0,\"ticks\":\"\"}}}],\"histogram\":[{\"marker\":{\"pattern\":{\"fillmode\":\"overlay\",\"size\":10,\"solidity\":0.2}},\"type\":\"histogram\"}],\"scattergl\":[{\"type\":\"scattergl\",\"marker\":{\"colorbar\":{\"outlinewidth\":0,\"ticks\":\"\"}}}],\"scatter3d\":[{\"type\":\"scatter3d\",\"line\":{\"colorbar\":{\"outlinewidth\":0,\"ticks\":\"\"}},\"marker\":{\"colorbar\":{\"outlinewidth\":0,\"ticks\":\"\"}}}],\"scattermapbox\":[{\"type\":\"scattermapbox\",\"marker\":{\"colorbar\":{\"outlinewidth\":0,\"ticks\":\"\"}}}],\"scatterternary\":[{\"type\":\"scatterternary\",\"marker\":{\"colorbar\":{\"outlinewidth\":0,\"ticks\":\"\"}}}],\"scattercarpet\":[{\"type\":\"scattercarpet\",\"marker\":{\"colorbar\":{\"outlinewidth\":0,\"ticks\":\"\"}}}],\"carpet\":[{\"aaxis\":{\"endlinecolor\":\"#2a3f5f\",\"gridcolor\":\"white\",\"linecolor\":\"white\",\"minorgridcolor\":\"white\",\"startlinecolor\":\"#2a3f5f\"},\"baxis\":{\"endlinecolor\":\"#2a3f5f\",\"gridcolor\":\"white\",\"linecolor\":\"white\",\"minorgridcolor\":\"white\",\"startlinecolor\":\"#2a3f5f\"},\"type\":\"carpet\"}],\"table\":[{\"cells\":{\"fill\":{\"color\":\"#EBF0F8\"},\"line\":{\"color\":\"white\"}},\"header\":{\"fill\":{\"color\":\"#C8D4E3\"},\"line\":{\"color\":\"white\"}},\"type\":\"table\"}],\"barpolar\":[{\"marker\":{\"line\":{\"color\":\"#E5ECF6\",\"width\":0.5},\"pattern\":{\"fillmode\":\"overlay\",\"size\":10,\"solidity\":0.2}},\"type\":\"barpolar\"}],\"pie\":[{\"automargin\":true,\"type\":\"pie\"}]},\"layout\":{\"autotypenumbers\":\"strict\",\"colorway\":[\"#636efa\",\"#EF553B\",\"#00cc96\",\"#ab63fa\",\"#FFA15A\",\"#19d3f3\",\"#FF6692\",\"#B6E880\",\"#FF97FF\",\"#FECB52\"],\"font\":{\"color\":\"#2a3f5f\"},\"hovermode\":\"closest\",\"hoverlabel\":{\"align\":\"left\"},\"paper_bgcolor\":\"white\",\"plot_bgcolor\":\"#E5ECF6\",\"polar\":{\"bgcolor\":\"#E5ECF6\",\"angularaxis\":{\"gridcolor\":\"white\",\"linecolor\":\"white\",\"ticks\":\"\"},\"radialaxis\":{\"gridcolor\":\"white\",\"linecolor\":\"white\",\"ticks\":\"\"}},\"ternary\":{\"bgcolor\":\"#E5ECF6\",\"aaxis\":{\"gridcolor\":\"white\",\"linecolor\":\"white\",\"ticks\":\"\"},\"baxis\":{\"gridcolor\":\"white\",\"linecolor\":\"white\",\"ticks\":\"\"},\"caxis\":{\"gridcolor\":\"white\",\"linecolor\":\"white\",\"ticks\":\"\"}},\"coloraxis\":{\"colorbar\":{\"outlinewidth\":0,\"ticks\":\"\"}},\"colorscale\":{\"sequential\":[[0.0,\"#0d0887\"],[0.1111111111111111,\"#46039f\"],[0.2222222222222222,\"#7201a8\"],[0.3333333333333333,\"#9c179e\"],[0.4444444444444444,\"#bd3786\"],[0.5555555555555556,\"#d8576b\"],[0.6666666666666666,\"#ed7953\"],[0.7777777777777778,\"#fb9f3a\"],[0.8888888888888888,\"#fdca26\"],[1.0,\"#f0f921\"]],\"sequentialminus\":[[0.0,\"#0d0887\"],[0.1111111111111111,\"#46039f\"],[0.2222222222222222,\"#7201a8\"],[0.3333333333333333,\"#9c179e\"],[0.4444444444444444,\"#bd3786\"],[0.5555555555555556,\"#d8576b\"],[0.6666666666666666,\"#ed7953\"],[0.7777777777777778,\"#fb9f3a\"],[0.8888888888888888,\"#fdca26\"],[1.0,\"#f0f921\"]],\"diverging\":[[0,\"#8e0152\"],[0.1,\"#c51b7d\"],[0.2,\"#de77ae\"],[0.3,\"#f1b6da\"],[0.4,\"#fde0ef\"],[0.5,\"#f7f7f7\"],[0.6,\"#e6f5d0\"],[0.7,\"#b8e186\"],[0.8,\"#7fbc41\"],[0.9,\"#4d9221\"],[1,\"#276419\"]]},\"xaxis\":{\"gridcolor\":\"white\",\"linecolor\":\"white\",\"ticks\":\"\",\"title\":{\"standoff\":15},\"zerolinecolor\":\"white\",\"automargin\":true,\"zerolinewidth\":2},\"yaxis\":{\"gridcolor\":\"white\",\"linecolor\":\"white\",\"ticks\":\"\",\"title\":{\"standoff\":15},\"zerolinecolor\":\"white\",\"automargin\":true,\"zerolinewidth\":2},\"scene\":{\"xaxis\":{\"backgroundcolor\":\"#E5ECF6\",\"gridcolor\":\"white\",\"linecolor\":\"white\",\"showbackground\":true,\"ticks\":\"\",\"zerolinecolor\":\"white\",\"gridwidth\":2},\"yaxis\":{\"backgroundcolor\":\"#E5ECF6\",\"gridcolor\":\"white\",\"linecolor\":\"white\",\"showbackground\":true,\"ticks\":\"\",\"zerolinecolor\":\"white\",\"gridwidth\":2},\"zaxis\":{\"backgroundcolor\":\"#E5ECF6\",\"gridcolor\":\"white\",\"linecolor\":\"white\",\"showbackground\":true,\"ticks\":\"\",\"zerolinecolor\":\"white\",\"gridwidth\":2}},\"shapedefaults\":{\"line\":{\"color\":\"#2a3f5f\"}},\"annotationdefaults\":{\"arrowcolor\":\"#2a3f5f\",\"arrowhead\":0,\"arrowwidth\":1},\"geo\":{\"bgcolor\":\"white\",\"landcolor\":\"#E5ECF6\",\"subunitcolor\":\"white\",\"showland\":true,\"showlakes\":true,\"lakecolor\":\"white\"},\"title\":{\"x\":0.05},\"mapbox\":{\"style\":\"light\"}}},\"xaxis\":{\"anchor\":\"y\",\"domain\":[0.0,1.0],\"title\":{\"text\":\"deviation\"}},\"yaxis\":{\"anchor\":\"x\",\"domain\":[0.0,1.0],\"title\":{\"text\":\"discrete_agreement\"}},\"legend\":{\"tracegroupgap\":0},\"margin\":{\"t\":60}},                        {\"responsive\": true}                    ).then(function(){\n",
       "                            \n",
       "var gd = document.getElementById('024d6e7f-d5a4-4077-8204-bbdac38b152c');\n",
       "var x = new MutationObserver(function (mutations, observer) {{\n",
       "        var display = window.getComputedStyle(gd).display;\n",
       "        if (!display || display === 'none') {{\n",
       "            console.log([gd, 'removed!']);\n",
       "            Plotly.purge(gd);\n",
       "            observer.disconnect();\n",
       "        }}\n",
       "}});\n",
       "\n",
       "// Listen for the removal of the full notebook cells\n",
       "var notebookContainer = gd.closest('#notebook-container');\n",
       "if (notebookContainer) {{\n",
       "    x.observe(notebookContainer, {childList: true});\n",
       "}}\n",
       "\n",
       "// Listen for the clearing of the current output cell\n",
       "var outputEl = gd.closest('.output');\n",
       "if (outputEl) {{\n",
       "    x.observe(outputEl, {childList: true});\n",
       "}}\n",
       "\n",
       "                        })                };                });            </script>        </div>"
      ]
     },
     "metadata": {},
     "output_type": "display_data"
    }
   ],
   "source": [
    "import plotly.express as px\n",
    "\n",
    "fig = px.scatter(x=[b.original_example_prediction.confidence_deviation for b in snli_results['specialized_roberta'].buckets], \n",
    "                 y=[b.bucket_discrete_agreement for b in snli_results['specialized_roberta'].buckets], \n",
    "                 labels={'x': 'deviation', 'y': 'discrete_agreement'}, trendline=\"ols\"\n",
    "                )\n",
    "\n",
    "# # Set the x and y-axis limits\n",
    "# fig.update_xaxes(range=[-0.1, 1.1])  # Set the x-axis limits\n",
    "# fig.update_yaxes(range=[-1, 1])  # Set the y-axis limits\n",
    "\n",
    "# Show the plot\n",
    "fig.show()"
   ]
  },
  {
   "cell_type": "code",
   "execution_count": 9,
   "id": "21cd7d09-3479-4e85-b435-b7685bffb095",
   "metadata": {},
   "outputs": [
    {
     "data": {
      "text/plain": [
       "<Axes: ylabel='Count'>"
      ]
     },
     "execution_count": 9,
     "metadata": {},
     "output_type": "execute_result"
    },
    {
     "data": {
      "image/png": "[encoded data removed]",
      "text/plain": [
       "<Figure size 640x480 with 1 Axes>"
      ]
     },
     "metadata": {},
     "output_type": "display_data"
    }
   ],
   "source": [
    "sns.histplot(test_results_snli['specialized_roberta'].confidences)"
   ]
  },
  {
   "cell_type": "code",
   "execution_count": 27,
   "id": "2fc72f10-c436-4d47-a7ed-8f66e6aa3989",
   "metadata": {},
   "outputs": [],
   "source": [
    "import numpy as np\n",
    "hist, bin_edges = np.histogram(test_results_snli['specialized_roberta'].confidences, bins=10, density=False)\n",
    "\n",
    "weights = hist / np.sum(hist)"
   ]
  },
  {
   "cell_type": "code",
   "execution_count": 30,
   "id": "8725a1a9-5436-42ec-a318-f3ed3ba8b857",
   "metadata": {},
   "outputs": [
    {
     "ename": "SyntaxError",
     "evalue": "unexpected EOF while parsing (495754951.py, line 7)",
     "output_type": "error",
     "traceback": [
      "\u001b[0;36m  Cell \u001b[0;32mIn[30], line 7\u001b[0;36m\u001b[0m\n\u001b[0;31m    \u001b[0m\n\u001b[0m    ^\u001b[0m\n\u001b[0;31mSyntaxError\u001b[0m\u001b[0;31m:\u001b[0m unexpected EOF while parsing\n"
     ]
    }
   ],
   "source": [
    "selected_buckets = []\n",
    "\n",
    "for i in range(len(bin_edges) - 1):\n",
    "    edge_start = bin_edges[i] \n",
    "    edge_end = bin_edges[i + 1]\n",
    "    weight = hist[i]/len(test_results_snli['specialized_roberta'].confidences\n",
    "    "
   ]
  },
  {
   "cell_type": "code",
   "execution_count": null,
   "id": "3405f604-8bb9-49a3-a75f-7f37fd72fbf7",
   "metadata": {},
   "outputs": [],
   "source": [
    "## just do a bunch of different resampling (10K), and then in expectation, \n",
    "## the prop explained should be the same as doing the reweighting\n",
    "# is reweighting = upsampling?"
   ]
  }
 ],
 "metadata": {
  "kernelspec": {
   "display_name": "para-nlu",
   "language": "python",
   "name": "para-nlu"
  },
  "language_info": {
   "codemirror_mode": {
    "name": "ipython",
    "version": 3
   },
   "file_extension": ".py",
   "mimetype": "text/x-python",
   "name": "python",
   "nbconvert_exporter": "python",
   "pygments_lexer": "ipython3",
   "version": "3.8.13"
  }
 },
 "nbformat": 4,
 "nbformat_minor": 5
}
