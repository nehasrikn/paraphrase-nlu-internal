{
 "cells": [
  {
   "cell_type": "code",
   "execution_count": 1,
   "id": "d09a57e0-7489-4fa9-8540-7edca4de0953",
   "metadata": {},
   "outputs": [
    {
     "name": "stderr",
     "output_type": "stream",
     "text": [
      "100%|███████████████████████████████████████████████████████████████████| 250/250 [00:00<00:00, 31644.62it/s]\n",
      "100%|███████████████████████████████████████████████████████████████████| 250/250 [00:00<00:00, 33831.58it/s]\n",
      "100%|███████████████████████████████████████████████████████████████████| 250/250 [00:00<00:00, 28905.50it/s]\n",
      "100%|███████████████████████████████████████████████████████████████████| 250/250 [00:00<00:00, 32559.42it/s]\n",
      "100%|███████████████████████████████████████████████████████████████████| 250/250 [00:00<00:00, 32975.13it/s]\n",
      "100%|███████████████████████████████████████████████████████████████████| 250/250 [00:00<00:00, 33643.79it/s]\n",
      "100%|███████████████████████████████████████████████████████████████████| 250/250 [00:00<00:00, 28007.59it/s]\n",
      "100%|███████████████████████████████████████████████████████████████████| 250/250 [00:00<00:00, 35961.86it/s]\n",
      "100%|███████████████████████████████████████████████████████████████████| 250/250 [00:00<00:00, 31735.60it/s]\n",
      "100%|███████████████████████████████████████████████████████████████████| 250/250 [00:00<00:00, 36716.13it/s]\n",
      "100%|███████████████████████████████████████████████████████████████████| 250/250 [00:00<00:00, 31756.75it/s]\n",
      "100%|███████████████████████████████████████████████████████████████████| 250/250 [00:00<00:00, 35441.63it/s]\n",
      "100%|███████████████████████████████████████████████████████████████████| 250/250 [00:00<00:00, 34892.05it/s]\n",
      "100%|███████████████████████████████████████████████████████████████████| 250/250 [00:00<00:00, 37170.37it/s]\n",
      "100%|███████████████████████████████████████████████████████████████████| 250/250 [00:00<00:00, 31307.32it/s]\n",
      "100%|███████████████████████████████████████████████████████████████████| 250/250 [00:00<00:00, 35416.49it/s]\n",
      "100%|███████████████████████████████████████████████████████████████████| 250/250 [00:00<00:00, 34795.95it/s]\n",
      "100%|█████████████████████████████████████████████████████████████████████| 250/250 [00:00<00:00, 580.58it/s]\n",
      "100%|███████████████████████████████████████████████████████████████████| 250/250 [00:00<00:00, 31188.13it/s]\n",
      "100%|███████████████████████████████████████████████████████████████████| 250/250 [00:00<00:00, 35279.46it/s]\n"
     ]
    }
   ],
   "source": [
    "import os\n",
    "import sys\n",
    "\n",
    "module_path = os.path.abspath(os.path.join('../../'))\n",
    "if module_path not in sys.path:\n",
    "    sys.path.append(module_path)\n",
    "\n",
    "from experiments.result_buckets import gpt3_curie, bilstm, roberta_specialized, roberta_unified, specialized_full_input_lexical\n",
    "\n",
    "%load_ext autoreload\n",
    "%autoreload 2"
   ]
  },
  {
   "cell_type": "code",
   "execution_count": 2,
   "id": "44ff91ce-e3e7-4647-a9f5-c4f507184bca",
   "metadata": {},
   "outputs": [],
   "source": [
    "snli_results = {\n",
    "    'specialized_roberta': roberta_specialized['snli-human'],\n",
    "    'unified_roberta':  roberta_unified['snli-human'],\n",
    "    'specialized_full_input_lexical': specialized_full_input_lexical['snli-human'],\n",
    "    'gpt3-curie': gpt3_curie['snli-human'],\n",
    "    'bilstm': bilstm['snli-human'],\n",
    "}\n",
    "\n",
    "test_results_snli = {\n",
    "    'specialized_roberta': roberta_specialized['snli-test'],\n",
    "    'unified_roberta':  roberta_unified['snli-test'],\n",
    "    'specialized_full_input_lexical': specialized_full_input_lexical['snli-test'],\n",
    "    'gpt3-curie': gpt3_curie['snli-test'],\n",
    "    'bilstm': bilstm['snli-test'],\n",
    "}\n",
    "    "
   ]
  },
  {
   "cell_type": "code",
   "execution_count": 6,
   "id": "d93c2df3-67eb-449f-af12-90a69ff1057e",
   "metadata": {},
   "outputs": [],
   "source": [
    "import seaborn as sns"
   ]
  },
  {
   "cell_type": "code",
   "execution_count": 15,
   "id": "295f345d-02c7-448c-8d68-1387d3e2a7b4",
   "metadata": {},
   "outputs": [
    {
     "name": "stdout",
     "output_type": "stream",
     "text": [
      "\u001b[32mspecialized_roberta\u001b[0m\n",
      "Prop explained: 0.4938082810751717\n",
      "Total variance: 0.24852668095092342\n",
      "Test set accuracy: 0.8671747414262384\n",
      "paraphrase acc: 0.5383838383838384\n",
      "variance of bernoulli with acc: 0.24852668095092337\n",
      "\n",
      "\u001b[32munified_roberta\u001b[0m\n",
      "Prop explained: 0.5429993783421939\n",
      "Total variance: 0.24010075502499745\n",
      "Test set accuracy: 0.8568317909635275\n",
      "paraphrase acc: 0.5994949494949495\n",
      "variance of bernoulli with acc: 0.24010075502499745\n",
      "\n",
      "\u001b[32mspecialized_full_input_lexical\u001b[0m\n",
      "Prop explained: 0.6420444614924627\n",
      "Total variance: 0.24864069992857876\n",
      "Test set accuracy: 0.5574305933587371\n",
      "paraphrase acc: 0.5368686868686868\n",
      "variance of bernoulli with acc: 0.2486406999285787\n",
      "\n",
      "\u001b[32mgpt3-curie\u001b[0m\n",
      "Prop explained: 0.7857235511526908\n",
      "Total variance: 0.24988751147842062\n",
      "Test set accuracy: 0.489\n",
      "paraphrase acc: 0.5106060606060606\n",
      "variance of bernoulli with acc: 0.24988751147842056\n",
      "\n",
      "\u001b[32mbilstm\u001b[0m\n",
      "Prop explained: 0.4561960103182316\n",
      "Total variance: 0.2441840118355269\n",
      "Test set accuracy: 0.6804572672836146\n",
      "paraphrase acc: 0.5762626262626263\n",
      "variance of bernoulli with acc: 0.244184011835527\n",
      "\n"
     ]
    },
    {
     "data": {
      "text/plain": [
       "<Axes: >"
      ]
     },
     "execution_count": 15,
     "metadata": {},
     "output_type": "execute_result"
    },
    {
     "data": {
      "image/png": "[encoded data removed]",
      "text/plain": [
       "<Figure size 640x480 with 1 Axes>"
      ]
     },
     "metadata": {},
     "output_type": "display_data"
    }
   ],
   "source": [
    "from simple_colors import *\n",
    "\n",
    "x = []\n",
    "y = []\n",
    "\n",
    "for model, analysis in snli_results.items():\n",
    "    print(green(model))\n",
    "    variance_law = analysis.law_of_total_variance_breakdown()\n",
    "    test_set_accuracy = test_results_snli[model].accuracy\n",
    "\n",
    "    print('Prop explained:', variance_law['prop_explained'])\n",
    "    print('Total variance:', variance_law['total_var_y'])\n",
    "    print('Test set accuracy:', test_set_accuracy)\n",
    "    print('paraphrase acc:', analysis.paraphrase_accuracy())\n",
    "    print('variance of bernoulli with acc:', (analysis.paraphrase_accuracy() * (1-analysis.paraphrase_accuracy())))\n",
    "    print()\n",
    "    x.append(test_set_accuracy)\n",
    "    y.append(variance_law['prop_explained'])\n",
    "\n",
    "sns.scatterplot(x=x, y=y)"
   ]
  },
  {
   "cell_type": "code",
   "execution_count": null,
   "id": "8aa77aa6-9d4b-4644-8144-3180ff7df02d",
   "metadata": {},
   "outputs": [],
   "source": []
  }
 ],
 "metadata": {
  "kernelspec": {
   "display_name": "para-nlu",
   "language": "python",
   "name": "para-nlu"
  },
  "language_info": {
   "codemirror_mode": {
    "name": "ipython",
    "version": 3
   },
   "file_extension": ".py",
   "mimetype": "text/x-python",
   "name": "python",
   "nbconvert_exporter": "python",
   "pygments_lexer": "ipython3",
   "version": "3.8.13"
  }
 },
 "nbformat": 4,
 "nbformat_minor": 5
}
