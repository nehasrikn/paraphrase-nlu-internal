{
 "cells": [
  {
   "cell_type": "code",
   "execution_count": 1,
   "id": "cefb577d",
   "metadata": {},
   "outputs": [],
   "source": [
    "%load_ext autoreload\n",
    "%autoreload 2"
   ]
  },
  {
   "cell_type": "code",
   "execution_count": 2,
   "id": "1ab977b2",
   "metadata": {},
   "outputs": [],
   "source": [
    "import plotly.express as px\n",
    "import os\n",
    "import sys\n",
    "import pandas as pd\n",
    "from collections import defaultdict\n",
    "import numpy as np\n",
    "\n",
    "module_path = os.path.abspath(os.path.join('../..'))\n",
    "if module_path not in sys.path:\n",
    "    sys.path.append(module_path)"
   ]
  },
  {
   "cell_type": "code",
   "execution_count": 4,
   "id": "32a8a2d6",
   "metadata": {},
   "outputs": [],
   "source": [
    "from utils import PROJECT_ROOT_DIR, load_json, write_json\n",
    "from experiments.auto_vs_human.paranlu_auto import para_nlu_automatic"
   ]
  },
  {
   "cell_type": "code",
   "execution_count": 10,
   "id": "54d45625",
   "metadata": {},
   "outputs": [
    {
     "name": "stdout",
     "output_type": "stream",
     "text": [
      "number of paraphrased examples: 7295\n"
     ]
    }
   ],
   "source": [
    "total = 0\n",
    "for d in para_nlu_automatic.values():\n",
    "    total += sum([len(x) for x in d.values()])\n",
    "print('number of paraphrased examples:', total)"
   ]
  },
  {
   "cell_type": "code",
   "execution_count": null,
   "id": "0955f63a",
   "metadata": {},
   "outputs": [],
   "source": []
  }
 ],
 "metadata": {
  "kernelspec": {
   "display_name": "Python [conda env:para-nlu]",
   "language": "python",
   "name": "conda-env-para-nlu-py"
  },
  "language_info": {
   "codemirror_mode": {
    "name": "ipython",
    "version": 3
   },
   "file_extension": ".py",
   "mimetype": "text/x-python",
   "name": "python",
   "nbconvert_exporter": "python",
   "pygments_lexer": "ipython3",
   "version": "3.8.13"
  }
 },
 "nbformat": 4,
 "nbformat_minor": 5
}
