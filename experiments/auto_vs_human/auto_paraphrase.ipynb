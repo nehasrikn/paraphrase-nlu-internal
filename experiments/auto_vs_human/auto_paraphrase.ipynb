{
 "cells": [
  {
   "cell_type": "code",
   "execution_count": 1,
   "id": "695d8134",
   "metadata": {},
   "outputs": [],
   "source": [
    "%load_ext autoreload\n",
    "%autoreload 2"
   ]
  },
  {
   "cell_type": "code",
   "execution_count": 2,
   "id": "33045061",
   "metadata": {},
   "outputs": [],
   "source": [
    "import plotly.express as px\n",
    "import os\n",
    "import sys\n",
    "import pandas as pd\n",
    "import numpy as np\n",
    "\n",
    "module_path = os.path.abspath(os.path.join('../..'))\n",
    "if module_path not in sys.path:\n",
    "    sys.path.append(module_path)"
   ]
  },
  {
   "cell_type": "code",
   "execution_count": 3,
   "id": "823e2b3f",
   "metadata": {},
   "outputs": [],
   "source": [
    "from utils import PROJECT_ROOT_DIR\n",
    "from experiments.auto_vs_human.gpt3.defeasible.results.process_validation import get_valid_paraphrases"
   ]
  },
  {
   "cell_type": "code",
   "execution_count": 12,
   "id": "faba4fee",
   "metadata": {},
   "outputs": [
    {
     "name": "stdout",
     "output_type": "stream",
     "text": [
      "valid      0.928022\n",
      "invalid    0.071978\n",
      "Name: paraphrase_valid, dtype: float64\n",
      "valid      0.959835\n",
      "invalid    0.040165\n",
      "Name: paraphrase_valid, dtype: float64\n"
     ]
    }
   ],
   "source": [
    "social_gpt3 = get_valid_paraphrases('social')\n",
    "snli_gpt3 = get_valid_paraphrases('snli')"
   ]
  },
  {
   "cell_type": "code",
   "execution_count": 13,
   "id": "177a043b",
   "metadata": {},
   "outputs": [
    {
     "data": {
      "text/plain": [
       "8    50\n",
       "9    47\n",
       "7    41\n",
       "6    35\n",
       "5    31\n",
       "4    23\n",
       "3    15\n",
       "2     5\n",
       "1     3\n",
       "dtype: int64"
      ]
     },
     "execution_count": 13,
     "metadata": {},
     "output_type": "execute_result"
    }
   ],
   "source": [
    "pd.Series([len(v) for v in snli_gpt3.values()]).value_counts()"
   ]
  },
  {
   "cell_type": "code",
   "execution_count": 10,
   "id": "5a1e628b",
   "metadata": {},
   "outputs": [],
   "source": []
  },
  {
   "cell_type": "code",
   "execution_count": null,
   "id": "cfb5e3d5",
   "metadata": {},
   "outputs": [],
   "source": []
  }
 ],
 "metadata": {
  "kernelspec": {
   "display_name": "Python [conda env:para-nlu]",
   "language": "python",
   "name": "conda-env-para-nlu-py"
  },
  "language_info": {
   "codemirror_mode": {
    "name": "ipython",
    "version": 3
   },
   "file_extension": ".py",
   "mimetype": "text/x-python",
   "name": "python",
   "nbconvert_exporter": "python",
   "pygments_lexer": "ipython3",
   "version": "3.8.13"
  }
 },
 "nbformat": 4,
 "nbformat_minor": 5
}
