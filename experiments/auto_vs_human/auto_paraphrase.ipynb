{
 "cells": [
  {
   "cell_type": "code",
   "execution_count": 1,
   "id": "a8c29159",
   "metadata": {},
   "outputs": [],
   "source": [
    "%load_ext autoreload\n",
    "%autoreload 2"
   ]
  },
  {
   "cell_type": "code",
   "execution_count": 2,
   "id": "f777d9c8",
   "metadata": {},
   "outputs": [],
   "source": [
    "import plotly.express as px\n",
    "import os\n",
    "import sys\n",
    "import pandas as pd\n",
    "from collections import defaultdict\n",
    "import numpy as np\n",
    "\n",
    "module_path = os.path.abspath(os.path.join('../..'))\n",
    "if module_path not in sys.path:\n",
    "    sys.path.append(module_path)"
   ]
  },
  {
   "cell_type": "code",
   "execution_count": 3,
   "id": "63755529",
   "metadata": {},
   "outputs": [],
   "source": [
    "from utils import PROJECT_ROOT_DIR, load_json, write_json\n",
    "from experiments.auto_vs_human.defeasible.results.process_validation import get_valid_paraphrases"
   ]
  },
  {
   "cell_type": "code",
   "execution_count": 15,
   "id": "b0e919f3",
   "metadata": {},
   "outputs": [
    {
     "name": "stdout",
     "output_type": "stream",
     "text": [
      "valid      0.928022\n",
      "invalid    0.071978\n",
      "Name: paraphrase_valid, dtype: float64\n",
      "valid      0.959835\n",
      "invalid    0.040165\n",
      "Name: paraphrase_valid, dtype: float64\n"
     ]
    }
   ],
   "source": [
    "social_gpt3 = get_valid_paraphrases('social')\n",
    "snli_gpt3 = get_valid_paraphrases('snli')"
   ]
  },
  {
   "cell_type": "code",
   "execution_count": 11,
   "id": "a0452d79",
   "metadata": {},
   "outputs": [],
   "source": []
  },
  {
   "cell_type": "code",
   "execution_count": 20,
   "id": "b78c3e8b",
   "metadata": {},
   "outputs": [],
   "source": [
    "paraphrases = pd.read_csv('abductive/results/validation_annotation_files/pilot/qcpg_paraphrases_hyp1_validated.csv')"
   ]
  },
  {
   "cell_type": "code",
   "execution_count": 21,
   "id": "3e3eaab9",
   "metadata": {},
   "outputs": [],
   "source": [
    "paraphrases = paraphrases[paraphrases['hyp1_paraphrase_invalid'] == 'valid']"
   ]
  },
  {
   "cell_type": "code",
   "execution_count": 28,
   "id": "b3e50eee",
   "metadata": {},
   "outputs": [],
   "source": [
    "lexical = []\n",
    "syntactic = []\n",
    "semantic = []"
   ]
  },
  {
   "cell_type": "code",
   "execution_count": 29,
   "id": "92f60905",
   "metadata": {},
   "outputs": [],
   "source": [
    "for i in paraphrases.settings.map(eval):\n",
    "    lexical.append(i['lexical'])\n",
    "    syntactic.append(i['syntactic'])\n",
    "    semantic.append(i['semantic'])"
   ]
  },
  {
   "cell_type": "code",
   "execution_count": 32,
   "id": "b01c95c9",
   "metadata": {},
   "outputs": [
    {
     "data": {
      "text/plain": [
       "<AxesSubplot:ylabel='Frequency'>"
      ]
     },
     "execution_count": 32,
     "metadata": {},
     "output_type": "execute_result"
    },
    {
     "data": {
      "image/png": "[encoded data removed]",
      "text/plain": [
       "<Figure size 432x288 with 1 Axes>"
      ]
     },
     "metadata": {
      "needs_background": "light"
     },
     "output_type": "display_data"
    }
   ],
   "source": [
    "pd.Series(lexical).plot.hist()"
   ]
  },
  {
   "cell_type": "code",
   "execution_count": 33,
   "id": "2f1ac707",
   "metadata": {},
   "outputs": [
    {
     "data": {
      "text/plain": [
       "<AxesSubplot:ylabel='Frequency'>"
      ]
     },
     "execution_count": 33,
     "metadata": {},
     "output_type": "execute_result"
    },
    {
     "data": {
      "image/png": "[encoded data removed]",
      "text/plain": [
       "<Figure size 432x288 with 1 Axes>"
      ]
     },
     "metadata": {
      "needs_background": "light"
     },
     "output_type": "display_data"
    }
   ],
   "source": [
    "pd.Series(syntactic).plot.hist()"
   ]
  },
  {
   "cell_type": "code",
   "execution_count": 34,
   "id": "7d1d24ef",
   "metadata": {},
   "outputs": [
    {
     "data": {
      "text/plain": [
       "<AxesSubplot:ylabel='Frequency'>"
      ]
     },
     "execution_count": 34,
     "metadata": {},
     "output_type": "execute_result"
    },
    {
     "data": {
      "image/png": "[encoded data removed]",
      "text/plain": [
       "<Figure size 432x288 with 1 Axes>"
      ]
     },
     "metadata": {
      "needs_background": "light"
     },
     "output_type": "display_data"
    }
   ],
   "source": [
    "pd.Series(semantic).plot.hist()"
   ]
  },
  {
   "cell_type": "code",
   "execution_count": null,
   "id": "26aa41df",
   "metadata": {},
   "outputs": [],
   "source": []
  }
 ],
 "metadata": {
  "kernelspec": {
   "display_name": "Python [conda env:para-nlu]",
   "language": "python",
   "name": "conda-env-para-nlu-py"
  },
  "language_info": {
   "codemirror_mode": {
    "name": "ipython",
    "version": 3
   },
   "file_extension": ".py",
   "mimetype": "text/x-python",
   "name": "python",
   "nbconvert_exporter": "python",
   "pygments_lexer": "ipython3",
   "version": "3.8.13"
  }
 },
 "nbformat": 4,
 "nbformat_minor": 5
}
