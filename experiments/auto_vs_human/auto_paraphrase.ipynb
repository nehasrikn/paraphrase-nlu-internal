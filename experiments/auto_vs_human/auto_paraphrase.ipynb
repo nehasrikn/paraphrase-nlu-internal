{
 "cells": [
  {
   "cell_type": "code",
   "execution_count": 1,
   "id": "fa7b43e9",
   "metadata": {},
   "outputs": [],
   "source": [
    "%load_ext autoreload\n",
    "%autoreload 2"
   ]
  },
  {
   "cell_type": "code",
   "execution_count": 2,
   "id": "dcade3c3",
   "metadata": {},
   "outputs": [],
   "source": [
    "import plotly.express as px\n",
    "import os\n",
    "import sys\n",
    "import pandas as pd\n",
    "from collections import defaultdict\n",
    "import numpy as np\n",
    "\n",
    "module_path = os.path.abspath(os.path.join('../..'))\n",
    "if module_path not in sys.path:\n",
    "    sys.path.append(module_path)"
   ]
  },
  {
   "cell_type": "code",
   "execution_count": 4,
   "id": "b0a93165",
   "metadata": {},
   "outputs": [],
   "source": [
    "from utils import PROJECT_ROOT_DIR, load_json, write_json\n",
    "from experiments.auto_vs_human.paranlu_auto import para_nlu_automatic"
   ]
  },
  {
   "cell_type": "code",
   "execution_count": 10,
   "id": "953d23ba",
   "metadata": {},
   "outputs": [
    {
     "name": "stdout",
     "output_type": "stream",
     "text": [
      "number of paraphrased examples: 7295\n"
     ]
    }
   ],
   "source": [
    "total = 0\n",
    "for d in para_nlu_automatic.values():\n",
    "    total += sum([len(x) for x in d.values()])\n",
    "print('number of paraphrased examples:', total)"
   ]
  },
  {
   "cell_type": "markdown",
   "id": "e163d348",
   "metadata": {},
   "source": [
    "#### RoBERTa Performance on Consistency"
   ]
  },
  {
   "cell_type": "code",
   "execution_count": 12,
   "id": "5c3ad503",
   "metadata": {},
   "outputs": [],
   "source": [
    "from experiments.human_consistency.consistency import (\n",
    "    dnli_test_set_predictions,\n",
    "    anli_test_set_predictions,\n",
    "    construct_bucket_metadata, \n",
    "    plot_orig_v_bucket_conf, \n",
    "    plot_consistency_cdf,\n",
    "    get_original_example_prediction_accuracy,\n",
    "    calculate_weighted_consistency\n",
    ")"
   ]
  },
  {
   "cell_type": "code",
   "execution_count": 19,
   "id": "0218491d",
   "metadata": {},
   "outputs": [
    {
     "name": "stdout",
     "output_type": "stream",
     "text": [
      "snli {'accuracy': 0.512, 'mean_consistency': 0.7616174603174605, 'weighted_consistency': 0.9255242704456776}\n",
      "atomic {'accuracy': 0.536, 'mean_consistency': 0.794531746031746, 'weighted_consistency': 0.8964729644238772}\n",
      "social {'accuracy': 0.5140562248995983, 'mean_consistency': 0.7090967042774271, 'weighted_consistency': 0.9119131562099381}\n"
     ]
    }
   ],
   "source": [
    "for k in ['snli', 'atomic', 'social']:\n",
    "    bucket_preds = load_json(f'experiments/auto_vs_human/results/{k}_automatic_d-{k}-roberta-large.json')\n",
    "    test_set_preds = load_json(f'modeling/roberta/defeasible/results/{k}/{k}_test_set_d-{k}-roberta-large.json')\n",
    "    \n",
    "    print(k, calculate_weighted_consistency(\n",
    "        paraphrase_predictions=bucket_preds, \n",
    "        test_set_predictions=test_set_preds,\n",
    "        show_test_distribution=False\n",
    "    ))"
   ]
  },
  {
   "cell_type": "code",
   "execution_count": 22,
   "id": "9cfe7bc7",
   "metadata": {},
   "outputs": [
    {
     "name": "stdout",
     "output_type": "stream",
     "text": [
      "anli {'accuracy': 0.536, 'mean_consistency': 0.7026016246910983, 'weighted_consistency': 0.8920429010368143}\n"
     ]
    }
   ],
   "source": [
    "bucket_preds = load_json(f'experiments/auto_vs_human/results/anli_automatic_roberta-large.json')\n",
    "test_set_preds = load_json(f'modeling/roberta/abductive/results/anli_test_set_anli_roberta-large.json')\n",
    "\n",
    "print('anli', calculate_weighted_consistency(\n",
    "    paraphrase_predictions=bucket_preds, \n",
    "    test_set_predictions=test_set_preds,\n",
    "    show_test_distribution=False\n",
    "))"
   ]
  },
  {
   "cell_type": "code",
   "execution_count": null,
   "id": "53fc3d35",
   "metadata": {},
   "outputs": [],
   "source": []
  }
 ],
 "metadata": {
  "kernelspec": {
   "display_name": "Python [conda env:para-nlu]",
   "language": "python",
   "name": "conda-env-para-nlu-py"
  },
  "language_info": {
   "codemirror_mode": {
    "name": "ipython",
    "version": 3
   },
   "file_extension": ".py",
   "mimetype": "text/x-python",
   "name": "python",
   "nbconvert_exporter": "python",
   "pygments_lexer": "ipython3",
   "version": "3.8.13"
  }
 },
 "nbformat": 4,
 "nbformat_minor": 5
}
