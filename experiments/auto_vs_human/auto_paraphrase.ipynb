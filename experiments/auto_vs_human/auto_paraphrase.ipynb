{
 "cells": [
  {
   "cell_type": "code",
   "execution_count": 1,
   "id": "b580e2a5",
   "metadata": {},
   "outputs": [],
   "source": [
    "%load_ext autoreload\n",
    "%autoreload 2"
   ]
  },
  {
   "cell_type": "code",
   "execution_count": 2,
   "id": "c0fff1ac",
   "metadata": {},
   "outputs": [],
   "source": [
    "import plotly.express as px\n",
    "import os\n",
    "import sys\n",
    "import pandas as pd\n",
    "from collections import defaultdict\n",
    "import numpy as np\n",
    "import scipy.stats as stats\n",
    "\n",
    "module_path = os.path.abspath(os.path.join('../..'))\n",
    "if module_path not in sys.path:\n",
    "    sys.path.append(module_path)"
   ]
  },
  {
   "cell_type": "code",
   "execution_count": 3,
   "id": "8cf73391",
   "metadata": {},
   "outputs": [],
   "source": [
    "from utils import PROJECT_ROOT_DIR, load_json, write_json\n",
    "from experiments.auto_vs_human.paranlu_auto import para_nlu_automatic"
   ]
  },
  {
   "cell_type": "code",
   "execution_count": null,
   "id": "3a751da2",
   "metadata": {},
   "outputs": [],
   "source": [
    "total = 0\n",
    "for d in para_nlu_automatic.values():\n",
    "    total += sum([len(x) for x in d.values()])\n",
    "print('number of paraphrased examples:', total)"
   ]
  },
  {
   "cell_type": "markdown",
   "id": "8f09ce81",
   "metadata": {},
   "source": [
    "#### RoBERTa Performance on Consistency"
   ]
  },
  {
   "cell_type": "code",
   "execution_count": null,
   "id": "d78a0e1f",
   "metadata": {},
   "outputs": [],
   "source": [
    "from experiments.human_consistency.consistency import (\n",
    "    dnli_test_set_predictions,\n",
    "    anli_test_set_predictions,\n",
    "    dnli_human_bucket_predictions,\n",
    "    anli_human_bucket_predictions,\n",
    "    construct_bucket_metadata, \n",
    "    plot_orig_v_bucket_conf, \n",
    "    plot_consistency_cdf,\n",
    "    get_original_example_prediction_accuracy,\n",
    "    calculate_weighted_consistency\n",
    ")"
   ]
  },
  {
   "cell_type": "code",
   "execution_count": null,
   "id": "82b9238b",
   "metadata": {},
   "outputs": [],
   "source": [
    "from experiments.auto_vs_human.auto_vs_human import calculate_abductive_consistency, calculate_defeasible_consistency"
   ]
  },
  {
   "cell_type": "code",
   "execution_count": null,
   "id": "aa86537d",
   "metadata": {},
   "outputs": [],
   "source": [
    "calculate_abductive_consistency()"
   ]
  },
  {
   "cell_type": "code",
   "execution_count": null,
   "id": "d4ce6b8f",
   "metadata": {},
   "outputs": [],
   "source": [
    "calculate_defeasible_consistency()"
   ]
  },
  {
   "cell_type": "code",
   "execution_count": 4,
   "id": "f0179783",
   "metadata": {},
   "outputs": [
    {
     "name": "stderr",
     "output_type": "stream",
     "text": [
      "[nltk_data] Downloading package benepar_en3 to\n",
      "[nltk_data]     /Users/nehasrikanth/nltk_data...\n",
      "[nltk_data]   Package benepar_en3 is already up-to-date!\n"
     ]
    }
   ],
   "source": [
    "from paraphrase_utils import get_lexical_diversity_score, get_syntactic_diversity_score"
   ]
  },
  {
   "cell_type": "code",
   "execution_count": 5,
   "id": "de6ade8f",
   "metadata": {},
   "outputs": [],
   "source": [
    "from abductive_data import ParaphrasedAbductiveNLIExample\n",
    "from defeasible_data import ParaphrasedDefeasibleNLIExample"
   ]
  },
  {
   "cell_type": "code",
   "execution_count": 17,
   "id": "c20bdf7e",
   "metadata": {},
   "outputs": [],
   "source": [
    "from experiments.auto_vs_human.auto_vs_human import construct_paraphrase_metadata"
   ]
  },
  {
   "cell_type": "code",
   "execution_count": null,
   "id": "9db9a31f",
   "metadata": {
    "scrolled": true
   },
   "outputs": [
    {
     "name": "stderr",
     "output_type": "stream",
     "text": [
      "  0%|                                                                                                           | 0/250 [00:00<?, ?it/s]/Users/nehasrikanth/miniconda3/envs/para-nlu/lib/python3.8/site-packages/torch/distributions/distribution.py:44: UserWarning: <class 'torch_struct.distributions.TreeCRF'> does not define `arg_constraints`. Please set `arg_constraints = {}` or initialize the distribution with `validate_args=False` to turn off validation.\n",
      "  warnings.warn(f'{self.__class__} does not define `arg_constraints`. ' +\n",
      "  2%|██▍                                                                                                | 6/250 [00:50<33:22,  8.21s/it]"
     ]
    }
   ],
   "source": [
    "dsnli_bucket_preds = construct_paraphrase_metadata(\n",
    "    load_json(\n",
    "        f'experiments/auto_vs_human/results/bucket_preds/automatic_paraphrases/snli_automatic_d-snli-roberta-large.json'\n",
    "    ),\n",
    "    nli_example_type=ParaphrasedDefeasibleNLIExample\n",
    ")"
   ]
  },
  {
   "cell_type": "code",
   "execution_count": 15,
   "id": "5aa9a46e",
   "metadata": {},
   "outputs": [
    {
     "data": {
      "text/plain": [
       "(-0.0406236648876461, 0.04933186243396305)"
      ]
     },
     "execution_count": 15,
     "metadata": {},
     "output_type": "execute_result"
    }
   ],
   "source": [
    "stats.pearsonr(\n",
    "    [p['pred_conf_shift'] for bucket in abductive_bucket_preds.values() for p in bucket['bucket_confidences']],\n",
    "    [p['syntactic_distance'] for bucket in abductive_bucket_preds.values() for p in bucket['bucket_confidences']]\n",
    ")"
   ]
  },
  {
   "cell_type": "code",
   "execution_count": 16,
   "id": "60934b8d",
   "metadata": {},
   "outputs": [],
   "source": [
    "write_json(abductive_bucket_preds, 'experiments/auto_vs_human/results/anli_bucket_preds.json')"
   ]
  },
  {
   "cell_type": "code",
   "execution_count": null,
   "id": "2a1ca2a0",
   "metadata": {},
   "outputs": [],
   "source": []
  }
 ],
 "metadata": {
  "kernelspec": {
   "display_name": "Python [conda env:para-nlu]",
   "language": "python",
   "name": "conda-env-para-nlu-py"
  },
  "language_info": {
   "codemirror_mode": {
    "name": "ipython",
    "version": 3
   },
   "file_extension": ".py",
   "mimetype": "text/x-python",
   "name": "python",
   "nbconvert_exporter": "python",
   "pygments_lexer": "ipython3",
   "version": "3.8.13"
  }
 },
 "nbformat": 4,
 "nbformat_minor": 5
}
