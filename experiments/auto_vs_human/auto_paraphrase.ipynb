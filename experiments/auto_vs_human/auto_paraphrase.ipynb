{
 "cells": [
  {
   "cell_type": "code",
   "execution_count": 1,
   "id": "66c48848",
   "metadata": {},
   "outputs": [],
   "source": [
    "%load_ext autoreload\n",
    "%autoreload 2"
   ]
  },
  {
   "cell_type": "code",
   "execution_count": 2,
   "id": "c861a308",
   "metadata": {},
   "outputs": [],
   "source": [
    "import plotly.express as px\n",
    "import os\n",
    "import sys\n",
    "import pandas as pd\n",
    "from collections import defaultdict\n",
    "import numpy as np\n",
    "import scipy.stats as stats\n",
    "\n",
    "module_path = os.path.abspath(os.path.join('../..'))\n",
    "if module_path not in sys.path:\n",
    "    sys.path.append(module_path)"
   ]
  },
  {
   "cell_type": "code",
   "execution_count": 3,
   "id": "6c3789c9",
   "metadata": {},
   "outputs": [],
   "source": [
    "from utils import PROJECT_ROOT_DIR, load_json, write_json\n",
    "from experiments.auto_vs_human.paranlu_auto import para_nlu_automatic"
   ]
  },
  {
   "cell_type": "code",
   "execution_count": 4,
   "id": "61522c3c",
   "metadata": {},
   "outputs": [
    {
     "name": "stdout",
     "output_type": "stream",
     "text": [
      "number of paraphrased examples: 7295\n"
     ]
    }
   ],
   "source": [
    "total = 0\n",
    "for d in para_nlu_automatic.values():\n",
    "    total += sum([len(x) for x in d.values()])\n",
    "print('number of paraphrased examples:', total)"
   ]
  },
  {
   "cell_type": "markdown",
   "id": "a5eeea35",
   "metadata": {},
   "source": [
    "#### RoBERTa Performance on Consistency"
   ]
  },
  {
   "cell_type": "code",
   "execution_count": null,
   "id": "7817a4b9",
   "metadata": {},
   "outputs": [],
   "source": [
    "from experiments.human_consistency.consistency import (\n",
    "    dnli_test_set_predictions,\n",
    "    anli_test_set_predictions,\n",
    "    dnli_human_bucket_predictions,\n",
    "    anli_human_bucket_predictions,\n",
    "    construct_bucket_metadata, \n",
    "    plot_orig_v_bucket_conf, \n",
    "    plot_consistency_cdf,\n",
    "    get_original_example_prediction_accuracy,\n",
    "    calculate_weighted_consistency\n",
    ")"
   ]
  },
  {
   "cell_type": "code",
   "execution_count": null,
   "id": "c69a377c",
   "metadata": {},
   "outputs": [],
   "source": [
    "from experiments.auto_vs_human.auto_vs_human import calculate_abductive_consistency, calculate_defeasible_consistency"
   ]
  },
  {
   "cell_type": "code",
   "execution_count": null,
   "id": "91b8d656",
   "metadata": {},
   "outputs": [],
   "source": [
    "calculate_abductive_consistency()"
   ]
  },
  {
   "cell_type": "code",
   "execution_count": null,
   "id": "d6c1ded5",
   "metadata": {},
   "outputs": [],
   "source": [
    "calculate_defeasible_consistency()"
   ]
  },
  {
   "cell_type": "code",
   "execution_count": null,
   "id": "f8710d03",
   "metadata": {},
   "outputs": [],
   "source": [
    "from paraphrase_utils import get_lexical_diversity_score, get_syntactic_diversity_score"
   ]
  },
  {
   "cell_type": "code",
   "execution_count": null,
   "id": "67fda85b",
   "metadata": {},
   "outputs": [],
   "source": [
    "from abductive_data import ParaphrasedAbductiveNLIExample\n",
    "from defeasible_data import ParaphrasedDefeasibleNLIExample"
   ]
  },
  {
   "cell_type": "code",
   "execution_count": 5,
   "id": "e08de573",
   "metadata": {},
   "outputs": [
    {
     "name": "stderr",
     "output_type": "stream",
     "text": [
      "[nltk_data] Downloading package benepar_en3 to\n",
      "[nltk_data]     /Users/nehasrikanth/nltk_data...\n",
      "[nltk_data]   Package benepar_en3 is already up-to-date!\n"
     ]
    }
   ],
   "source": [
    "from experiments.auto_vs_human.auto_vs_human import construct_paraphrase_metadata, paranlu_auto_v_human"
   ]
  },
  {
   "cell_type": "code",
   "execution_count": null,
   "id": "c855489e",
   "metadata": {},
   "outputs": [],
   "source": [
    "stats.pearsonr(\n",
    "    [p['pred_conf_shift'] for bucket in abductive_bucket_preds.values() for p in bucket['bucket_confidences']],\n",
    "    [p['syntactic_distance'] for bucket in abductive_bucket_preds.values() for p in bucket['bucket_confidences']]\n",
    ")"
   ]
  },
  {
   "cell_type": "code",
   "execution_count": null,
   "id": "163342a9",
   "metadata": {},
   "outputs": [],
   "source": []
  }
 ],
 "metadata": {
  "kernelspec": {
   "display_name": "Python [conda env:para-nlu]",
   "language": "python",
   "name": "conda-env-para-nlu-py"
  },
  "language_info": {
   "codemirror_mode": {
    "name": "ipython",
    "version": 3
   },
   "file_extension": ".py",
   "mimetype": "text/x-python",
   "name": "python",
   "nbconvert_exporter": "python",
   "pygments_lexer": "ipython3",
   "version": "3.8.13"
  }
 },
 "nbformat": 4,
 "nbformat_minor": 5
}
