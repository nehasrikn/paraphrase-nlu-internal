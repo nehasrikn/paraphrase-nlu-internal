{
 "cells": [
  {
   "cell_type": "code",
   "execution_count": 1,
   "id": "32da0bc0-ea56-431e-aa97-b3344fbc9e13",
   "metadata": {},
   "outputs": [],
   "source": [
    "import os\n",
    "import sys\n",
    "\n",
    "module_path = os.path.abspath(os.path.join('../../..'))\n",
    "if module_path not in sys.path:\n",
    "    sys.path.append(module_path)\n"
   ]
  },
  {
   "cell_type": "code",
   "execution_count": 2,
   "id": "3fd06304-4f0c-4186-a012-b37691ca0010",
   "metadata": {},
   "outputs": [],
   "source": [
    "from utils import PROJECT_ROOT_DIR, load_json"
   ]
  },
  {
   "cell_type": "code",
   "execution_count": 3,
   "id": "e5490091-e6ca-4292-ade7-a7eceb740608",
   "metadata": {},
   "outputs": [],
   "source": [
    "from collections import Counter"
   ]
  },
  {
   "cell_type": "code",
   "execution_count": 75,
   "id": "6e848f83-1129-476c-b5f8-acb79a8feaf4",
   "metadata": {},
   "outputs": [
    {
     "name": "stdout",
     "output_type": "stream",
     "text": [
      "atomic-auto\n",
      "0.749390243902439\n",
      "\n",
      "atomic-human\n",
      "0.7169609416800428\n",
      "\n",
      "snli-auto\n",
      "0.7513846153846154\n",
      "\n",
      "snli-human\n",
      "0.7232323232323232\n",
      "\n",
      "social-auto\n",
      "0.7802132701421801\n",
      "\n",
      "social-human\n",
      "0.7569482288828338\n",
      "\n"
     ]
    }
   ],
   "source": [
    "import os\n",
    "import json\n",
    "\n",
    "from collections import defaultdict\n",
    "\n",
    "directory_path = os.path.join(PROJECT_ROOT_DIR, 'experiments/auto_vs_human/bidirectional_entailment/results/')\n",
    "datasets = defaultdict(list)\n",
    "\n",
    "for filename in sorted(os.listdir(directory_path)):\n",
    "\n",
    "    split = filename.split('.')[0].split('-entailment')[0]\n",
    "    \n",
    "    print(split)\n",
    "    if not filename.endswith('.json'):\n",
    "        continue\n",
    "    \n",
    "    counter = Counter([tuple(v) for _, v in load_json(os.path.join(directory_path, filename)).items()])\n",
    "    datasets[split.split('-')[0]].append(dict(counter))\n",
    "    total_count = sum(counter.values())\n",
    "    normalized_counts = {key: count / total_count for key, count in counter.items()}\n",
    "    distribution = dict(sorted(normalized_counts.items(), key=lambda item: item[1], reverse=True))\n",
    "\n",
    "    # for i, j in distribution.items():\n",
    "    #     print(f'\\t{i}: {j}')\n",
    "    print(distribution[('E', 'E')])\n",
    "    print()"
   ]
  }
 ],
 "metadata": {
  "kernelspec": {
   "display_name": "para-nlu",
   "language": "python",
   "name": "para-nlu"
  },
  "language_info": {
   "codemirror_mode": {
    "name": "ipython",
    "version": 3
   },
   "file_extension": ".py",
   "mimetype": "text/x-python",
   "name": "python",
   "nbconvert_exporter": "python",
   "pygments_lexer": "ipython3",
   "version": "3.8.13"
  }
 },
 "nbformat": 4,
 "nbformat_minor": 5
}
