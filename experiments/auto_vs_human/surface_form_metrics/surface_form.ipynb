{
 "cells": [
  {
   "cell_type": "code",
   "execution_count": 1,
   "id": "6ff6ec1d-07c6-439e-885a-7bf7206a1664",
   "metadata": {},
   "outputs": [
    {
     "name": "stderr",
     "output_type": "stream",
     "text": [
      "100%|██████████████████████████████████████████████████████████████████████████████████████████████████████████| 250/250 [00:00<00:00, 24825.42it/s]\n",
      "100%|██████████████████████████████████████████████████████████████████████████████████████████████████████████| 250/250 [00:00<00:00, 25662.65it/s]\n",
      "100%|██████████████████████████████████████████████████████████████████████████████████████████████████████████| 250/250 [00:00<00:00, 22542.75it/s]\n",
      "100%|██████████████████████████████████████████████████████████████████████████████████████████████████████████| 250/250 [00:00<00:00, 25143.30it/s]\n",
      "100%|██████████████████████████████████████████████████████████████████████████████████████████████████████████| 250/250 [00:00<00:00, 26859.02it/s]\n",
      "100%|██████████████████████████████████████████████████████████████████████████████████████████████████████████| 250/250 [00:00<00:00, 26878.29it/s]\n",
      "100%|██████████████████████████████████████████████████████████████████████████████████████████████████████████| 250/250 [00:00<00:00, 23022.35it/s]\n",
      "100%|██████████████████████████████████████████████████████████████████████████████████████████████████████████| 250/250 [00:00<00:00, 30323.19it/s]\n",
      "100%|██████████████████████████████████████████████████████████████████████████████████████████████████████████| 250/250 [00:00<00:00, 27340.13it/s]\n",
      "100%|██████████████████████████████████████████████████████████████████████████████████████████████████████████| 250/250 [00:00<00:00, 32475.72it/s]\n",
      "100%|██████████████████████████████████████████████████████████████████████████████████████████████████████████| 250/250 [00:00<00:00, 25777.47it/s]\n",
      "100%|██████████████████████████████████████████████████████████████████████████████████████████████████████████| 250/250 [00:00<00:00, 28573.11it/s]\n",
      "100%|██████████████████████████████████████████████████████████████████████████████████████████████████████████| 250/250 [00:00<00:00, 29615.77it/s]\n",
      "100%|██████████████████████████████████████████████████████████████████████████████████████████████████████████| 250/250 [00:00<00:00, 31465.15it/s]\n",
      "100%|██████████████████████████████████████████████████████████████████████████████████████████████████████████| 250/250 [00:00<00:00, 24774.97it/s]\n",
      "100%|██████████████████████████████████████████████████████████████████████████████████████████████████████████| 250/250 [00:00<00:00, 29668.56it/s]\n",
      "100%|██████████████████████████████████████████████████████████████████████████████████████████████████████████| 250/250 [00:00<00:00, 26470.50it/s]\n",
      "100%|████████████████████████████████████████████████████████████████████████████████████████████████████████████| 250/250 [00:00<00:00, 502.28it/s]\n",
      "100%|██████████████████████████████████████████████████████████████████████████████████████████████████████████| 250/250 [00:00<00:00, 27451.79it/s]\n",
      "100%|██████████████████████████████████████████████████████████████████████████████████████████████████████████| 250/250 [00:00<00:00, 29649.27it/s]\n",
      "100%|██████████████████████████████████████████████████████████████████████████████████████████████████████████| 250/250 [00:00<00:00, 36057.08it/s]\n",
      "100%|██████████████████████████████████████████████████████████████████████████████████████████████████████████| 249/249 [00:00<00:00, 32742.32it/s]\n",
      "100%|██████████████████████████████████████████████████████████████████████████████████████████████████████████| 250/250 [00:00<00:00, 22827.39it/s]\n",
      "100%|██████████████████████████████████████████████████████████████████████████████████████████████████████████| 250/250 [00:00<00:00, 32964.76it/s]\n"
     ]
    }
   ],
   "source": [
    "import os\n",
    "import sys\n",
    "\n",
    "%load_ext autoreload\n",
    "%autoreload 2\n",
    "\n",
    "module_path = os.path.abspath(os.path.join('../../..'))\n",
    "if module_path not in sys.path:\n",
    "    sys.path.append(module_path)\n",
    "\n",
    "from experiments.auto_vs_human.paranlu_auto import roberta_specialized_automatic, roberta_specialized"
   ]
  },
  {
   "cell_type": "code",
   "execution_count": null,
   "id": "e99924ef-3b99-49ae-a5bb-5bcab7480133",
   "metadata": {},
   "outputs": [],
   "source": [
    "from experiments.auto_vs_human.surface_form_metrics.lex_syn_sem import read_result_jsons\n",
    "from utils import write_json, PROJECT_ROOT_DIR, load_json"
   ]
  },
  {
   "cell_type": "code",
   "execution_count": null,
   "id": "0b038c18-553b-4a77-83a2-45b640e88b37",
   "metadata": {},
   "outputs": [],
   "source": [
    "import os\n",
    "import json\n",
    "import numpy as np\n",
    "import seaborn as sns\n",
    "import matplotlib.pyplot as plt\n",
    "from collections import defaultdict\n",
    "import scipy"
   ]
  },
  {
   "cell_type": "markdown",
   "id": "e20f9b94-6739-408b-88f3-3fbc439f91c4",
   "metadata": {},
   "source": [
    "### Lexical Diversity: Auto vs. Human Paraphrases"
   ]
  },
  {
   "cell_type": "code",
   "execution_count": null,
   "id": "23b3de29-c6af-46ee-be29-f6aa7bc653e7",
   "metadata": {},
   "outputs": [],
   "source": [
    "lex_results = read_result_jsons('experiments/auto_vs_human/surface_form_metrics/results/', 'lex')\n",
    "print()\n",
    "for dataset, (auto, human) in lex_results.items():\n",
    "    print(f'#### {dataset} ####')\n",
    "    \n",
    "    print(f'Summary:\\n\\tMean: auto={np.mean(auto)}, human={np.mean(human)}\\n\\tMedian: auto={np.median(auto)}, human={np.median(human)}\\n\\tMin: auto={np.min(auto)}, human={np.min(human)}\\n\\tMax: auto={np.max(auto)}, human={np.max(human)}')\n",
    "\n",
    "    print('T-Test:', scipy.stats.ttest_ind(auto, human))\n",
    "    print()\n",
    "    plt.figure()\n",
    "    sns.histplot(data=auto, stat='proportion', label='automatic')\n",
    "    sns.histplot(data=human, stat='proportion', label='human')\n",
    "    plt.title(f'Lexical Diversity: {dataset}')  # Add a title to distinguish plots\n",
    "    plt.legend()\n",
    "    plt.show()"
   ]
  },
  {
   "cell_type": "markdown",
   "id": "79b35bb1-cf64-40cf-8241-19674690a2db",
   "metadata": {},
   "source": [
    "### Syntactic Diversity: Auto vs. Human Paraphrases"
   ]
  },
  {
   "cell_type": "code",
   "execution_count": null,
   "id": "e30033b6-e948-415c-9991-3576d7648b50",
   "metadata": {},
   "outputs": [],
   "source": [
    "syn_results = read_result_jsons('experiments/auto_vs_human/surface_form_metrics/results/', 'syn')\n",
    "for dataset, (auto, human) in syn_results.items():\n",
    "    print(f'#### {dataset} ####')\n",
    "\n",
    "    print(f'Summary:\\n\\tMean: auto={np.mean(auto)}, human={np.mean(human)}\\n\\tMedian: auto={np.median(auto)}, human={np.median(human)}\\n\\tMin: auto={np.min(auto)}, human={np.min(human)}\\n\\tMax: auto={np.max(auto)}, human={np.max(human)}')\n",
    "    print('T-Test:', scipy.stats.ttest_ind(auto, human))\n",
    "    print()\n",
    "    plt.figure()\n",
    "    sns.histplot(data=auto, stat='proportion', label='automatic')\n",
    "    sns.histplot(data=human, stat='proportion', label='human')\n",
    "    plt.title(f'Syntactic Diversity: {dataset}')  # Add a title to distinguish plots\n",
    "    plt.legend()\n",
    "    plt.show()"
   ]
  },
  {
   "cell_type": "code",
   "execution_count": null,
   "id": "e0dda59f-c170-4ca7-afe8-ec17b47e2129",
   "metadata": {},
   "outputs": [],
   "source": []
  },
  {
   "cell_type": "code",
   "execution_count": null,
   "id": "6cdaf20a-c056-44da-ac62-dc2d5f51f306",
   "metadata": {},
   "outputs": [],
   "source": []
  },
  {
   "cell_type": "code",
   "execution_count": null,
   "id": "62549319-8a5f-4118-858f-19c1f789bd49",
   "metadata": {},
   "outputs": [],
   "source": []
  },
  {
   "cell_type": "code",
   "execution_count": null,
   "id": "41c62331-f32f-4d59-93f4-adfb40f22ab2",
   "metadata": {},
   "outputs": [],
   "source": []
  },
  {
   "cell_type": "code",
   "execution_count": null,
   "id": "f23858ed-078a-45c3-a95e-346b064437d0",
   "metadata": {},
   "outputs": [],
   "source": [
    "stats.pearsonr(\n",
    "    [p['pred_conf_shift'] for bucket in abductive_bucket_preds.values() for p in bucket['bucket_confidences']],\n",
    "    [p['syntactic_distance'] for bucket in abductive_bucket_preds.values() for p in bucket['bucket_confidences']]\n",
    ")"
   ]
  }
 ],
 "metadata": {
  "kernelspec": {
   "display_name": "para-nlu",
   "language": "python",
   "name": "para-nlu"
  },
  "language_info": {
   "codemirror_mode": {
    "name": "ipython",
    "version": 3
   },
   "file_extension": ".py",
   "mimetype": "text/x-python",
   "name": "python",
   "nbconvert_exporter": "python",
   "pygments_lexer": "ipython3",
   "version": "3.8.13"
  }
 },
 "nbformat": 4,
 "nbformat_minor": 5
}
