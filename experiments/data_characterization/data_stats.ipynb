{
 "cells": [
  {
   "cell_type": "code",
   "execution_count": 1,
   "id": "827f8b84",
   "metadata": {},
   "outputs": [],
   "source": [
    "import plotly.express as px\n",
    "import os\n",
    "import sys\n",
    "import numpy as np"
   ]
  },
  {
   "cell_type": "code",
   "execution_count": 2,
   "id": "c65b44f7",
   "metadata": {},
   "outputs": [],
   "source": [
    "%load_ext autoreload\n",
    "%autoreload 2"
   ]
  },
  {
   "cell_type": "code",
   "execution_count": 3,
   "id": "dcf85efc",
   "metadata": {},
   "outputs": [],
   "source": [
    "module_path = os.path.abspath(os.path.join('../..'))\n",
    "if module_path not in sys.path:\n",
    "    sys.path.append(module_path)"
   ]
  },
  {
   "cell_type": "code",
   "execution_count": 4,
   "id": "a228e1ed",
   "metadata": {},
   "outputs": [],
   "source": [
    "from annotated_data.annotated_data import para_nlu, para_nlu_pretty_names"
   ]
  },
  {
   "cell_type": "markdown",
   "id": "f3658da5",
   "metadata": {},
   "source": [
    "## Total Number of Paraphrases"
   ]
  },
  {
   "cell_type": "code",
   "execution_count": 29,
   "id": "4a04323b",
   "metadata": {
    "scrolled": false
   },
   "outputs": [
    {
     "name": "stdout",
     "output_type": "stream",
     "text": [
      "anli 2098\n",
      "mean bucket size: 8.392 std: 1.165476726494356\n",
      "social 1835\n",
      "mean bucket size: 7.34 std: 1.786728854639114\n",
      "snli 1980\n",
      "mean bucket size: 7.92 std: 1.4316424134538623\n",
      "atomic 1869\n",
      "mean bucket size: 7.476 std: 1.6054357663886774\n"
     ]
    },
    {
     "data": {
      "application/vnd.plotly.v1+json": {
       "config": {
        "plotlyServerURL": "https://plot.ly"
       },
       "data": [
        {
         "histnorm": "probability",
         "name": "α-NLI",
         "nbinsx": 9,
         "type": "histogram",
         "x": [
          9,
          9,
          7,
          9,
          9,
          9,
          8,
          9,
          9,
          9,
          9,
          9,
          9,
          9,
          9,
          9,
          9,
          9,
          9,
          9,
          9,
          9,
          8,
          9,
          9,
          9,
          9,
          9,
          9,
          6,
          9,
          9,
          9,
          9,
          9,
          6,
          8,
          9,
          4,
          9,
          6,
          9,
          9,
          9,
          4,
          9,
          9,
          9,
          6,
          9,
          9,
          7,
          9,
          9,
          6,
          4,
          9,
          9,
          6,
          9,
          9,
          9,
          9,
          9,
          9,
          8,
          6,
          9,
          9,
          9,
          9,
          9,
          8,
          9,
          9,
          9,
          9,
          9,
          9,
          9,
          9,
          9,
          8,
          9,
          9,
          6,
          6,
          8,
          9,
          6,
          9,
          7,
          9,
          9,
          6,
          9,
          8,
          5,
          8,
          8,
          6,
          6,
          9,
          9,
          9,
          8,
          9,
          7,
          9,
          9,
          7,
          9,
          9,
          9,
          9,
          5,
          9,
          8,
          9,
          7,
          8,
          9,
          9,
          9,
          9,
          9,
          9,
          9,
          9,
          9,
          9,
          9,
          9,
          8,
          6,
          9,
          9,
          8,
          9,
          9,
          9,
          9,
          9,
          5,
          9,
          6,
          8,
          8,
          9,
          8,
          9,
          9,
          7,
          8,
          9,
          7,
          9,
          6,
          8,
          6,
          8,
          9,
          9,
          9,
          9,
          9,
          9,
          9,
          9,
          9,
          8,
          9,
          8,
          9,
          9,
          9,
          8,
          9,
          8,
          9,
          9,
          9,
          6,
          9,
          9,
          9,
          9,
          9,
          9,
          9,
          4,
          9,
          9,
          9,
          9,
          9,
          9,
          6,
          6,
          9,
          9,
          9,
          9,
          9,
          9,
          9,
          9,
          9,
          9,
          9,
          9,
          7,
          9,
          8,
          9,
          9,
          8,
          9,
          9,
          9,
          9,
          9,
          9,
          6,
          6,
          9,
          9,
          9,
          9,
          9,
          9,
          9,
          9,
          9,
          8,
          8,
          9,
          9,
          9,
          9,
          8,
          9,
          9,
          9,
          9,
          5,
          9,
          9,
          9,
          7
         ]
        },
        {
         "histnorm": "probability",
         "name": "δ-SOCIAL",
         "nbinsx": 9,
         "type": "histogram",
         "x": [
          8,
          9,
          6,
          9,
          9,
          6,
          3,
          9,
          6,
          6,
          4,
          6,
          9,
          9,
          8,
          4,
          9,
          6,
          7,
          9,
          9,
          9,
          6,
          9,
          3,
          8,
          2,
          8,
          3,
          8,
          8,
          9,
          3,
          9,
          3,
          6,
          8,
          9,
          6,
          9,
          9,
          8,
          9,
          4,
          6,
          9,
          2,
          9,
          9,
          6,
          6,
          6,
          4,
          9,
          9,
          9,
          9,
          9,
          8,
          9,
          6,
          9,
          9,
          9,
          6,
          9,
          9,
          9,
          7,
          9,
          9,
          9,
          6,
          6,
          9,
          6,
          6,
          5,
          8,
          6,
          7,
          7,
          6,
          9,
          6,
          9,
          9,
          8,
          4,
          7,
          6,
          6,
          9,
          6,
          6,
          5,
          8,
          6,
          7,
          5,
          6,
          9,
          8,
          5,
          9,
          6,
          6,
          6,
          9,
          6,
          8,
          6,
          9,
          9,
          6,
          7,
          8,
          6,
          8,
          5,
          9,
          6,
          6,
          9,
          8,
          6,
          3,
          6,
          6,
          3,
          4,
          5,
          6,
          8,
          9,
          5,
          6,
          7,
          8,
          9,
          9,
          8,
          8,
          5,
          8,
          7,
          5,
          3,
          4,
          7,
          6,
          9,
          9,
          9,
          8,
          8,
          9,
          9,
          7,
          9,
          8,
          9,
          9,
          9,
          6,
          9,
          5,
          6,
          5,
          9,
          9,
          9,
          8,
          9,
          9,
          6,
          5,
          7,
          6,
          6,
          6,
          9,
          9,
          9,
          6,
          9,
          9,
          8,
          6,
          9,
          9,
          9,
          6,
          9,
          9,
          9,
          9,
          9,
          9,
          6,
          7,
          8,
          5,
          6,
          6,
          8,
          6,
          9,
          9,
          9,
          8,
          9,
          6,
          9,
          7,
          9,
          9,
          9,
          8,
          9,
          5,
          6,
          9,
          6,
          9,
          9,
          9,
          6,
          5,
          9,
          9,
          6,
          9,
          9,
          5,
          7,
          9,
          8,
          9,
          9,
          9,
          9,
          9,
          9,
          9,
          6,
          9,
          5,
          7,
          9
         ]
        },
        {
         "histnorm": "probability",
         "name": "δ-SOCIAL",
         "nbinsx": 9,
         "type": "histogram",
         "x": [
          4,
          8,
          6,
          6,
          6,
          7,
          9,
          3,
          6,
          7,
          9,
          6,
          8,
          9,
          4,
          9,
          7,
          9,
          9,
          9,
          9,
          7,
          7,
          5,
          7,
          9,
          9,
          7,
          9,
          6,
          8,
          9,
          8,
          7,
          9,
          8,
          6,
          6,
          9,
          6,
          8,
          8,
          6,
          8,
          9,
          6,
          9,
          3,
          6,
          9,
          8,
          8,
          7,
          6,
          9,
          9,
          7,
          9,
          6,
          8,
          7,
          6,
          7,
          3,
          8,
          7,
          6,
          5,
          8,
          7,
          4,
          9,
          9,
          7,
          9,
          5,
          7,
          9,
          9,
          9,
          9,
          9,
          9,
          9,
          8,
          9,
          9,
          9,
          8,
          9,
          9,
          6,
          9,
          6,
          7,
          9,
          9,
          7,
          9,
          9,
          6,
          9,
          6,
          7,
          9,
          9,
          9,
          9,
          9,
          9,
          9,
          9,
          7,
          9,
          8,
          7,
          9,
          7,
          9,
          9,
          9,
          9,
          9,
          9,
          9,
          9,
          9,
          9,
          9,
          8,
          9,
          9,
          9,
          9,
          5,
          9,
          9,
          7,
          9,
          9,
          9,
          9,
          9,
          9,
          9,
          9,
          8,
          9,
          8,
          9,
          9,
          9,
          9,
          9,
          7,
          9,
          9,
          8,
          8,
          9,
          9,
          9,
          9,
          5,
          9,
          9,
          8,
          9,
          9,
          9,
          6,
          9,
          8,
          7,
          9,
          8,
          8,
          7,
          6,
          9,
          8,
          8,
          9,
          9,
          6,
          7,
          7,
          8,
          7,
          9,
          6,
          7,
          8,
          8,
          9,
          9,
          9,
          8,
          7,
          9,
          7,
          8,
          9,
          9,
          9,
          9,
          7,
          9,
          6,
          9,
          6,
          9,
          8,
          9,
          8,
          9,
          9,
          9,
          8,
          8,
          9,
          8,
          8,
          9,
          9,
          6,
          9,
          6,
          8,
          9,
          9,
          6,
          9,
          9,
          9,
          9,
          6,
          1,
          6,
          7,
          9,
          9,
          9,
          7,
          6,
          9,
          6,
          8,
          9,
          9
         ]
        },
        {
         "histnorm": "probability",
         "name": "δ-ATOMIC",
         "nbinsx": 9,
         "type": "histogram",
         "x": [
          8,
          6,
          6,
          4,
          6,
          6,
          9,
          9,
          6,
          6,
          6,
          7,
          9,
          9,
          9,
          9,
          7,
          5,
          9,
          9,
          9,
          9,
          9,
          2,
          9,
          6,
          9,
          7,
          3,
          9,
          6,
          9,
          3,
          6,
          8,
          7,
          7,
          9,
          9,
          9,
          9,
          9,
          8,
          6,
          9,
          9,
          9,
          9,
          8,
          9,
          8,
          6,
          6,
          6,
          8,
          8,
          9,
          9,
          9,
          6,
          6,
          6,
          9,
          7,
          6,
          8,
          9,
          6,
          6,
          9,
          8,
          9,
          9,
          7,
          8,
          8,
          9,
          7,
          9,
          8,
          6,
          8,
          6,
          7,
          9,
          6,
          9,
          9,
          6,
          8,
          9,
          9,
          8,
          6,
          9,
          9,
          8,
          9,
          6,
          5,
          6,
          9,
          7,
          9,
          6,
          7,
          5,
          6,
          5,
          8,
          6,
          9,
          9,
          5,
          9,
          9,
          6,
          7,
          7,
          9,
          9,
          4,
          9,
          6,
          9,
          9,
          7,
          7,
          9,
          9,
          9,
          7,
          9,
          8,
          4,
          9,
          9,
          9,
          3,
          4,
          9,
          9,
          8,
          7,
          9,
          9,
          8,
          8,
          9,
          5,
          8,
          7,
          9,
          9,
          7,
          6,
          7,
          7,
          5,
          9,
          9,
          6,
          8,
          9,
          9,
          8,
          8,
          6,
          9,
          6,
          9,
          8,
          9,
          9,
          7,
          7,
          6,
          7,
          8,
          9,
          8,
          8,
          9,
          8,
          6,
          8,
          6,
          8,
          7,
          5,
          8,
          9,
          6,
          3,
          5,
          9,
          6,
          9,
          6,
          9,
          8,
          7,
          8,
          9,
          5,
          5,
          5,
          9,
          9,
          9,
          9,
          6,
          6,
          5,
          3,
          8,
          5,
          6,
          5,
          8,
          8,
          7,
          9,
          9,
          6,
          6,
          8,
          4,
          8,
          8,
          6,
          6,
          9,
          9,
          9,
          8,
          8,
          9,
          9,
          9,
          8,
          9,
          8,
          6,
          9,
          8,
          5,
          8,
          8,
          6
         ]
        }
       ],
       "layout": {
        "autosize": false,
        "height": 500,
        "legend": {
         "title": {
          "text": "Data Source"
         },
         "x": 0.05,
         "xanchor": "left",
         "y": 0.95,
         "yanchor": "top"
        },
        "margin": {
         "b": 100,
         "l": 50,
         "pad": 0,
         "r": 50,
         "t": 100
        },
        "template": {
         "data": {
          "bar": [
           {
            "error_x": {
             "color": "#2a3f5f"
            },
            "error_y": {
             "color": "#2a3f5f"
            },
            "marker": {
             "line": {
              "color": "#E5ECF6",
              "width": 0.5
             },
             "pattern": {
              "fillmode": "overlay",
              "size": 10,
              "solidity": 0.2
             }
            },
            "type": "bar"
           }
          ],
          "barpolar": [
           {
            "marker": {
             "line": {
              "color": "#E5ECF6",
              "width": 0.5
             },
             "pattern": {
              "fillmode": "overlay",
              "size": 10,
              "solidity": 0.2
             }
            },
            "type": "barpolar"
           }
          ],
          "carpet": [
           {
            "aaxis": {
             "endlinecolor": "#2a3f5f",
             "gridcolor": "white",
             "linecolor": "white",
             "minorgridcolor": "white",
             "startlinecolor": "#2a3f5f"
            },
            "baxis": {
             "endlinecolor": "#2a3f5f",
             "gridcolor": "white",
             "linecolor": "white",
             "minorgridcolor": "white",
             "startlinecolor": "#2a3f5f"
            },
            "type": "carpet"
           }
          ],
          "choropleth": [
           {
            "colorbar": {
             "outlinewidth": 0,
             "ticks": ""
            },
            "type": "choropleth"
           }
          ],
          "contour": [
           {
            "colorbar": {
             "outlinewidth": 0,
             "ticks": ""
            },
            "colorscale": [
             [
              0,
              "#0d0887"
             ],
             [
              0.1111111111111111,
              "#46039f"
             ],
             [
              0.2222222222222222,
              "#7201a8"
             ],
             [
              0.3333333333333333,
              "#9c179e"
             ],
             [
              0.4444444444444444,
              "#bd3786"
             ],
             [
              0.5555555555555556,
              "#d8576b"
             ],
             [
              0.6666666666666666,
              "#ed7953"
             ],
             [
              0.7777777777777778,
              "#fb9f3a"
             ],
             [
              0.8888888888888888,
              "#fdca26"
             ],
             [
              1,
              "#f0f921"
             ]
            ],
            "type": "contour"
           }
          ],
          "contourcarpet": [
           {
            "colorbar": {
             "outlinewidth": 0,
             "ticks": ""
            },
            "type": "contourcarpet"
           }
          ],
          "heatmap": [
           {
            "colorbar": {
             "outlinewidth": 0,
             "ticks": ""
            },
            "colorscale": [
             [
              0,
              "#0d0887"
             ],
             [
              0.1111111111111111,
              "#46039f"
             ],
             [
              0.2222222222222222,
              "#7201a8"
             ],
             [
              0.3333333333333333,
              "#9c179e"
             ],
             [
              0.4444444444444444,
              "#bd3786"
             ],
             [
              0.5555555555555556,
              "#d8576b"
             ],
             [
              0.6666666666666666,
              "#ed7953"
             ],
             [
              0.7777777777777778,
              "#fb9f3a"
             ],
             [
              0.8888888888888888,
              "#fdca26"
             ],
             [
              1,
              "#f0f921"
             ]
            ],
            "type": "heatmap"
           }
          ],
          "heatmapgl": [
           {
            "colorbar": {
             "outlinewidth": 0,
             "ticks": ""
            },
            "colorscale": [
             [
              0,
              "#0d0887"
             ],
             [
              0.1111111111111111,
              "#46039f"
             ],
             [
              0.2222222222222222,
              "#7201a8"
             ],
             [
              0.3333333333333333,
              "#9c179e"
             ],
             [
              0.4444444444444444,
              "#bd3786"
             ],
             [
              0.5555555555555556,
              "#d8576b"
             ],
             [
              0.6666666666666666,
              "#ed7953"
             ],
             [
              0.7777777777777778,
              "#fb9f3a"
             ],
             [
              0.8888888888888888,
              "#fdca26"
             ],
             [
              1,
              "#f0f921"
             ]
            ],
            "type": "heatmapgl"
           }
          ],
          "histogram": [
           {
            "marker": {
             "pattern": {
              "fillmode": "overlay",
              "size": 10,
              "solidity": 0.2
             }
            },
            "type": "histogram"
           }
          ],
          "histogram2d": [
           {
            "colorbar": {
             "outlinewidth": 0,
             "ticks": ""
            },
            "colorscale": [
             [
              0,
              "#0d0887"
             ],
             [
              0.1111111111111111,
              "#46039f"
             ],
             [
              0.2222222222222222,
              "#7201a8"
             ],
             [
              0.3333333333333333,
              "#9c179e"
             ],
             [
              0.4444444444444444,
              "#bd3786"
             ],
             [
              0.5555555555555556,
              "#d8576b"
             ],
             [
              0.6666666666666666,
              "#ed7953"
             ],
             [
              0.7777777777777778,
              "#fb9f3a"
             ],
             [
              0.8888888888888888,
              "#fdca26"
             ],
             [
              1,
              "#f0f921"
             ]
            ],
            "type": "histogram2d"
           }
          ],
          "histogram2dcontour": [
           {
            "colorbar": {
             "outlinewidth": 0,
             "ticks": ""
            },
            "colorscale": [
             [
              0,
              "#0d0887"
             ],
             [
              0.1111111111111111,
              "#46039f"
             ],
             [
              0.2222222222222222,
              "#7201a8"
             ],
             [
              0.3333333333333333,
              "#9c179e"
             ],
             [
              0.4444444444444444,
              "#bd3786"
             ],
             [
              0.5555555555555556,
              "#d8576b"
             ],
             [
              0.6666666666666666,
              "#ed7953"
             ],
             [
              0.7777777777777778,
              "#fb9f3a"
             ],
             [
              0.8888888888888888,
              "#fdca26"
             ],
             [
              1,
              "#f0f921"
             ]
            ],
            "type": "histogram2dcontour"
           }
          ],
          "mesh3d": [
           {
            "colorbar": {
             "outlinewidth": 0,
             "ticks": ""
            },
            "type": "mesh3d"
           }
          ],
          "parcoords": [
           {
            "line": {
             "colorbar": {
              "outlinewidth": 0,
              "ticks": ""
             }
            },
            "type": "parcoords"
           }
          ],
          "pie": [
           {
            "automargin": true,
            "type": "pie"
           }
          ],
          "scatter": [
           {
            "fillpattern": {
             "fillmode": "overlay",
             "size": 10,
             "solidity": 0.2
            },
            "type": "scatter"
           }
          ],
          "scatter3d": [
           {
            "line": {
             "colorbar": {
              "outlinewidth": 0,
              "ticks": ""
             }
            },
            "marker": {
             "colorbar": {
              "outlinewidth": 0,
              "ticks": ""
             }
            },
            "type": "scatter3d"
           }
          ],
          "scattercarpet": [
           {
            "marker": {
             "colorbar": {
              "outlinewidth": 0,
              "ticks": ""
             }
            },
            "type": "scattercarpet"
           }
          ],
          "scattergeo": [
           {
            "marker": {
             "colorbar": {
              "outlinewidth": 0,
              "ticks": ""
             }
            },
            "type": "scattergeo"
           }
          ],
          "scattergl": [
           {
            "marker": {
             "colorbar": {
              "outlinewidth": 0,
              "ticks": ""
             }
            },
            "type": "scattergl"
           }
          ],
          "scattermapbox": [
           {
            "marker": {
             "colorbar": {
              "outlinewidth": 0,
              "ticks": ""
             }
            },
            "type": "scattermapbox"
           }
          ],
          "scatterpolar": [
           {
            "marker": {
             "colorbar": {
              "outlinewidth": 0,
              "ticks": ""
             }
            },
            "type": "scatterpolar"
           }
          ],
          "scatterpolargl": [
           {
            "marker": {
             "colorbar": {
              "outlinewidth": 0,
              "ticks": ""
             }
            },
            "type": "scatterpolargl"
           }
          ],
          "scatterternary": [
           {
            "marker": {
             "colorbar": {
              "outlinewidth": 0,
              "ticks": ""
             }
            },
            "type": "scatterternary"
           }
          ],
          "surface": [
           {
            "colorbar": {
             "outlinewidth": 0,
             "ticks": ""
            },
            "colorscale": [
             [
              0,
              "#0d0887"
             ],
             [
              0.1111111111111111,
              "#46039f"
             ],
             [
              0.2222222222222222,
              "#7201a8"
             ],
             [
              0.3333333333333333,
              "#9c179e"
             ],
             [
              0.4444444444444444,
              "#bd3786"
             ],
             [
              0.5555555555555556,
              "#d8576b"
             ],
             [
              0.6666666666666666,
              "#ed7953"
             ],
             [
              0.7777777777777778,
              "#fb9f3a"
             ],
             [
              0.8888888888888888,
              "#fdca26"
             ],
             [
              1,
              "#f0f921"
             ]
            ],
            "type": "surface"
           }
          ],
          "table": [
           {
            "cells": {
             "fill": {
              "color": "#EBF0F8"
             },
             "line": {
              "color": "white"
             }
            },
            "header": {
             "fill": {
              "color": "#C8D4E3"
             },
             "line": {
              "color": "white"
             }
            },
            "type": "table"
           }
          ]
         },
         "layout": {
          "annotationdefaults": {
           "arrowcolor": "#2a3f5f",
           "arrowhead": 0,
           "arrowwidth": 1
          },
          "autotypenumbers": "strict",
          "coloraxis": {
           "colorbar": {
            "outlinewidth": 0,
            "ticks": ""
           }
          },
          "colorscale": {
           "diverging": [
            [
             0,
             "#8e0152"
            ],
            [
             0.1,
             "#c51b7d"
            ],
            [
             0.2,
             "#de77ae"
            ],
            [
             0.3,
             "#f1b6da"
            ],
            [
             0.4,
             "#fde0ef"
            ],
            [
             0.5,
             "#f7f7f7"
            ],
            [
             0.6,
             "#e6f5d0"
            ],
            [
             0.7,
             "#b8e186"
            ],
            [
             0.8,
             "#7fbc41"
            ],
            [
             0.9,
             "#4d9221"
            ],
            [
             1,
             "#276419"
            ]
           ],
           "sequential": [
            [
             0,
             "#0d0887"
            ],
            [
             0.1111111111111111,
             "#46039f"
            ],
            [
             0.2222222222222222,
             "#7201a8"
            ],
            [
             0.3333333333333333,
             "#9c179e"
            ],
            [
             0.4444444444444444,
             "#bd3786"
            ],
            [
             0.5555555555555556,
             "#d8576b"
            ],
            [
             0.6666666666666666,
             "#ed7953"
            ],
            [
             0.7777777777777778,
             "#fb9f3a"
            ],
            [
             0.8888888888888888,
             "#fdca26"
            ],
            [
             1,
             "#f0f921"
            ]
           ],
           "sequentialminus": [
            [
             0,
             "#0d0887"
            ],
            [
             0.1111111111111111,
             "#46039f"
            ],
            [
             0.2222222222222222,
             "#7201a8"
            ],
            [
             0.3333333333333333,
             "#9c179e"
            ],
            [
             0.4444444444444444,
             "#bd3786"
            ],
            [
             0.5555555555555556,
             "#d8576b"
            ],
            [
             0.6666666666666666,
             "#ed7953"
            ],
            [
             0.7777777777777778,
             "#fb9f3a"
            ],
            [
             0.8888888888888888,
             "#fdca26"
            ],
            [
             1,
             "#f0f921"
            ]
           ]
          },
          "colorway": [
           "#636efa",
           "#EF553B",
           "#00cc96",
           "#ab63fa",
           "#FFA15A",
           "#19d3f3",
           "#FF6692",
           "#B6E880",
           "#FF97FF",
           "#FECB52"
          ],
          "font": {
           "color": "#2a3f5f"
          },
          "geo": {
           "bgcolor": "white",
           "lakecolor": "white",
           "landcolor": "#E5ECF6",
           "showlakes": true,
           "showland": true,
           "subunitcolor": "white"
          },
          "hoverlabel": {
           "align": "left"
          },
          "hovermode": "closest",
          "mapbox": {
           "style": "light"
          },
          "paper_bgcolor": "white",
          "plot_bgcolor": "#E5ECF6",
          "polar": {
           "angularaxis": {
            "gridcolor": "white",
            "linecolor": "white",
            "ticks": ""
           },
           "bgcolor": "#E5ECF6",
           "radialaxis": {
            "gridcolor": "white",
            "linecolor": "white",
            "ticks": ""
           }
          },
          "scene": {
           "xaxis": {
            "backgroundcolor": "#E5ECF6",
            "gridcolor": "white",
            "gridwidth": 2,
            "linecolor": "white",
            "showbackground": true,
            "ticks": "",
            "zerolinecolor": "white"
           },
           "yaxis": {
            "backgroundcolor": "#E5ECF6",
            "gridcolor": "white",
            "gridwidth": 2,
            "linecolor": "white",
            "showbackground": true,
            "ticks": "",
            "zerolinecolor": "white"
           },
           "zaxis": {
            "backgroundcolor": "#E5ECF6",
            "gridcolor": "white",
            "gridwidth": 2,
            "linecolor": "white",
            "showbackground": true,
            "ticks": "",
            "zerolinecolor": "white"
           }
          },
          "shapedefaults": {
           "line": {
            "color": "#2a3f5f"
           }
          },
          "ternary": {
           "aaxis": {
            "gridcolor": "white",
            "linecolor": "white",
            "ticks": ""
           },
           "baxis": {
            "gridcolor": "white",
            "linecolor": "white",
            "ticks": ""
           },
           "bgcolor": "#E5ECF6",
           "caxis": {
            "gridcolor": "white",
            "linecolor": "white",
            "ticks": ""
           }
          },
          "title": {
           "x": 0.05
          },
          "xaxis": {
           "automargin": true,
           "gridcolor": "white",
           "linecolor": "white",
           "ticks": "",
           "title": {
            "standoff": 15
           },
           "zerolinecolor": "white",
           "zerolinewidth": 2
          },
          "yaxis": {
           "automargin": true,
           "gridcolor": "white",
           "linecolor": "white",
           "ticks": "",
           "title": {
            "standoff": 15
           },
           "zerolinecolor": "white",
           "zerolinewidth": 2
          }
         }
        },
        "width": 500,
        "xaxis": {
         "tickmode": "linear",
         "title": {
          "text": "Paraphrase Bucket Size"
         }
        },
        "yaxis": {
         "title": {
          "text": "Percent"
         }
        }
       }
      },
      "text/html": [
       "<div>                            <div id=\"5b634eff-ed70-4ea7-8589-ba254614fca6\" class=\"plotly-graph-div\" style=\"height:500px; width:500px;\"></div>            <script type=\"text/javascript\">                require([\"plotly\"], function(Plotly) {                    window.PLOTLYENV=window.PLOTLYENV || {};                                    if (document.getElementById(\"5b634eff-ed70-4ea7-8589-ba254614fca6\")) {                    Plotly.newPlot(                        \"5b634eff-ed70-4ea7-8589-ba254614fca6\",                        [{\"histnorm\":\"probability\",\"name\":\"\\u03b1-NLI\",\"nbinsx\":9,\"x\":[9,9,7,9,9,9,8,9,9,9,9,9,9,9,9,9,9,9,9,9,9,9,8,9,9,9,9,9,9,6,9,9,9,9,9,6,8,9,4,9,6,9,9,9,4,9,9,9,6,9,9,7,9,9,6,4,9,9,6,9,9,9,9,9,9,8,6,9,9,9,9,9,8,9,9,9,9,9,9,9,9,9,8,9,9,6,6,8,9,6,9,7,9,9,6,9,8,5,8,8,6,6,9,9,9,8,9,7,9,9,7,9,9,9,9,5,9,8,9,7,8,9,9,9,9,9,9,9,9,9,9,9,9,8,6,9,9,8,9,9,9,9,9,5,9,6,8,8,9,8,9,9,7,8,9,7,9,6,8,6,8,9,9,9,9,9,9,9,9,9,8,9,8,9,9,9,8,9,8,9,9,9,6,9,9,9,9,9,9,9,4,9,9,9,9,9,9,6,6,9,9,9,9,9,9,9,9,9,9,9,9,7,9,8,9,9,8,9,9,9,9,9,9,6,6,9,9,9,9,9,9,9,9,9,8,8,9,9,9,9,8,9,9,9,9,5,9,9,9,7],\"type\":\"histogram\"},{\"histnorm\":\"probability\",\"name\":\"\\u03b4-SOCIAL\",\"nbinsx\":9,\"x\":[8,9,6,9,9,6,3,9,6,6,4,6,9,9,8,4,9,6,7,9,9,9,6,9,3,8,2,8,3,8,8,9,3,9,3,6,8,9,6,9,9,8,9,4,6,9,2,9,9,6,6,6,4,9,9,9,9,9,8,9,6,9,9,9,6,9,9,9,7,9,9,9,6,6,9,6,6,5,8,6,7,7,6,9,6,9,9,8,4,7,6,6,9,6,6,5,8,6,7,5,6,9,8,5,9,6,6,6,9,6,8,6,9,9,6,7,8,6,8,5,9,6,6,9,8,6,3,6,6,3,4,5,6,8,9,5,6,7,8,9,9,8,8,5,8,7,5,3,4,7,6,9,9,9,8,8,9,9,7,9,8,9,9,9,6,9,5,6,5,9,9,9,8,9,9,6,5,7,6,6,6,9,9,9,6,9,9,8,6,9,9,9,6,9,9,9,9,9,9,6,7,8,5,6,6,8,6,9,9,9,8,9,6,9,7,9,9,9,8,9,5,6,9,6,9,9,9,6,5,9,9,6,9,9,5,7,9,8,9,9,9,9,9,9,9,6,9,5,7,9],\"type\":\"histogram\"},{\"histnorm\":\"probability\",\"name\":\"\\u03b4-SOCIAL\",\"nbinsx\":9,\"x\":[4,8,6,6,6,7,9,3,6,7,9,6,8,9,4,9,7,9,9,9,9,7,7,5,7,9,9,7,9,6,8,9,8,7,9,8,6,6,9,6,8,8,6,8,9,6,9,3,6,9,8,8,7,6,9,9,7,9,6,8,7,6,7,3,8,7,6,5,8,7,4,9,9,7,9,5,7,9,9,9,9,9,9,9,8,9,9,9,8,9,9,6,9,6,7,9,9,7,9,9,6,9,6,7,9,9,9,9,9,9,9,9,7,9,8,7,9,7,9,9,9,9,9,9,9,9,9,9,9,8,9,9,9,9,5,9,9,7,9,9,9,9,9,9,9,9,8,9,8,9,9,9,9,9,7,9,9,8,8,9,9,9,9,5,9,9,8,9,9,9,6,9,8,7,9,8,8,7,6,9,8,8,9,9,6,7,7,8,7,9,6,7,8,8,9,9,9,8,7,9,7,8,9,9,9,9,7,9,6,9,6,9,8,9,8,9,9,9,8,8,9,8,8,9,9,6,9,6,8,9,9,6,9,9,9,9,6,1,6,7,9,9,9,7,6,9,6,8,9,9],\"type\":\"histogram\"},{\"histnorm\":\"probability\",\"name\":\"\\u03b4-ATOMIC\",\"nbinsx\":9,\"x\":[8,6,6,4,6,6,9,9,6,6,6,7,9,9,9,9,7,5,9,9,9,9,9,2,9,6,9,7,3,9,6,9,3,6,8,7,7,9,9,9,9,9,8,6,9,9,9,9,8,9,8,6,6,6,8,8,9,9,9,6,6,6,9,7,6,8,9,6,6,9,8,9,9,7,8,8,9,7,9,8,6,8,6,7,9,6,9,9,6,8,9,9,8,6,9,9,8,9,6,5,6,9,7,9,6,7,5,6,5,8,6,9,9,5,9,9,6,7,7,9,9,4,9,6,9,9,7,7,9,9,9,7,9,8,4,9,9,9,3,4,9,9,8,7,9,9,8,8,9,5,8,7,9,9,7,6,7,7,5,9,9,6,8,9,9,8,8,6,9,6,9,8,9,9,7,7,6,7,8,9,8,8,9,8,6,8,6,8,7,5,8,9,6,3,5,9,6,9,6,9,8,7,8,9,5,5,5,9,9,9,9,6,6,5,3,8,5,6,5,8,8,7,9,9,6,6,8,4,8,8,6,6,9,9,9,8,8,9,9,9,8,9,8,6,9,8,5,8,8,6],\"type\":\"histogram\"}],                        {\"template\":{\"data\":{\"histogram2dcontour\":[{\"type\":\"histogram2dcontour\",\"colorbar\":{\"outlinewidth\":0,\"ticks\":\"\"},\"colorscale\":[[0.0,\"#0d0887\"],[0.1111111111111111,\"#46039f\"],[0.2222222222222222,\"#7201a8\"],[0.3333333333333333,\"#9c179e\"],[0.4444444444444444,\"#bd3786\"],[0.5555555555555556,\"#d8576b\"],[0.6666666666666666,\"#ed7953\"],[0.7777777777777778,\"#fb9f3a\"],[0.8888888888888888,\"#fdca26\"],[1.0,\"#f0f921\"]]}],\"choropleth\":[{\"type\":\"choropleth\",\"colorbar\":{\"outlinewidth\":0,\"ticks\":\"\"}}],\"histogram2d\":[{\"type\":\"histogram2d\",\"colorbar\":{\"outlinewidth\":0,\"ticks\":\"\"},\"colorscale\":[[0.0,\"#0d0887\"],[0.1111111111111111,\"#46039f\"],[0.2222222222222222,\"#7201a8\"],[0.3333333333333333,\"#9c179e\"],[0.4444444444444444,\"#bd3786\"],[0.5555555555555556,\"#d8576b\"],[0.6666666666666666,\"#ed7953\"],[0.7777777777777778,\"#fb9f3a\"],[0.8888888888888888,\"#fdca26\"],[1.0,\"#f0f921\"]]}],\"heatmap\":[{\"type\":\"heatmap\",\"colorbar\":{\"outlinewidth\":0,\"ticks\":\"\"},\"colorscale\":[[0.0,\"#0d0887\"],[0.1111111111111111,\"#46039f\"],[0.2222222222222222,\"#7201a8\"],[0.3333333333333333,\"#9c179e\"],[0.4444444444444444,\"#bd3786\"],[0.5555555555555556,\"#d8576b\"],[0.6666666666666666,\"#ed7953\"],[0.7777777777777778,\"#fb9f3a\"],[0.8888888888888888,\"#fdca26\"],[1.0,\"#f0f921\"]]}],\"heatmapgl\":[{\"type\":\"heatmapgl\",\"colorbar\":{\"outlinewidth\":0,\"ticks\":\"\"},\"colorscale\":[[0.0,\"#0d0887\"],[0.1111111111111111,\"#46039f\"],[0.2222222222222222,\"#7201a8\"],[0.3333333333333333,\"#9c179e\"],[0.4444444444444444,\"#bd3786\"],[0.5555555555555556,\"#d8576b\"],[0.6666666666666666,\"#ed7953\"],[0.7777777777777778,\"#fb9f3a\"],[0.8888888888888888,\"#fdca26\"],[1.0,\"#f0f921\"]]}],\"contourcarpet\":[{\"type\":\"contourcarpet\",\"colorbar\":{\"outlinewidth\":0,\"ticks\":\"\"}}],\"contour\":[{\"type\":\"contour\",\"colorbar\":{\"outlinewidth\":0,\"ticks\":\"\"},\"colorscale\":[[0.0,\"#0d0887\"],[0.1111111111111111,\"#46039f\"],[0.2222222222222222,\"#7201a8\"],[0.3333333333333333,\"#9c179e\"],[0.4444444444444444,\"#bd3786\"],[0.5555555555555556,\"#d8576b\"],[0.6666666666666666,\"#ed7953\"],[0.7777777777777778,\"#fb9f3a\"],[0.8888888888888888,\"#fdca26\"],[1.0,\"#f0f921\"]]}],\"surface\":[{\"type\":\"surface\",\"colorbar\":{\"outlinewidth\":0,\"ticks\":\"\"},\"colorscale\":[[0.0,\"#0d0887\"],[0.1111111111111111,\"#46039f\"],[0.2222222222222222,\"#7201a8\"],[0.3333333333333333,\"#9c179e\"],[0.4444444444444444,\"#bd3786\"],[0.5555555555555556,\"#d8576b\"],[0.6666666666666666,\"#ed7953\"],[0.7777777777777778,\"#fb9f3a\"],[0.8888888888888888,\"#fdca26\"],[1.0,\"#f0f921\"]]}],\"mesh3d\":[{\"type\":\"mesh3d\",\"colorbar\":{\"outlinewidth\":0,\"ticks\":\"\"}}],\"scatter\":[{\"fillpattern\":{\"fillmode\":\"overlay\",\"size\":10,\"solidity\":0.2},\"type\":\"scatter\"}],\"parcoords\":[{\"type\":\"parcoords\",\"line\":{\"colorbar\":{\"outlinewidth\":0,\"ticks\":\"\"}}}],\"scatterpolargl\":[{\"type\":\"scatterpolargl\",\"marker\":{\"colorbar\":{\"outlinewidth\":0,\"ticks\":\"\"}}}],\"bar\":[{\"error_x\":{\"color\":\"#2a3f5f\"},\"error_y\":{\"color\":\"#2a3f5f\"},\"marker\":{\"line\":{\"color\":\"#E5ECF6\",\"width\":0.5},\"pattern\":{\"fillmode\":\"overlay\",\"size\":10,\"solidity\":0.2}},\"type\":\"bar\"}],\"scattergeo\":[{\"type\":\"scattergeo\",\"marker\":{\"colorbar\":{\"outlinewidth\":0,\"ticks\":\"\"}}}],\"scatterpolar\":[{\"type\":\"scatterpolar\",\"marker\":{\"colorbar\":{\"outlinewidth\":0,\"ticks\":\"\"}}}],\"histogram\":[{\"marker\":{\"pattern\":{\"fillmode\":\"overlay\",\"size\":10,\"solidity\":0.2}},\"type\":\"histogram\"}],\"scattergl\":[{\"type\":\"scattergl\",\"marker\":{\"colorbar\":{\"outlinewidth\":0,\"ticks\":\"\"}}}],\"scatter3d\":[{\"type\":\"scatter3d\",\"line\":{\"colorbar\":{\"outlinewidth\":0,\"ticks\":\"\"}},\"marker\":{\"colorbar\":{\"outlinewidth\":0,\"ticks\":\"\"}}}],\"scattermapbox\":[{\"type\":\"scattermapbox\",\"marker\":{\"colorbar\":{\"outlinewidth\":0,\"ticks\":\"\"}}}],\"scatterternary\":[{\"type\":\"scatterternary\",\"marker\":{\"colorbar\":{\"outlinewidth\":0,\"ticks\":\"\"}}}],\"scattercarpet\":[{\"type\":\"scattercarpet\",\"marker\":{\"colorbar\":{\"outlinewidth\":0,\"ticks\":\"\"}}}],\"carpet\":[{\"aaxis\":{\"endlinecolor\":\"#2a3f5f\",\"gridcolor\":\"white\",\"linecolor\":\"white\",\"minorgridcolor\":\"white\",\"startlinecolor\":\"#2a3f5f\"},\"baxis\":{\"endlinecolor\":\"#2a3f5f\",\"gridcolor\":\"white\",\"linecolor\":\"white\",\"minorgridcolor\":\"white\",\"startlinecolor\":\"#2a3f5f\"},\"type\":\"carpet\"}],\"table\":[{\"cells\":{\"fill\":{\"color\":\"#EBF0F8\"},\"line\":{\"color\":\"white\"}},\"header\":{\"fill\":{\"color\":\"#C8D4E3\"},\"line\":{\"color\":\"white\"}},\"type\":\"table\"}],\"barpolar\":[{\"marker\":{\"line\":{\"color\":\"#E5ECF6\",\"width\":0.5},\"pattern\":{\"fillmode\":\"overlay\",\"size\":10,\"solidity\":0.2}},\"type\":\"barpolar\"}],\"pie\":[{\"automargin\":true,\"type\":\"pie\"}]},\"layout\":{\"autotypenumbers\":\"strict\",\"colorway\":[\"#636efa\",\"#EF553B\",\"#00cc96\",\"#ab63fa\",\"#FFA15A\",\"#19d3f3\",\"#FF6692\",\"#B6E880\",\"#FF97FF\",\"#FECB52\"],\"font\":{\"color\":\"#2a3f5f\"},\"hovermode\":\"closest\",\"hoverlabel\":{\"align\":\"left\"},\"paper_bgcolor\":\"white\",\"plot_bgcolor\":\"#E5ECF6\",\"polar\":{\"bgcolor\":\"#E5ECF6\",\"angularaxis\":{\"gridcolor\":\"white\",\"linecolor\":\"white\",\"ticks\":\"\"},\"radialaxis\":{\"gridcolor\":\"white\",\"linecolor\":\"white\",\"ticks\":\"\"}},\"ternary\":{\"bgcolor\":\"#E5ECF6\",\"aaxis\":{\"gridcolor\":\"white\",\"linecolor\":\"white\",\"ticks\":\"\"},\"baxis\":{\"gridcolor\":\"white\",\"linecolor\":\"white\",\"ticks\":\"\"},\"caxis\":{\"gridcolor\":\"white\",\"linecolor\":\"white\",\"ticks\":\"\"}},\"coloraxis\":{\"colorbar\":{\"outlinewidth\":0,\"ticks\":\"\"}},\"colorscale\":{\"sequential\":[[0.0,\"#0d0887\"],[0.1111111111111111,\"#46039f\"],[0.2222222222222222,\"#7201a8\"],[0.3333333333333333,\"#9c179e\"],[0.4444444444444444,\"#bd3786\"],[0.5555555555555556,\"#d8576b\"],[0.6666666666666666,\"#ed7953\"],[0.7777777777777778,\"#fb9f3a\"],[0.8888888888888888,\"#fdca26\"],[1.0,\"#f0f921\"]],\"sequentialminus\":[[0.0,\"#0d0887\"],[0.1111111111111111,\"#46039f\"],[0.2222222222222222,\"#7201a8\"],[0.3333333333333333,\"#9c179e\"],[0.4444444444444444,\"#bd3786\"],[0.5555555555555556,\"#d8576b\"],[0.6666666666666666,\"#ed7953\"],[0.7777777777777778,\"#fb9f3a\"],[0.8888888888888888,\"#fdca26\"],[1.0,\"#f0f921\"]],\"diverging\":[[0,\"#8e0152\"],[0.1,\"#c51b7d\"],[0.2,\"#de77ae\"],[0.3,\"#f1b6da\"],[0.4,\"#fde0ef\"],[0.5,\"#f7f7f7\"],[0.6,\"#e6f5d0\"],[0.7,\"#b8e186\"],[0.8,\"#7fbc41\"],[0.9,\"#4d9221\"],[1,\"#276419\"]]},\"xaxis\":{\"gridcolor\":\"white\",\"linecolor\":\"white\",\"ticks\":\"\",\"title\":{\"standoff\":15},\"zerolinecolor\":\"white\",\"automargin\":true,\"zerolinewidth\":2},\"yaxis\":{\"gridcolor\":\"white\",\"linecolor\":\"white\",\"ticks\":\"\",\"title\":{\"standoff\":15},\"zerolinecolor\":\"white\",\"automargin\":true,\"zerolinewidth\":2},\"scene\":{\"xaxis\":{\"backgroundcolor\":\"#E5ECF6\",\"gridcolor\":\"white\",\"linecolor\":\"white\",\"showbackground\":true,\"ticks\":\"\",\"zerolinecolor\":\"white\",\"gridwidth\":2},\"yaxis\":{\"backgroundcolor\":\"#E5ECF6\",\"gridcolor\":\"white\",\"linecolor\":\"white\",\"showbackground\":true,\"ticks\":\"\",\"zerolinecolor\":\"white\",\"gridwidth\":2},\"zaxis\":{\"backgroundcolor\":\"#E5ECF6\",\"gridcolor\":\"white\",\"linecolor\":\"white\",\"showbackground\":true,\"ticks\":\"\",\"zerolinecolor\":\"white\",\"gridwidth\":2}},\"shapedefaults\":{\"line\":{\"color\":\"#2a3f5f\"}},\"annotationdefaults\":{\"arrowcolor\":\"#2a3f5f\",\"arrowhead\":0,\"arrowwidth\":1},\"geo\":{\"bgcolor\":\"white\",\"landcolor\":\"#E5ECF6\",\"subunitcolor\":\"white\",\"showland\":true,\"showlakes\":true,\"lakecolor\":\"white\"},\"title\":{\"x\":0.05},\"mapbox\":{\"style\":\"light\"}}},\"margin\":{\"l\":50,\"r\":50,\"b\":100,\"t\":100,\"pad\":0},\"legend\":{\"title\":{\"text\":\"Data Source\"},\"yanchor\":\"top\",\"y\":0.95,\"xanchor\":\"left\",\"x\":0.05},\"autosize\":false,\"width\":500,\"height\":500,\"xaxis\":{\"title\":{\"text\":\"Paraphrase Bucket Size\"},\"tickmode\":\"linear\"},\"yaxis\":{\"title\":{\"text\":\"Percent\"}}},                        {\"responsive\": true}                    ).then(function(){\n",
       "                            \n",
       "var gd = document.getElementById('5b634eff-ed70-4ea7-8589-ba254614fca6');\n",
       "var x = new MutationObserver(function (mutations, observer) {{\n",
       "        var display = window.getComputedStyle(gd).display;\n",
       "        if (!display || display === 'none') {{\n",
       "            console.log([gd, 'removed!']);\n",
       "            Plotly.purge(gd);\n",
       "            observer.disconnect();\n",
       "        }}\n",
       "}});\n",
       "\n",
       "// Listen for the removal of the full notebook cells\n",
       "var notebookContainer = gd.closest('#notebook-container');\n",
       "if (notebookContainer) {{\n",
       "    x.observe(notebookContainer, {childList: true});\n",
       "}}\n",
       "\n",
       "// Listen for the clearing of the current output cell\n",
       "var outputEl = gd.closest('.output');\n",
       "if (outputEl) {{\n",
       "    x.observe(outputEl, {childList: true});\n",
       "}}\n",
       "\n",
       "                        })                };                });            </script>        </div>"
      ]
     },
     "metadata": {},
     "output_type": "display_data"
    }
   ],
   "source": [
    "from plotly.subplots import make_subplots\n",
    "import plotly.graph_objects as go\n",
    "\n",
    "fig = go.Figure()\n",
    "\n",
    "\n",
    "for i, (name, dataset) in enumerate(para_nlu.items()):\n",
    "    bucket_sizes = [len(v) for v in dataset.values()]\n",
    "    total_paraphrases = sum(bucket_sizes)\n",
    "    print(name, total_paraphrases)\n",
    "    print('mean bucket size:', np.mean(bucket_sizes), 'std:', np.std(bucket_sizes))\n",
    "    fig.add_trace(go.Histogram(x=bucket_sizes, histnorm='probability', name=para_nlu_pretty_names[name], nbinsx=9))\n",
    "\n",
    "\n",
    "fig.update_layout(\n",
    "    autosize=False,\n",
    "    width=500,\n",
    "    height=500,\n",
    "    margin=dict(\n",
    "        l=50,\n",
    "        r=50,\n",
    "        b=100,\n",
    "        t=100,\n",
    "        pad=0\n",
    "    ),\n",
    "    xaxis_title=\"Paraphrase Bucket Size\",\n",
    "    yaxis_title=\"Percent\",\n",
    "    legend_title=\"Data Source\",\n",
    "    legend=dict(\n",
    "        yanchor=\"top\",\n",
    "        y=0.95,\n",
    "        xanchor=\"left\",\n",
    "        x=0.05\n",
    "    )\n",
    ")\n",
    "\n",
    "\n",
    "fig.update_xaxes(tickmode='linear')\n",
    "fig.write_image(f\"/Users/nehasrikanth/Documents/paraphrase-nlu/experiments/data_characterization/data_size_hist.pdf\")\n",
    "fig.show()"
   ]
  },
  {
   "cell_type": "code",
   "execution_count": null,
   "id": "13683bba",
   "metadata": {},
   "outputs": [],
   "source": []
  }
 ],
 "metadata": {
  "kernelspec": {
   "display_name": "Python [conda env:para-nlu]",
   "language": "python",
   "name": "conda-env-para-nlu-py"
  },
  "language_info": {
   "codemirror_mode": {
    "name": "ipython",
    "version": 3
   },
   "file_extension": ".py",
   "mimetype": "text/x-python",
   "name": "python",
   "nbconvert_exporter": "python",
   "pygments_lexer": "ipython3",
   "version": "3.8.13"
  }
 },
 "nbformat": 4,
 "nbformat_minor": 5
}
